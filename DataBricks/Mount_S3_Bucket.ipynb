{
 "cells": [
  {
   "cell_type": "code",
   "execution_count": 0,
   "metadata": {
    "application/vnd.databricks.v1+cell": {
     "cellMetadata": {
      "byteLimit": 2048000,
      "rowLimit": 10000
     },
     "inputWidgets": {},
     "nuid": "995780b8-7a30-4baa-8218-2befeeadcd51",
     "showTitle": false,
     "title": ""
    }
   },
   "outputs": [
    {
     "output_type": "display_data",
     "data": {
      "text/html": [
       "<style scoped>\n",
       "  .ansiout {\n",
       "    display: block;\n",
       "    unicode-bidi: embed;\n",
       "    white-space: pre-wrap;\n",
       "    word-wrap: break-word;\n",
       "    word-break: break-all;\n",
       "    font-family: \"Source Code Pro\", \"Menlo\", monospace;;\n",
       "    font-size: 13px;\n",
       "    color: #555;\n",
       "    margin-left: 4px;\n",
       "    line-height: 19px;\n",
       "  }\n",
       "</style>\n",
       "<div class=\"ansiout\"></div>"
      ]
     },
     "metadata": {
      "application/vnd.databricks.v1+output": {
       "addedWidgets": {},
       "arguments": {},
       "data": "<div class=\"ansiout\"></div>",
       "datasetInfos": [],
       "metadata": {},
       "removedWidgets": [],
       "type": "html"
      }
     },
     "output_type": "display_data"
    }
   ],
   "source": [
    "# pyspark functions\n",
    "from pyspark.sql.functions import *\n",
    "# URL processing\n",
    "import urllib"
   ]
  },
  {
   "cell_type": "code",
   "execution_count": 0,
   "metadata": {
    "application/vnd.databricks.v1+cell": {
     "cellMetadata": {
      "byteLimit": 2048000,
      "rowLimit": 10000
     },
     "inputWidgets": {},
     "nuid": "a1bdbc57-4542-44b1-b750-b5fed4ea9ef4",
     "showTitle": false,
     "title": ""
    }
   },
   "outputs": [
    {
     "output_type": "display_data",
     "data": {
      "text/html": [
       "<style scoped>\n",
       "  .ansiout {\n",
       "    display: block;\n",
       "    unicode-bidi: embed;\n",
       "    white-space: pre-wrap;\n",
       "    word-wrap: break-word;\n",
       "    word-break: break-all;\n",
       "    font-family: \"Source Code Pro\", \"Menlo\", monospace;;\n",
       "    font-size: 13px;\n",
       "    color: #555;\n",
       "    margin-left: 4px;\n",
       "    line-height: 19px;\n",
       "  }\n",
       "</style>\n",
       "<div class=\"ansiout\"></div>"
      ]
     },
     "metadata": {
      "application/vnd.databricks.v1+output": {
       "addedWidgets": {},
       "arguments": {},
       "data": "<div class=\"ansiout\"></div>",
       "datasetInfos": [],
       "metadata": {},
       "removedWidgets": [],
       "type": "html"
      }
     },
     "output_type": "display_data"
    }
   ],
   "source": [
    "# Specify file type to be csv\n",
    "file_type = \"csv\"\n",
    "# Indicates file has first row as the header\n",
    "first_row_is_header = \"true\"\n",
    "# Indicates file has comma as the delimeter\n",
    "delimiter = \",\"\n",
    "# Read the CSV file to spark dataframe\n",
    "aws_keys_df = spark.read.format(file_type)\\\n",
    ".option(\"header\", first_row_is_header)\\\n",
    ".option(\"sep\", delimiter)\\\n",
    ".load(\"/FileStore/tables/authentication_credentials.csv\")"
   ]
  },
  {
   "cell_type": "code",
   "execution_count": 0,
   "metadata": {
    "application/vnd.databricks.v1+cell": {
     "cellMetadata": {
      "byteLimit": 2048000,
      "rowLimit": 10000
     },
     "inputWidgets": {},
     "nuid": "1ee4512c-adda-4c64-b6e2-7eadf51f62ae",
     "showTitle": false,
     "title": ""
    }
   },
   "outputs": [
    {
     "output_type": "display_data",
     "data": {
      "text/html": [
       "<style scoped>\n",
       "  .ansiout {\n",
       "    display: block;\n",
       "    unicode-bidi: embed;\n",
       "    white-space: pre-wrap;\n",
       "    word-wrap: break-word;\n",
       "    word-break: break-all;\n",
       "    font-family: \"Source Code Pro\", \"Menlo\", monospace;;\n",
       "    font-size: 13px;\n",
       "    color: #555;\n",
       "    margin-left: 4px;\n",
       "    line-height: 19px;\n",
       "  }\n",
       "</style>\n",
       "<div class=\"ansiout\"></div>"
      ]
     },
     "metadata": {
      "application/vnd.databricks.v1+output": {
       "addedWidgets": {},
       "arguments": {},
       "data": "<div class=\"ansiout\"></div>",
       "datasetInfos": [],
       "metadata": {},
       "removedWidgets": [],
       "type": "html"
      }
     },
     "output_type": "display_data"
    }
   ],
   "source": [
    "# Get the AWS access key and secret key from the spark dataframe\n",
    "ACCESS_KEY = aws_keys_df.where(col('User name')=='databricks-user').select('Access key ID').collect()[0]['Access key ID']\n",
    "SECRET_KEY = aws_keys_df.where(col('User name')=='databricks-user').select('Secret access key').collect()[0]['Secret access key']\n",
    "# Encode the secrete key\n",
    "ENCODED_SECRET_KEY = urllib.parse.quote(string=SECRET_KEY, safe=\"\")"
   ]
  },
  {
   "cell_type": "code",
   "execution_count": 0,
   "metadata": {
    "application/vnd.databricks.v1+cell": {
     "cellMetadata": {
      "byteLimit": 2048000,
      "rowLimit": 10000
     },
     "inputWidgets": {},
     "nuid": "5f60e687-34b1-4e96-b4f0-170e8d3c6dc0",
     "showTitle": false,
     "title": ""
    }
   },
   "outputs": [
    {
     "output_type": "display_data",
     "data": {
      "text/html": [
       "<style scoped>\n",
       "  .ansiout {\n",
       "    display: block;\n",
       "    unicode-bidi: embed;\n",
       "    white-space: pre-wrap;\n",
       "    word-wrap: break-word;\n",
       "    word-break: break-all;\n",
       "    font-family: \"Source Code Pro\", \"Menlo\", monospace;;\n",
       "    font-size: 13px;\n",
       "    color: #555;\n",
       "    margin-left: 4px;\n",
       "    line-height: 19px;\n",
       "  }\n",
       "</style>\n",
       "<div class=\"ansiout\">Out[7]: True</div>"
      ]
     },
     "metadata": {
      "application/vnd.databricks.v1+output": {
       "addedWidgets": {},
       "arguments": {},
       "data": "<div class=\"ansiout\">Out[7]: True</div>",
       "datasetInfos": [],
       "metadata": {},
       "removedWidgets": [],
       "type": "html"
      }
     },
     "output_type": "display_data"
    }
   ],
   "source": [
    "# AWS S3 bucket name\n",
    "AWS_S3_BUCKET = \"user-12d4ce482aeb-bucket\"\n",
    "# Mount name for the bucket\n",
    "MOUNT_NAME = \"/mnt/aws_data\"\n",
    "# Source url\n",
    "SOURCE_URL = \"s3n://{0}:{1}@{2}\".format(ACCESS_KEY, ENCODED_SECRET_KEY, AWS_S3_BUCKET)\n",
    "# Mount the drive\n",
    "dbutils.fs.mount(SOURCE_URL, MOUNT_NAME)"
   ]
  },
  {
   "cell_type": "code",
   "execution_count": 0,
   "metadata": {
    "application/vnd.databricks.v1+cell": {
     "cellMetadata": {
      "byteLimit": 2048000,
      "rowLimit": 10000
     },
     "inputWidgets": {},
     "nuid": "bb9c9460-5f62-480d-b4a9-d8967c6ef8a5",
     "showTitle": false,
     "title": ""
    }
   },
   "outputs": [
    {
     "output_type": "display_data",
     "data": {
      "text/html": [
       "<style scoped>\n",
       "  .table-result-container {\n",
       "    max-height: 300px;\n",
       "    overflow: auto;\n",
       "  }\n",
       "  table, th, td {\n",
       "    border: 1px solid black;\n",
       "    border-collapse: collapse;\n",
       "  }\n",
       "  th, td {\n",
       "    padding: 5px;\n",
       "  }\n",
       "  th {\n",
       "    text-align: left;\n",
       "  }\n",
       "</style><div class='table-result-container'><table class='table-result'><thead style='background-color: white'><tr><th>path</th><th>name</th><th>size</th><th>modificationTime</th></tr></thead><tbody><tr><td>dbfs:/mnt/aws_data/topics/12d4ce482aeb.geo/partition=0/12d4ce482aeb.geo+0+0000000002.json</td><td>12d4ce482aeb.geo+0+0000000002.json</td><td>114</td><td>1696863146000</td></tr><tr><td>dbfs:/mnt/aws_data/topics/12d4ce482aeb.geo/partition=0/12d4ce482aeb.geo+0+0000000003.json</td><td>12d4ce482aeb.geo+0+0000000003.json</td><td>108</td><td>1696863437000</td></tr><tr><td>dbfs:/mnt/aws_data/topics/12d4ce482aeb.geo/partition=0/12d4ce482aeb.geo+0+0000000004.json</td><td>12d4ce482aeb.geo+0+0000000004.json</td><td>108</td><td>1696863439000</td></tr><tr><td>dbfs:/mnt/aws_data/topics/12d4ce482aeb.geo/partition=0/12d4ce482aeb.geo+0+0000000005.json</td><td>12d4ce482aeb.geo+0+0000000005.json</td><td>108</td><td>1696863441000</td></tr><tr><td>dbfs:/mnt/aws_data/topics/12d4ce482aeb.geo/partition=0/12d4ce482aeb.geo+0+0000000006.json</td><td>12d4ce482aeb.geo+0+0000000006.json</td><td>113</td><td>1696863443000</td></tr><tr><td>dbfs:/mnt/aws_data/topics/12d4ce482aeb.geo/partition=0/12d4ce482aeb.geo+0+0000000007.json</td><td>12d4ce482aeb.geo+0+0000000007.json</td><td>105</td><td>1696863444000</td></tr><tr><td>dbfs:/mnt/aws_data/topics/12d4ce482aeb.geo/partition=0/12d4ce482aeb.geo+0+0000000008.json</td><td>12d4ce482aeb.geo+0+0000000008.json</td><td>108</td><td>1696863666000</td></tr><tr><td>dbfs:/mnt/aws_data/topics/12d4ce482aeb.geo/partition=0/12d4ce482aeb.geo+0+0000000009.json</td><td>12d4ce482aeb.geo+0+0000000009.json</td><td>108</td><td>1696863668000</td></tr><tr><td>dbfs:/mnt/aws_data/topics/12d4ce482aeb.geo/partition=0/12d4ce482aeb.geo+0+0000000010.json</td><td>12d4ce482aeb.geo+0+0000000010.json</td><td>108</td><td>1696863670000</td></tr><tr><td>dbfs:/mnt/aws_data/topics/12d4ce482aeb.geo/partition=0/12d4ce482aeb.geo+0+0000000011.json</td><td>12d4ce482aeb.geo+0+0000000011.json</td><td>113</td><td>1696863672000</td></tr><tr><td>dbfs:/mnt/aws_data/topics/12d4ce482aeb.geo/partition=0/12d4ce482aeb.geo+0+0000000012.json</td><td>12d4ce482aeb.geo+0+0000000012.json</td><td>105</td><td>1696863673000</td></tr><tr><td>dbfs:/mnt/aws_data/topics/12d4ce482aeb.geo/partition=0/12d4ce482aeb.geo+0+0000000013.json</td><td>12d4ce482aeb.geo+0+0000000013.json</td><td>107</td><td>1696863674000</td></tr><tr><td>dbfs:/mnt/aws_data/topics/12d4ce482aeb.geo/partition=0/12d4ce482aeb.geo+0+0000000014.json</td><td>12d4ce482aeb.geo+0+0000000014.json</td><td>113</td><td>1696863676000</td></tr><tr><td>dbfs:/mnt/aws_data/topics/12d4ce482aeb.geo/partition=0/12d4ce482aeb.geo+0+0000000015.json</td><td>12d4ce482aeb.geo+0+0000000015.json</td><td>125</td><td>1696863676000</td></tr><tr><td>dbfs:/mnt/aws_data/topics/12d4ce482aeb.geo/partition=0/12d4ce482aeb.geo+0+0000000016.json</td><td>12d4ce482aeb.geo+0+0000000016.json</td><td>109</td><td>1696863677000</td></tr><tr><td>dbfs:/mnt/aws_data/topics/12d4ce482aeb.geo/partition=0/12d4ce482aeb.geo+0+0000000017.json</td><td>12d4ce482aeb.geo+0+0000000017.json</td><td>111</td><td>1696863678000</td></tr><tr><td>dbfs:/mnt/aws_data/topics/12d4ce482aeb.geo/partition=0/12d4ce482aeb.geo+0+0000000018.json</td><td>12d4ce482aeb.geo+0+0000000018.json</td><td>114</td><td>1696863679000</td></tr><tr><td>dbfs:/mnt/aws_data/topics/12d4ce482aeb.geo/partition=0/12d4ce482aeb.geo+0+0000000019.json</td><td>12d4ce482aeb.geo+0+0000000019.json</td><td>108</td><td>1696863680000</td></tr><tr><td>dbfs:/mnt/aws_data/topics/12d4ce482aeb.geo/partition=0/12d4ce482aeb.geo+0+0000000020.json</td><td>12d4ce482aeb.geo+0+0000000020.json</td><td>109</td><td>1696863682000</td></tr><tr><td>dbfs:/mnt/aws_data/topics/12d4ce482aeb.geo/partition=0/12d4ce482aeb.geo+0+0000000021.json</td><td>12d4ce482aeb.geo+0+0000000021.json</td><td>109</td><td>1696863684000</td></tr><tr><td>dbfs:/mnt/aws_data/topics/12d4ce482aeb.geo/partition=0/12d4ce482aeb.geo+0+0000000022.json</td><td>12d4ce482aeb.geo+0+0000000022.json</td><td>106</td><td>1696863685000</td></tr><tr><td>dbfs:/mnt/aws_data/topics/12d4ce482aeb.geo/partition=0/12d4ce482aeb.geo+0+0000000023.json</td><td>12d4ce482aeb.geo+0+0000000023.json</td><td>111</td><td>1696863687000</td></tr><tr><td>dbfs:/mnt/aws_data/topics/12d4ce482aeb.geo/partition=0/12d4ce482aeb.geo+0+0000000024.json</td><td>12d4ce482aeb.geo+0+0000000024.json</td><td>109</td><td>1696863688000</td></tr><tr><td>dbfs:/mnt/aws_data/topics/12d4ce482aeb.geo/partition=0/12d4ce482aeb.geo+0+0000000025.json</td><td>12d4ce482aeb.geo+0+0000000025.json</td><td>107</td><td>1696863689000</td></tr><tr><td>dbfs:/mnt/aws_data/topics/12d4ce482aeb.geo/partition=0/12d4ce482aeb.geo+0+0000000026.json</td><td>12d4ce482aeb.geo+0+0000000026.json</td><td>109</td><td>1696863690000</td></tr><tr><td>dbfs:/mnt/aws_data/topics/12d4ce482aeb.geo/partition=0/12d4ce482aeb.geo+0+0000000027.json</td><td>12d4ce482aeb.geo+0+0000000027.json</td><td>145</td><td>1696863692000</td></tr><tr><td>dbfs:/mnt/aws_data/topics/12d4ce482aeb.geo/partition=0/12d4ce482aeb.geo+0+0000000028.json</td><td>12d4ce482aeb.geo+0+0000000028.json</td><td>107</td><td>1696863692000</td></tr><tr><td>dbfs:/mnt/aws_data/topics/12d4ce482aeb.geo/partition=0/12d4ce482aeb.geo+0+0000000029.json</td><td>12d4ce482aeb.geo+0+0000000029.json</td><td>110</td><td>1696863693000</td></tr><tr><td>dbfs:/mnt/aws_data/topics/12d4ce482aeb.geo/partition=0/12d4ce482aeb.geo+0+0000000030.json</td><td>12d4ce482aeb.geo+0+0000000030.json</td><td>110</td><td>1696863694000</td></tr><tr><td>dbfs:/mnt/aws_data/topics/12d4ce482aeb.geo/partition=0/12d4ce482aeb.geo+0+0000000031.json</td><td>12d4ce482aeb.geo+0+0000000031.json</td><td>123</td><td>1696863696000</td></tr><tr><td>dbfs:/mnt/aws_data/topics/12d4ce482aeb.geo/partition=0/12d4ce482aeb.geo+0+0000000032.json</td><td>12d4ce482aeb.geo+0+0000000032.json</td><td>118</td><td>1696863697000</td></tr><tr><td>dbfs:/mnt/aws_data/topics/12d4ce482aeb.geo/partition=0/12d4ce482aeb.geo+0+0000000033.json</td><td>12d4ce482aeb.geo+0+0000000033.json</td><td>108</td><td>1696863698000</td></tr><tr><td>dbfs:/mnt/aws_data/topics/12d4ce482aeb.geo/partition=0/12d4ce482aeb.geo+0+0000000034.json</td><td>12d4ce482aeb.geo+0+0000000034.json</td><td>105</td><td>1696863699000</td></tr><tr><td>dbfs:/mnt/aws_data/topics/12d4ce482aeb.geo/partition=0/12d4ce482aeb.geo+0+0000000035.json</td><td>12d4ce482aeb.geo+0+0000000035.json</td><td>110</td><td>1696863701000</td></tr><tr><td>dbfs:/mnt/aws_data/topics/12d4ce482aeb.geo/partition=0/12d4ce482aeb.geo+0+0000000036.json</td><td>12d4ce482aeb.geo+0+0000000036.json</td><td>109</td><td>1696863703000</td></tr><tr><td>dbfs:/mnt/aws_data/topics/12d4ce482aeb.geo/partition=0/12d4ce482aeb.geo+0+0000000037.json</td><td>12d4ce482aeb.geo+0+0000000037.json</td><td>120</td><td>1696863705000</td></tr><tr><td>dbfs:/mnt/aws_data/topics/12d4ce482aeb.geo/partition=0/12d4ce482aeb.geo+0+0000000038.json</td><td>12d4ce482aeb.geo+0+0000000038.json</td><td>104</td><td>1696863707000</td></tr><tr><td>dbfs:/mnt/aws_data/topics/12d4ce482aeb.geo/partition=0/12d4ce482aeb.geo+0+0000000039.json</td><td>12d4ce482aeb.geo+0+0000000039.json</td><td>106</td><td>1696863708000</td></tr><tr><td>dbfs:/mnt/aws_data/topics/12d4ce482aeb.geo/partition=0/12d4ce482aeb.geo+0+0000000040.json</td><td>12d4ce482aeb.geo+0+0000000040.json</td><td>109</td><td>1696863710000</td></tr><tr><td>dbfs:/mnt/aws_data/topics/12d4ce482aeb.geo/partition=0/12d4ce482aeb.geo+0+0000000041.json</td><td>12d4ce482aeb.geo+0+0000000041.json</td><td>106</td><td>1696863710000</td></tr><tr><td>dbfs:/mnt/aws_data/topics/12d4ce482aeb.geo/partition=0/12d4ce482aeb.geo+0+0000000042.json</td><td>12d4ce482aeb.geo+0+0000000042.json</td><td>108</td><td>1696863712000</td></tr><tr><td>dbfs:/mnt/aws_data/topics/12d4ce482aeb.geo/partition=0/12d4ce482aeb.geo+0+0000000043.json</td><td>12d4ce482aeb.geo+0+0000000043.json</td><td>108</td><td>1696863714000</td></tr><tr><td>dbfs:/mnt/aws_data/topics/12d4ce482aeb.geo/partition=0/12d4ce482aeb.geo+0+0000000044.json</td><td>12d4ce482aeb.geo+0+0000000044.json</td><td>108</td><td>1696863715000</td></tr><tr><td>dbfs:/mnt/aws_data/topics/12d4ce482aeb.geo/partition=0/12d4ce482aeb.geo+0+0000000045.json</td><td>12d4ce482aeb.geo+0+0000000045.json</td><td>104</td><td>1696863717000</td></tr><tr><td>dbfs:/mnt/aws_data/topics/12d4ce482aeb.geo/partition=0/12d4ce482aeb.geo+0+0000000046.json</td><td>12d4ce482aeb.geo+0+0000000046.json</td><td>111</td><td>1696863718000</td></tr><tr><td>dbfs:/mnt/aws_data/topics/12d4ce482aeb.geo/partition=0/12d4ce482aeb.geo+0+0000000047.json</td><td>12d4ce482aeb.geo+0+0000000047.json</td><td>105</td><td>1696863719000</td></tr><tr><td>dbfs:/mnt/aws_data/topics/12d4ce482aeb.geo/partition=0/12d4ce482aeb.geo+0+0000000048.json</td><td>12d4ce482aeb.geo+0+0000000048.json</td><td>108</td><td>1696863719000</td></tr><tr><td>dbfs:/mnt/aws_data/topics/12d4ce482aeb.geo/partition=0/12d4ce482aeb.geo+0+0000000049.json</td><td>12d4ce482aeb.geo+0+0000000049.json</td><td>122</td><td>1696863720000</td></tr><tr><td>dbfs:/mnt/aws_data/topics/12d4ce482aeb.geo/partition=0/12d4ce482aeb.geo+0+0000000050.json</td><td>12d4ce482aeb.geo+0+0000000050.json</td><td>110</td><td>1696863722000</td></tr><tr><td>dbfs:/mnt/aws_data/topics/12d4ce482aeb.geo/partition=0/12d4ce482aeb.geo+0+0000000051.json</td><td>12d4ce482aeb.geo+0+0000000051.json</td><td>108</td><td>1696863724000</td></tr><tr><td>dbfs:/mnt/aws_data/topics/12d4ce482aeb.geo/partition=0/12d4ce482aeb.geo+0+0000000052.json</td><td>12d4ce482aeb.geo+0+0000000052.json</td><td>115</td><td>1696863725000</td></tr><tr><td>dbfs:/mnt/aws_data/topics/12d4ce482aeb.geo/partition=0/12d4ce482aeb.geo+0+0000000053.json</td><td>12d4ce482aeb.geo+0+0000000053.json</td><td>120</td><td>1696863726000</td></tr><tr><td>dbfs:/mnt/aws_data/topics/12d4ce482aeb.geo/partition=0/12d4ce482aeb.geo+0+0000000054.json</td><td>12d4ce482aeb.geo+0+0000000054.json</td><td>115</td><td>1696863726000</td></tr><tr><td>dbfs:/mnt/aws_data/topics/12d4ce482aeb.geo/partition=0/12d4ce482aeb.geo+0+0000000055.json</td><td>12d4ce482aeb.geo+0+0000000055.json</td><td>107</td><td>1696863727000</td></tr><tr><td>dbfs:/mnt/aws_data/topics/12d4ce482aeb.geo/partition=0/12d4ce482aeb.geo+0+0000000056.json</td><td>12d4ce482aeb.geo+0+0000000056.json</td><td>117</td><td>1696863729000</td></tr><tr><td>dbfs:/mnt/aws_data/topics/12d4ce482aeb.geo/partition=0/12d4ce482aeb.geo+0+0000000057.json</td><td>12d4ce482aeb.geo+0+0000000057.json</td><td>107</td><td>1696863731000</td></tr><tr><td>dbfs:/mnt/aws_data/topics/12d4ce482aeb.geo/partition=0/12d4ce482aeb.geo+0+0000000058.json</td><td>12d4ce482aeb.geo+0+0000000058.json</td><td>110</td><td>1696863733000</td></tr><tr><td>dbfs:/mnt/aws_data/topics/12d4ce482aeb.geo/partition=0/12d4ce482aeb.geo+0+0000000059.json</td><td>12d4ce482aeb.geo+0+0000000059.json</td><td>110</td><td>1696863734000</td></tr><tr><td>dbfs:/mnt/aws_data/topics/12d4ce482aeb.geo/partition=0/12d4ce482aeb.geo+0+0000000060.json</td><td>12d4ce482aeb.geo+0+0000000060.json</td><td>107</td><td>1696863735000</td></tr><tr><td>dbfs:/mnt/aws_data/topics/12d4ce482aeb.geo/partition=0/12d4ce482aeb.geo+0+0000000061.json</td><td>12d4ce482aeb.geo+0+0000000061.json</td><td>110</td><td>1696863737000</td></tr><tr><td>dbfs:/mnt/aws_data/topics/12d4ce482aeb.geo/partition=0/12d4ce482aeb.geo+0+0000000062.json</td><td>12d4ce482aeb.geo+0+0000000062.json</td><td>110</td><td>1696863737000</td></tr><tr><td>dbfs:/mnt/aws_data/topics/12d4ce482aeb.geo/partition=0/12d4ce482aeb.geo+0+0000000063.json</td><td>12d4ce482aeb.geo+0+0000000063.json</td><td>107</td><td>1696863738000</td></tr><tr><td>dbfs:/mnt/aws_data/topics/12d4ce482aeb.geo/partition=0/12d4ce482aeb.geo+0+0000000064.json</td><td>12d4ce482aeb.geo+0+0000000064.json</td><td>123</td><td>1696863739000</td></tr><tr><td>dbfs:/mnt/aws_data/topics/12d4ce482aeb.geo/partition=0/12d4ce482aeb.geo+0+0000000065.json</td><td>12d4ce482aeb.geo+0+0000000065.json</td><td>110</td><td>1696863740000</td></tr><tr><td>dbfs:/mnt/aws_data/topics/12d4ce482aeb.geo/partition=0/12d4ce482aeb.geo+0+0000000066.json</td><td>12d4ce482aeb.geo+0+0000000066.json</td><td>107</td><td>1696863741000</td></tr><tr><td>dbfs:/mnt/aws_data/topics/12d4ce482aeb.geo/partition=0/12d4ce482aeb.geo+0+0000000067.json</td><td>12d4ce482aeb.geo+0+0000000067.json</td><td>108</td><td>1696863743000</td></tr><tr><td>dbfs:/mnt/aws_data/topics/12d4ce482aeb.geo/partition=0/12d4ce482aeb.geo+0+0000000068.json</td><td>12d4ce482aeb.geo+0+0000000068.json</td><td>119</td><td>1696863745000</td></tr><tr><td>dbfs:/mnt/aws_data/topics/12d4ce482aeb.geo/partition=0/12d4ce482aeb.geo+0+0000000069.json</td><td>12d4ce482aeb.geo+0+0000000069.json</td><td>107</td><td>1696863747000</td></tr><tr><td>dbfs:/mnt/aws_data/topics/12d4ce482aeb.geo/partition=0/12d4ce482aeb.geo+0+0000000070.json</td><td>12d4ce482aeb.geo+0+0000000070.json</td><td>108</td><td>1696863748000</td></tr><tr><td>dbfs:/mnt/aws_data/topics/12d4ce482aeb.geo/partition=0/12d4ce482aeb.geo+0+0000000071.json</td><td>12d4ce482aeb.geo+0+0000000071.json</td><td>113</td><td>1696863750000</td></tr><tr><td>dbfs:/mnt/aws_data/topics/12d4ce482aeb.geo/partition=0/12d4ce482aeb.geo+0+0000000072.json</td><td>12d4ce482aeb.geo+0+0000000072.json</td><td>110</td><td>1696863751000</td></tr><tr><td>dbfs:/mnt/aws_data/topics/12d4ce482aeb.geo/partition=0/12d4ce482aeb.geo+0+0000000073.json</td><td>12d4ce482aeb.geo+0+0000000073.json</td><td>113</td><td>1696863753000</td></tr><tr><td>dbfs:/mnt/aws_data/topics/12d4ce482aeb.geo/partition=0/12d4ce482aeb.geo+0+0000000074.json</td><td>12d4ce482aeb.geo+0+0000000074.json</td><td>106</td><td>1696863754000</td></tr><tr><td>dbfs:/mnt/aws_data/topics/12d4ce482aeb.geo/partition=0/12d4ce482aeb.geo+0+0000000075.json</td><td>12d4ce482aeb.geo+0+0000000075.json</td><td>109</td><td>1696863756000</td></tr><tr><td>dbfs:/mnt/aws_data/topics/12d4ce482aeb.geo/partition=0/12d4ce482aeb.geo+0+0000000076.json</td><td>12d4ce482aeb.geo+0+0000000076.json</td><td>110</td><td>1696863758000</td></tr><tr><td>dbfs:/mnt/aws_data/topics/12d4ce482aeb.geo/partition=0/12d4ce482aeb.geo+0+0000000077.json</td><td>12d4ce482aeb.geo+0+0000000077.json</td><td>106</td><td>1696863760000</td></tr><tr><td>dbfs:/mnt/aws_data/topics/12d4ce482aeb.geo/partition=0/12d4ce482aeb.geo+0+0000000078.json</td><td>12d4ce482aeb.geo+0+0000000078.json</td><td>107</td><td>1696863761000</td></tr><tr><td>dbfs:/mnt/aws_data/topics/12d4ce482aeb.geo/partition=0/12d4ce482aeb.geo+0+0000000079.json</td><td>12d4ce482aeb.geo+0+0000000079.json</td><td>108</td><td>1696863762000</td></tr><tr><td>dbfs:/mnt/aws_data/topics/12d4ce482aeb.geo/partition=0/12d4ce482aeb.geo+0+0000000080.json</td><td>12d4ce482aeb.geo+0+0000000080.json</td><td>108</td><td>1696863764000</td></tr><tr><td>dbfs:/mnt/aws_data/topics/12d4ce482aeb.geo/partition=0/12d4ce482aeb.geo+0+0000000081.json</td><td>12d4ce482aeb.geo+0+0000000081.json</td><td>111</td><td>1696863766000</td></tr><tr><td>dbfs:/mnt/aws_data/topics/12d4ce482aeb.geo/partition=0/12d4ce482aeb.geo+0+0000000082.json</td><td>12d4ce482aeb.geo+0+0000000082.json</td><td>111</td><td>1696863767000</td></tr><tr><td>dbfs:/mnt/aws_data/topics/12d4ce482aeb.geo/partition=0/12d4ce482aeb.geo+0+0000000083.json</td><td>12d4ce482aeb.geo+0+0000000083.json</td><td>105</td><td>1696863768000</td></tr><tr><td>dbfs:/mnt/aws_data/topics/12d4ce482aeb.geo/partition=0/12d4ce482aeb.geo+0+0000000084.json</td><td>12d4ce482aeb.geo+0+0000000084.json</td><td>107</td><td>1696863770000</td></tr><tr><td>dbfs:/mnt/aws_data/topics/12d4ce482aeb.geo/partition=0/12d4ce482aeb.geo+0+0000000085.json</td><td>12d4ce482aeb.geo+0+0000000085.json</td><td>112</td><td>1696863771000</td></tr><tr><td>dbfs:/mnt/aws_data/topics/12d4ce482aeb.geo/partition=0/12d4ce482aeb.geo+0+0000000086.json</td><td>12d4ce482aeb.geo+0+0000000086.json</td><td>108</td><td>1696863773000</td></tr><tr><td>dbfs:/mnt/aws_data/topics/12d4ce482aeb.geo/partition=0/12d4ce482aeb.geo+0+0000000087.json</td><td>12d4ce482aeb.geo+0+0000000087.json</td><td>115</td><td>1696863774000</td></tr><tr><td>dbfs:/mnt/aws_data/topics/12d4ce482aeb.geo/partition=0/12d4ce482aeb.geo+0+0000000088.json</td><td>12d4ce482aeb.geo+0+0000000088.json</td><td>109</td><td>1696863776000</td></tr><tr><td>dbfs:/mnt/aws_data/topics/12d4ce482aeb.geo/partition=0/12d4ce482aeb.geo+0+0000000089.json</td><td>12d4ce482aeb.geo+0+0000000089.json</td><td>106</td><td>1696863778000</td></tr><tr><td>dbfs:/mnt/aws_data/topics/12d4ce482aeb.geo/partition=0/12d4ce482aeb.geo+0+0000000090.json</td><td>12d4ce482aeb.geo+0+0000000090.json</td><td>108</td><td>1696863778000</td></tr><tr><td>dbfs:/mnt/aws_data/topics/12d4ce482aeb.geo/partition=0/12d4ce482aeb.geo+0+0000000091.json</td><td>12d4ce482aeb.geo+0+0000000091.json</td><td>118</td><td>1696863779000</td></tr><tr><td>dbfs:/mnt/aws_data/topics/12d4ce482aeb.geo/partition=0/12d4ce482aeb.geo+0+0000000092.json</td><td>12d4ce482aeb.geo+0+0000000092.json</td><td>108</td><td>1696863782000</td></tr><tr><td>dbfs:/mnt/aws_data/topics/12d4ce482aeb.geo/partition=0/12d4ce482aeb.geo+0+0000000093.json</td><td>12d4ce482aeb.geo+0+0000000093.json</td><td>120</td><td>1696863783000</td></tr><tr><td>dbfs:/mnt/aws_data/topics/12d4ce482aeb.geo/partition=0/12d4ce482aeb.geo+0+0000000094.json</td><td>12d4ce482aeb.geo+0+0000000094.json</td><td>110</td><td>1696863783000</td></tr><tr><td>dbfs:/mnt/aws_data/topics/12d4ce482aeb.geo/partition=0/12d4ce482aeb.geo+0+0000000095.json</td><td>12d4ce482aeb.geo+0+0000000095.json</td><td>115</td><td>1696863785000</td></tr><tr><td>dbfs:/mnt/aws_data/topics/12d4ce482aeb.geo/partition=0/12d4ce482aeb.geo+0+0000000096.json</td><td>12d4ce482aeb.geo+0+0000000096.json</td><td>110</td><td>1696863787000</td></tr><tr><td>dbfs:/mnt/aws_data/topics/12d4ce482aeb.geo/partition=0/12d4ce482aeb.geo+0+0000000097.json</td><td>12d4ce482aeb.geo+0+0000000097.json</td><td>117</td><td>1696863789000</td></tr><tr><td>dbfs:/mnt/aws_data/topics/12d4ce482aeb.geo/partition=0/12d4ce482aeb.geo+0+0000000098.json</td><td>12d4ce482aeb.geo+0+0000000098.json</td><td>116</td><td>1696863791000</td></tr><tr><td>dbfs:/mnt/aws_data/topics/12d4ce482aeb.geo/partition=0/12d4ce482aeb.geo+0+0000000099.json</td><td>12d4ce482aeb.geo+0+0000000099.json</td><td>106</td><td>1696863792000</td></tr><tr><td>dbfs:/mnt/aws_data/topics/12d4ce482aeb.geo/partition=0/12d4ce482aeb.geo+0+0000000100.json</td><td>12d4ce482aeb.geo+0+0000000100.json</td><td>106</td><td>1696863794000</td></tr><tr><td>dbfs:/mnt/aws_data/topics/12d4ce482aeb.geo/partition=0/12d4ce482aeb.geo+0+0000000101.json</td><td>12d4ce482aeb.geo+0+0000000101.json</td><td>108</td><td>1696863795000</td></tr><tr><td>dbfs:/mnt/aws_data/topics/12d4ce482aeb.geo/partition=0/12d4ce482aeb.geo+0+0000000102.json</td><td>12d4ce482aeb.geo+0+0000000102.json</td><td>107</td><td>1696863796000</td></tr><tr><td>dbfs:/mnt/aws_data/topics/12d4ce482aeb.geo/partition=0/12d4ce482aeb.geo+0+0000000103.json</td><td>12d4ce482aeb.geo+0+0000000103.json</td><td>110</td><td>1696863797000</td></tr><tr><td>dbfs:/mnt/aws_data/topics/12d4ce482aeb.geo/partition=0/12d4ce482aeb.geo+0+0000000104.json</td><td>12d4ce482aeb.geo+0+0000000104.json</td><td>118</td><td>1696863799000</td></tr><tr><td>dbfs:/mnt/aws_data/topics/12d4ce482aeb.geo/partition=0/12d4ce482aeb.geo+0+0000000105.json</td><td>12d4ce482aeb.geo+0+0000000105.json</td><td>107</td><td>1696863800000</td></tr><tr><td>dbfs:/mnt/aws_data/topics/12d4ce482aeb.geo/partition=0/12d4ce482aeb.geo+0+0000000106.json</td><td>12d4ce482aeb.geo+0+0000000106.json</td><td>105</td><td>1696863801000</td></tr><tr><td>dbfs:/mnt/aws_data/topics/12d4ce482aeb.geo/partition=0/12d4ce482aeb.geo+0+0000000107.json</td><td>12d4ce482aeb.geo+0+0000000107.json</td><td>106</td><td>1696863803000</td></tr><tr><td>dbfs:/mnt/aws_data/topics/12d4ce482aeb.geo/partition=0/12d4ce482aeb.geo+0+0000000108.json</td><td>12d4ce482aeb.geo+0+0000000108.json</td><td>111</td><td>1696863804000</td></tr><tr><td>dbfs:/mnt/aws_data/topics/12d4ce482aeb.geo/partition=0/12d4ce482aeb.geo+0+0000000109.json</td><td>12d4ce482aeb.geo+0+0000000109.json</td><td>109</td><td>1696863805000</td></tr><tr><td>dbfs:/mnt/aws_data/topics/12d4ce482aeb.geo/partition=0/12d4ce482aeb.geo+0+0000000110.json</td><td>12d4ce482aeb.geo+0+0000000110.json</td><td>108</td><td>1696863806000</td></tr><tr><td>dbfs:/mnt/aws_data/topics/12d4ce482aeb.geo/partition=0/12d4ce482aeb.geo+0+0000000111.json</td><td>12d4ce482aeb.geo+0+0000000111.json</td><td>107</td><td>1696863808000</td></tr><tr><td>dbfs:/mnt/aws_data/topics/12d4ce482aeb.geo/partition=0/12d4ce482aeb.geo+0+0000000112.json</td><td>12d4ce482aeb.geo+0+0000000112.json</td><td>108</td><td>1696863809000</td></tr><tr><td>dbfs:/mnt/aws_data/topics/12d4ce482aeb.geo/partition=0/12d4ce482aeb.geo+0+0000000113.json</td><td>12d4ce482aeb.geo+0+0000000113.json</td><td>115</td><td>1696863810000</td></tr><tr><td>dbfs:/mnt/aws_data/topics/12d4ce482aeb.geo/partition=0/12d4ce482aeb.geo+0+0000000114.json</td><td>12d4ce482aeb.geo+0+0000000114.json</td><td>108</td><td>1696863812000</td></tr><tr><td>dbfs:/mnt/aws_data/topics/12d4ce482aeb.geo/partition=0/12d4ce482aeb.geo+0+0000000115.json</td><td>12d4ce482aeb.geo+0+0000000115.json</td><td>108</td><td>1696863813000</td></tr><tr><td>dbfs:/mnt/aws_data/topics/12d4ce482aeb.geo/partition=0/12d4ce482aeb.geo+0+0000000116.json</td><td>12d4ce482aeb.geo+0+0000000116.json</td><td>131</td><td>1696863813000</td></tr><tr><td>dbfs:/mnt/aws_data/topics/12d4ce482aeb.geo/partition=0/12d4ce482aeb.geo+0+0000000117.json</td><td>12d4ce482aeb.geo+0+0000000117.json</td><td>108</td><td>1696863814000</td></tr><tr><td>dbfs:/mnt/aws_data/topics/12d4ce482aeb.geo/partition=0/12d4ce482aeb.geo+0+0000000118.json</td><td>12d4ce482aeb.geo+0+0000000118.json</td><td>115</td><td>1696863816000</td></tr><tr><td>dbfs:/mnt/aws_data/topics/12d4ce482aeb.geo/partition=0/12d4ce482aeb.geo+0+0000000119.json</td><td>12d4ce482aeb.geo+0+0000000119.json</td><td>106</td><td>1696863818000</td></tr><tr><td>dbfs:/mnt/aws_data/topics/12d4ce482aeb.geo/partition=0/12d4ce482aeb.geo+0+0000000120.json</td><td>12d4ce482aeb.geo+0+0000000120.json</td><td>122</td><td>1696863820000</td></tr><tr><td>dbfs:/mnt/aws_data/topics/12d4ce482aeb.geo/partition=0/12d4ce482aeb.geo+0+0000000121.json</td><td>12d4ce482aeb.geo+0+0000000121.json</td><td>108</td><td>1696863821000</td></tr><tr><td>dbfs:/mnt/aws_data/topics/12d4ce482aeb.geo/partition=0/12d4ce482aeb.geo+0+0000000122.json</td><td>12d4ce482aeb.geo+0+0000000122.json</td><td>109</td><td>1696863822000</td></tr><tr><td>dbfs:/mnt/aws_data/topics/12d4ce482aeb.geo/partition=0/12d4ce482aeb.geo+0+0000000123.json</td><td>12d4ce482aeb.geo+0+0000000123.json</td><td>108</td><td>1696863824000</td></tr><tr><td>dbfs:/mnt/aws_data/topics/12d4ce482aeb.geo/partition=0/12d4ce482aeb.geo+0+0000000124.json</td><td>12d4ce482aeb.geo+0+0000000124.json</td><td>107</td><td>1696863825000</td></tr><tr><td>dbfs:/mnt/aws_data/topics/12d4ce482aeb.geo/partition=0/12d4ce482aeb.geo+0+0000000125.json</td><td>12d4ce482aeb.geo+0+0000000125.json</td><td>105</td><td>1696863826000</td></tr><tr><td>dbfs:/mnt/aws_data/topics/12d4ce482aeb.geo/partition=0/12d4ce482aeb.geo+0+0000000126.json</td><td>12d4ce482aeb.geo+0+0000000126.json</td><td>113</td><td>1696863827000</td></tr><tr><td>dbfs:/mnt/aws_data/topics/12d4ce482aeb.geo/partition=0/12d4ce482aeb.geo+0+0000000127.json</td><td>12d4ce482aeb.geo+0+0000000127.json</td><td>120</td><td>1696863828000</td></tr><tr><td>dbfs:/mnt/aws_data/topics/12d4ce482aeb.geo/partition=0/12d4ce482aeb.geo+0+0000000128.json</td><td>12d4ce482aeb.geo+0+0000000128.json</td><td>117</td><td>1696863830000</td></tr><tr><td>dbfs:/mnt/aws_data/topics/12d4ce482aeb.geo/partition=0/12d4ce482aeb.geo+0+0000000129.json</td><td>12d4ce482aeb.geo+0+0000000129.json</td><td>106</td><td>1696863830000</td></tr><tr><td>dbfs:/mnt/aws_data/topics/12d4ce482aeb.geo/partition=0/12d4ce482aeb.geo+0+0000000130.json</td><td>12d4ce482aeb.geo+0+0000000130.json</td><td>107</td><td>1696863832000</td></tr><tr><td>dbfs:/mnt/aws_data/topics/12d4ce482aeb.geo/partition=0/12d4ce482aeb.geo+0+0000000131.json</td><td>12d4ce482aeb.geo+0+0000000131.json</td><td>109</td><td>1696863834000</td></tr><tr><td>dbfs:/mnt/aws_data/topics/12d4ce482aeb.geo/partition=0/12d4ce482aeb.geo+0+0000000132.json</td><td>12d4ce482aeb.geo+0+0000000132.json</td><td>108</td><td>1696863836000</td></tr><tr><td>dbfs:/mnt/aws_data/topics/12d4ce482aeb.geo/partition=0/12d4ce482aeb.geo+0+0000000133.json</td><td>12d4ce482aeb.geo+0+0000000133.json</td><td>110</td><td>1696863838000</td></tr><tr><td>dbfs:/mnt/aws_data/topics/12d4ce482aeb.geo/partition=0/12d4ce482aeb.geo+0+0000000134.json</td><td>12d4ce482aeb.geo+0+0000000134.json</td><td>106</td><td>1696863839000</td></tr><tr><td>dbfs:/mnt/aws_data/topics/12d4ce482aeb.geo/partition=0/12d4ce482aeb.geo+0+0000000135.json</td><td>12d4ce482aeb.geo+0+0000000135.json</td><td>106</td><td>1696863840000</td></tr><tr><td>dbfs:/mnt/aws_data/topics/12d4ce482aeb.geo/partition=0/12d4ce482aeb.geo+0+0000000136.json</td><td>12d4ce482aeb.geo+0+0000000136.json</td><td>108</td><td>1696863841000</td></tr><tr><td>dbfs:/mnt/aws_data/topics/12d4ce482aeb.geo/partition=0/12d4ce482aeb.geo+0+0000000137.json</td><td>12d4ce482aeb.geo+0+0000000137.json</td><td>108</td><td>1696863841000</td></tr><tr><td>dbfs:/mnt/aws_data/topics/12d4ce482aeb.geo/partition=0/12d4ce482aeb.geo+0+0000000138.json</td><td>12d4ce482aeb.geo+0+0000000138.json</td><td>127</td><td>1696863842000</td></tr><tr><td>dbfs:/mnt/aws_data/topics/12d4ce482aeb.geo/partition=0/12d4ce482aeb.geo+0+0000000139.json</td><td>12d4ce482aeb.geo+0+0000000139.json</td><td>107</td><td>1696863844000</td></tr><tr><td>dbfs:/mnt/aws_data/topics/12d4ce482aeb.geo/partition=0/12d4ce482aeb.geo+0+0000000140.json</td><td>12d4ce482aeb.geo+0+0000000140.json</td><td>107</td><td>1696863846000</td></tr><tr><td>dbfs:/mnt/aws_data/topics/12d4ce482aeb.geo/partition=0/12d4ce482aeb.geo+0+0000000141.json</td><td>12d4ce482aeb.geo+0+0000000141.json</td><td>106</td><td>1696863848000</td></tr><tr><td>dbfs:/mnt/aws_data/topics/12d4ce482aeb.geo/partition=0/12d4ce482aeb.geo+0+0000000142.json</td><td>12d4ce482aeb.geo+0+0000000142.json</td><td>107</td><td>1696863850000</td></tr><tr><td>dbfs:/mnt/aws_data/topics/12d4ce482aeb.geo/partition=0/12d4ce482aeb.geo+0+0000000143.json</td><td>12d4ce482aeb.geo+0+0000000143.json</td><td>108</td><td>1696863851000</td></tr><tr><td>dbfs:/mnt/aws_data/topics/12d4ce482aeb.geo/partition=0/12d4ce482aeb.geo+0+0000000144.json</td><td>12d4ce482aeb.geo+0+0000000144.json</td><td>109</td><td>1696863851000</td></tr><tr><td>dbfs:/mnt/aws_data/topics/12d4ce482aeb.geo/partition=0/12d4ce482aeb.geo+0+0000000145.json</td><td>12d4ce482aeb.geo+0+0000000145.json</td><td>103</td><td>1696863853000</td></tr><tr><td>dbfs:/mnt/aws_data/topics/12d4ce482aeb.geo/partition=0/12d4ce482aeb.geo+0+0000000146.json</td><td>12d4ce482aeb.geo+0+0000000146.json</td><td>106</td><td>1696863854000</td></tr><tr><td>dbfs:/mnt/aws_data/topics/12d4ce482aeb.geo/partition=0/12d4ce482aeb.geo+0+0000000147.json</td><td>12d4ce482aeb.geo+0+0000000147.json</td><td>108</td><td>1696863856000</td></tr><tr><td>dbfs:/mnt/aws_data/topics/12d4ce482aeb.geo/partition=0/12d4ce482aeb.geo+0+0000000148.json</td><td>12d4ce482aeb.geo+0+0000000148.json</td><td>145</td><td>1696863857000</td></tr><tr><td>dbfs:/mnt/aws_data/topics/12d4ce482aeb.geo/partition=0/12d4ce482aeb.geo+0+0000000149.json</td><td>12d4ce482aeb.geo+0+0000000149.json</td><td>110</td><td>1696863858000</td></tr><tr><td>dbfs:/mnt/aws_data/topics/12d4ce482aeb.geo/partition=0/12d4ce482aeb.geo+0+0000000150.json</td><td>12d4ce482aeb.geo+0+0000000150.json</td><td>102</td><td>1696863860000</td></tr><tr><td>dbfs:/mnt/aws_data/topics/12d4ce482aeb.geo/partition=0/12d4ce482aeb.geo+0+0000000151.json</td><td>12d4ce482aeb.geo+0+0000000151.json</td><td>112</td><td>1696863861000</td></tr><tr><td>dbfs:/mnt/aws_data/topics/12d4ce482aeb.geo/partition=0/12d4ce482aeb.geo+0+0000000152.json</td><td>12d4ce482aeb.geo+0+0000000152.json</td><td>109</td><td>1696863861000</td></tr><tr><td>dbfs:/mnt/aws_data/topics/12d4ce482aeb.geo/partition=0/12d4ce482aeb.geo+0+0000000153.json</td><td>12d4ce482aeb.geo+0+0000000153.json</td><td>105</td><td>1696863862000</td></tr><tr><td>dbfs:/mnt/aws_data/topics/12d4ce482aeb.geo/partition=0/12d4ce482aeb.geo+0+0000000154.json</td><td>12d4ce482aeb.geo+0+0000000154.json</td><td>115</td><td>1696863863000</td></tr><tr><td>dbfs:/mnt/aws_data/topics/12d4ce482aeb.geo/partition=0/12d4ce482aeb.geo+0+0000000155.json</td><td>12d4ce482aeb.geo+0+0000000155.json</td><td>106</td><td>1696863865000</td></tr><tr><td>dbfs:/mnt/aws_data/topics/12d4ce482aeb.geo/partition=0/12d4ce482aeb.geo+0+0000000156.json</td><td>12d4ce482aeb.geo+0+0000000156.json</td><td>102</td><td>1696863866000</td></tr><tr><td>dbfs:/mnt/aws_data/topics/12d4ce482aeb.geo/partition=0/12d4ce482aeb.geo+0+0000000157.json</td><td>12d4ce482aeb.geo+0+0000000157.json</td><td>107</td><td>1696863868000</td></tr><tr><td>dbfs:/mnt/aws_data/topics/12d4ce482aeb.geo/partition=0/12d4ce482aeb.geo+0+0000000158.json</td><td>12d4ce482aeb.geo+0+0000000158.json</td><td>108</td><td>1696863870000</td></tr><tr><td>dbfs:/mnt/aws_data/topics/12d4ce482aeb.geo/partition=0/12d4ce482aeb.geo+0+0000000159.json</td><td>12d4ce482aeb.geo+0+0000000159.json</td><td>110</td><td>1696863871000</td></tr><tr><td>dbfs:/mnt/aws_data/topics/12d4ce482aeb.geo/partition=0/12d4ce482aeb.geo+0+0000000160.json</td><td>12d4ce482aeb.geo+0+0000000160.json</td><td>119</td><td>1696863872000</td></tr><tr><td>dbfs:/mnt/aws_data/topics/12d4ce482aeb.geo/partition=0/12d4ce482aeb.geo+0+0000000161.json</td><td>12d4ce482aeb.geo+0+0000000161.json</td><td>108</td><td>1696863873000</td></tr><tr><td>dbfs:/mnt/aws_data/topics/12d4ce482aeb.geo/partition=0/12d4ce482aeb.geo+0+0000000162.json</td><td>12d4ce482aeb.geo+0+0000000162.json</td><td>116</td><td>1696863875000</td></tr><tr><td>dbfs:/mnt/aws_data/topics/12d4ce482aeb.geo/partition=0/12d4ce482aeb.geo+0+0000000163.json</td><td>12d4ce482aeb.geo+0+0000000163.json</td><td>111</td><td>1696863877000</td></tr><tr><td>dbfs:/mnt/aws_data/topics/12d4ce482aeb.geo/partition=0/12d4ce482aeb.geo+0+0000000164.json</td><td>12d4ce482aeb.geo+0+0000000164.json</td><td>112</td><td>1696863879000</td></tr><tr><td>dbfs:/mnt/aws_data/topics/12d4ce482aeb.geo/partition=0/12d4ce482aeb.geo+0+0000000165.json</td><td>12d4ce482aeb.geo+0+0000000165.json</td><td>119</td><td>1696863881000</td></tr><tr><td>dbfs:/mnt/aws_data/topics/12d4ce482aeb.geo/partition=0/12d4ce482aeb.geo+0+0000000166.json</td><td>12d4ce482aeb.geo+0+0000000166.json</td><td>109</td><td>1696863882000</td></tr><tr><td>dbfs:/mnt/aws_data/topics/12d4ce482aeb.geo/partition=0/12d4ce482aeb.geo+0+0000000167.json</td><td>12d4ce482aeb.geo+0+0000000167.json</td><td>105</td><td>1696863883000</td></tr><tr><td>dbfs:/mnt/aws_data/topics/12d4ce482aeb.geo/partition=0/12d4ce482aeb.geo+0+0000000168.json</td><td>12d4ce482aeb.geo+0+0000000168.json</td><td>111</td><td>1696863885000</td></tr><tr><td>dbfs:/mnt/aws_data/topics/12d4ce482aeb.geo/partition=0/12d4ce482aeb.geo+0+0000000169.json</td><td>12d4ce482aeb.geo+0+0000000169.json</td><td>110</td><td>1696863887000</td></tr><tr><td>dbfs:/mnt/aws_data/topics/12d4ce482aeb.geo/partition=0/12d4ce482aeb.geo+0+0000000170.json</td><td>12d4ce482aeb.geo+0+0000000170.json</td><td>112</td><td>1696863888000</td></tr><tr><td>dbfs:/mnt/aws_data/topics/12d4ce482aeb.geo/partition=0/12d4ce482aeb.geo+0+0000000171.json</td><td>12d4ce482aeb.geo+0+0000000171.json</td><td>108</td><td>1696863890000</td></tr><tr><td>dbfs:/mnt/aws_data/topics/12d4ce482aeb.geo/partition=0/12d4ce482aeb.geo+0+0000000172.json</td><td>12d4ce482aeb.geo+0+0000000172.json</td><td>106</td><td>1696863891000</td></tr><tr><td>dbfs:/mnt/aws_data/topics/12d4ce482aeb.geo/partition=0/12d4ce482aeb.geo+0+0000000173.json</td><td>12d4ce482aeb.geo+0+0000000173.json</td><td>118</td><td>1696863892000</td></tr><tr><td>dbfs:/mnt/aws_data/topics/12d4ce482aeb.geo/partition=0/12d4ce482aeb.geo+0+0000000174.json</td><td>12d4ce482aeb.geo+0+0000000174.json</td><td>105</td><td>1696863892000</td></tr><tr><td>dbfs:/mnt/aws_data/topics/12d4ce482aeb.geo/partition=0/12d4ce482aeb.geo+0+0000000175.json</td><td>12d4ce482aeb.geo+0+0000000175.json</td><td>104</td><td>1696863894000</td></tr><tr><td>dbfs:/mnt/aws_data/topics/12d4ce482aeb.geo/partition=0/12d4ce482aeb.geo+0+0000000176.json</td><td>12d4ce482aeb.geo+0+0000000176.json</td><td>112</td><td>1696863896000</td></tr><tr><td>dbfs:/mnt/aws_data/topics/12d4ce482aeb.geo/partition=0/12d4ce482aeb.geo+0+0000000177.json</td><td>12d4ce482aeb.geo+0+0000000177.json</td><td>108</td><td>1696863897000</td></tr><tr><td>dbfs:/mnt/aws_data/topics/12d4ce482aeb.geo/partition=0/12d4ce482aeb.geo+0+0000000178.json</td><td>12d4ce482aeb.geo+0+0000000178.json</td><td>110</td><td>1696863899000</td></tr><tr><td>dbfs:/mnt/aws_data/topics/12d4ce482aeb.geo/partition=0/12d4ce482aeb.geo+0+0000000179.json</td><td>12d4ce482aeb.geo+0+0000000179.json</td><td>112</td><td>1696863901000</td></tr><tr><td>dbfs:/mnt/aws_data/topics/12d4ce482aeb.geo/partition=0/12d4ce482aeb.geo+0+0000000180.json</td><td>12d4ce482aeb.geo+0+0000000180.json</td><td>122</td><td>1696863903000</td></tr><tr><td>dbfs:/mnt/aws_data/topics/12d4ce482aeb.geo/partition=0/12d4ce482aeb.geo+0+0000000181.json</td><td>12d4ce482aeb.geo+0+0000000181.json</td><td>106</td><td>1696863904000</td></tr><tr><td>dbfs:/mnt/aws_data/topics/12d4ce482aeb.geo/partition=0/12d4ce482aeb.geo+0+0000000182.json</td><td>12d4ce482aeb.geo+0+0000000182.json</td><td>107</td><td>1696863906000</td></tr><tr><td>dbfs:/mnt/aws_data/topics/12d4ce482aeb.geo/partition=0/12d4ce482aeb.geo+0+0000000183.json</td><td>12d4ce482aeb.geo+0+0000000183.json</td><td>106</td><td>1696863908000</td></tr><tr><td>dbfs:/mnt/aws_data/topics/12d4ce482aeb.geo/partition=0/12d4ce482aeb.geo+0+0000000184.json</td><td>12d4ce482aeb.geo+0+0000000184.json</td><td>110</td><td>1696863909000</td></tr><tr><td>dbfs:/mnt/aws_data/topics/12d4ce482aeb.geo/partition=0/12d4ce482aeb.geo+0+0000000185.json</td><td>12d4ce482aeb.geo+0+0000000185.json</td><td>105</td><td>1696863911000</td></tr><tr><td>dbfs:/mnt/aws_data/topics/12d4ce482aeb.geo/partition=0/12d4ce482aeb.geo+0+0000000186.json</td><td>12d4ce482aeb.geo+0+0000000186.json</td><td>113</td><td>1696863913000</td></tr><tr><td>dbfs:/mnt/aws_data/topics/12d4ce482aeb.geo/partition=0/12d4ce482aeb.geo+0+0000000187.json</td><td>12d4ce482aeb.geo+0+0000000187.json</td><td>115</td><td>1696863915000</td></tr><tr><td>dbfs:/mnt/aws_data/topics/12d4ce482aeb.geo/partition=0/12d4ce482aeb.geo+0+0000000188.json</td><td>12d4ce482aeb.geo+0+0000000188.json</td><td>106</td><td>1696863916000</td></tr><tr><td>dbfs:/mnt/aws_data/topics/12d4ce482aeb.geo/partition=0/12d4ce482aeb.geo+0+0000000189.json</td><td>12d4ce482aeb.geo+0+0000000189.json</td><td>106</td><td>1696863917000</td></tr><tr><td>dbfs:/mnt/aws_data/topics/12d4ce482aeb.geo/partition=0/12d4ce482aeb.geo+0+0000000190.json</td><td>12d4ce482aeb.geo+0+0000000190.json</td><td>105</td><td>1696863918000</td></tr><tr><td>dbfs:/mnt/aws_data/topics/12d4ce482aeb.geo/partition=0/12d4ce482aeb.geo+0+0000000191.json</td><td>12d4ce482aeb.geo+0+0000000191.json</td><td>119</td><td>1696863919000</td></tr><tr><td>dbfs:/mnt/aws_data/topics/12d4ce482aeb.geo/partition=0/12d4ce482aeb.geo+0+0000000192.json</td><td>12d4ce482aeb.geo+0+0000000192.json</td><td>108</td><td>1696863922000</td></tr><tr><td>dbfs:/mnt/aws_data/topics/12d4ce482aeb.geo/partition=0/12d4ce482aeb.geo+0+0000000193.json</td><td>12d4ce482aeb.geo+0+0000000193.json</td><td>108</td><td>1696863923000</td></tr><tr><td>dbfs:/mnt/aws_data/topics/12d4ce482aeb.geo/partition=0/12d4ce482aeb.geo+0+0000000194.json</td><td>12d4ce482aeb.geo+0+0000000194.json</td><td>112</td><td>1696863925000</td></tr><tr><td>dbfs:/mnt/aws_data/topics/12d4ce482aeb.geo/partition=0/12d4ce482aeb.geo+0+0000000195.json</td><td>12d4ce482aeb.geo+0+0000000195.json</td><td>112</td><td>1696863926000</td></tr><tr><td>dbfs:/mnt/aws_data/topics/12d4ce482aeb.geo/partition=0/12d4ce482aeb.geo+0+0000000196.json</td><td>12d4ce482aeb.geo+0+0000000196.json</td><td>113</td><td>1696863928000</td></tr><tr><td>dbfs:/mnt/aws_data/topics/12d4ce482aeb.geo/partition=0/12d4ce482aeb.geo+0+0000000197.json</td><td>12d4ce482aeb.geo+0+0000000197.json</td><td>108</td><td>1696863929000</td></tr><tr><td>dbfs:/mnt/aws_data/topics/12d4ce482aeb.geo/partition=0/12d4ce482aeb.geo+0+0000000198.json</td><td>12d4ce482aeb.geo+0+0000000198.json</td><td>106</td><td>1696863931000</td></tr><tr><td>dbfs:/mnt/aws_data/topics/12d4ce482aeb.geo/partition=0/12d4ce482aeb.geo+0+0000000199.json</td><td>12d4ce482aeb.geo+0+0000000199.json</td><td>108</td><td>1696863932000</td></tr><tr><td>dbfs:/mnt/aws_data/topics/12d4ce482aeb.geo/partition=0/12d4ce482aeb.geo+0+0000000200.json</td><td>12d4ce482aeb.geo+0+0000000200.json</td><td>123</td><td>1696863934000</td></tr><tr><td>dbfs:/mnt/aws_data/topics/12d4ce482aeb.geo/partition=0/12d4ce482aeb.geo+0+0000000201.json</td><td>12d4ce482aeb.geo+0+0000000201.json</td><td>105</td><td>1696863936000</td></tr><tr><td>dbfs:/mnt/aws_data/topics/12d4ce482aeb.geo/partition=0/12d4ce482aeb.geo+0+0000000202.json</td><td>12d4ce482aeb.geo+0+0000000202.json</td><td>118</td><td>1696863937000</td></tr><tr><td>dbfs:/mnt/aws_data/topics/12d4ce482aeb.geo/partition=0/12d4ce482aeb.geo+0+0000000203.json</td><td>12d4ce482aeb.geo+0+0000000203.json</td><td>145</td><td>1696863938000</td></tr><tr><td>dbfs:/mnt/aws_data/topics/12d4ce482aeb.geo/partition=0/12d4ce482aeb.geo+0+0000000204.json</td><td>12d4ce482aeb.geo+0+0000000204.json</td><td>106</td><td>1696863939000</td></tr><tr><td>dbfs:/mnt/aws_data/topics/12d4ce482aeb.geo/partition=0/12d4ce482aeb.geo+0+0000000205.json</td><td>12d4ce482aeb.geo+0+0000000205.json</td><td>106</td><td>1696863941000</td></tr><tr><td>dbfs:/mnt/aws_data/topics/12d4ce482aeb.geo/partition=0/12d4ce482aeb.geo+0+0000000206.json</td><td>12d4ce482aeb.geo+0+0000000206.json</td><td>118</td><td>1696863943000</td></tr><tr><td>dbfs:/mnt/aws_data/topics/12d4ce482aeb.geo/partition=0/12d4ce482aeb.geo+0+0000000207.json</td><td>12d4ce482aeb.geo+0+0000000207.json</td><td>107</td><td>1696863944000</td></tr><tr><td>dbfs:/mnt/aws_data/topics/12d4ce482aeb.geo/partition=0/12d4ce482aeb.geo+0+0000000208.json</td><td>12d4ce482aeb.geo+0+0000000208.json</td><td>108</td><td>1696863946000</td></tr><tr><td>dbfs:/mnt/aws_data/topics/12d4ce482aeb.geo/partition=0/12d4ce482aeb.geo+0+0000000209.json</td><td>12d4ce482aeb.geo+0+0000000209.json</td><td>107</td><td>1696863947000</td></tr><tr><td>dbfs:/mnt/aws_data/topics/12d4ce482aeb.geo/partition=0/12d4ce482aeb.geo+0+0000000210.json</td><td>12d4ce482aeb.geo+0+0000000210.json</td><td>125</td><td>1696863948000</td></tr><tr><td>dbfs:/mnt/aws_data/topics/12d4ce482aeb.geo/partition=0/12d4ce482aeb.geo+0+0000000211.json</td><td>12d4ce482aeb.geo+0+0000000211.json</td><td>126</td><td>1696863949000</td></tr><tr><td>dbfs:/mnt/aws_data/topics/12d4ce482aeb.geo/partition=0/12d4ce482aeb.geo+0+0000000212.json</td><td>12d4ce482aeb.geo+0+0000000212.json</td><td>108</td><td>1696863950000</td></tr><tr><td>dbfs:/mnt/aws_data/topics/12d4ce482aeb.geo/partition=0/12d4ce482aeb.geo+0+0000000213.json</td><td>12d4ce482aeb.geo+0+0000000213.json</td><td>106</td><td>1696863951000</td></tr><tr><td>dbfs:/mnt/aws_data/topics/12d4ce482aeb.geo/partition=0/12d4ce482aeb.geo+0+0000000214.json</td><td>12d4ce482aeb.geo+0+0000000214.json</td><td>107</td><td>1696863952000</td></tr><tr><td>dbfs:/mnt/aws_data/topics/12d4ce482aeb.geo/partition=0/12d4ce482aeb.geo+0+0000000215.json</td><td>12d4ce482aeb.geo+0+0000000215.json</td><td>125</td><td>1696863954000</td></tr><tr><td>dbfs:/mnt/aws_data/topics/12d4ce482aeb.geo/partition=0/12d4ce482aeb.geo+0+0000000216.json</td><td>12d4ce482aeb.geo+0+0000000216.json</td><td>106</td><td>1696863955000</td></tr><tr><td>dbfs:/mnt/aws_data/topics/12d4ce482aeb.geo/partition=0/12d4ce482aeb.geo+0+0000000217.json</td><td>12d4ce482aeb.geo+0+0000000217.json</td><td>107</td><td>1696863956000</td></tr><tr><td>dbfs:/mnt/aws_data/topics/12d4ce482aeb.geo/partition=0/12d4ce482aeb.geo+0+0000000218.json</td><td>12d4ce482aeb.geo+0+0000000218.json</td><td>125</td><td>1696863957000</td></tr><tr><td>dbfs:/mnt/aws_data/topics/12d4ce482aeb.geo/partition=0/12d4ce482aeb.geo+0+0000000219.json</td><td>12d4ce482aeb.geo+0+0000000219.json</td><td>105</td><td>1696863959000</td></tr><tr><td>dbfs:/mnt/aws_data/topics/12d4ce482aeb.geo/partition=0/12d4ce482aeb.geo+0+0000000220.json</td><td>12d4ce482aeb.geo+0+0000000220.json</td><td>103</td><td>1696863961000</td></tr><tr><td>dbfs:/mnt/aws_data/topics/12d4ce482aeb.geo/partition=0/12d4ce482aeb.geo+0+0000000221.json</td><td>12d4ce482aeb.geo+0+0000000221.json</td><td>107</td><td>1696863962000</td></tr><tr><td>dbfs:/mnt/aws_data/topics/12d4ce482aeb.geo/partition=0/12d4ce482aeb.geo+0+0000000222.json</td><td>12d4ce482aeb.geo+0+0000000222.json</td><td>107</td><td>1696863964000</td></tr><tr><td>dbfs:/mnt/aws_data/topics/12d4ce482aeb.geo/partition=0/12d4ce482aeb.geo+0+0000000223.json</td><td>12d4ce482aeb.geo+0+0000000223.json</td><td>108</td><td>1696863966000</td></tr><tr><td>dbfs:/mnt/aws_data/topics/12d4ce482aeb.geo/partition=0/12d4ce482aeb.geo+0+0000000224.json</td><td>12d4ce482aeb.geo+0+0000000224.json</td><td>108</td><td>1696863967000</td></tr><tr><td>dbfs:/mnt/aws_data/topics/12d4ce482aeb.geo/partition=0/12d4ce482aeb.geo+0+0000000225.json</td><td>12d4ce482aeb.geo+0+0000000225.json</td><td>109</td><td>1696863968000</td></tr><tr><td>dbfs:/mnt/aws_data/topics/12d4ce482aeb.geo/partition=0/12d4ce482aeb.geo+0+0000000226.json</td><td>12d4ce482aeb.geo+0+0000000226.json</td><td>109</td><td>1696863970000</td></tr><tr><td>dbfs:/mnt/aws_data/topics/12d4ce482aeb.geo/partition=0/12d4ce482aeb.geo+0+0000000227.json</td><td>12d4ce482aeb.geo+0+0000000227.json</td><td>108</td><td>1696863971000</td></tr><tr><td>dbfs:/mnt/aws_data/topics/12d4ce482aeb.geo/partition=0/12d4ce482aeb.geo+0+0000000228.json</td><td>12d4ce482aeb.geo+0+0000000228.json</td><td>111</td><td>1696863972000</td></tr><tr><td>dbfs:/mnt/aws_data/topics/12d4ce482aeb.geo/partition=0/12d4ce482aeb.geo+0+0000000229.json</td><td>12d4ce482aeb.geo+0+0000000229.json</td><td>106</td><td>1696863973000</td></tr><tr><td>dbfs:/mnt/aws_data/topics/12d4ce482aeb.geo/partition=0/12d4ce482aeb.geo+0+0000000230.json</td><td>12d4ce482aeb.geo+0+0000000230.json</td><td>108</td><td>1696863974000</td></tr><tr><td>dbfs:/mnt/aws_data/topics/12d4ce482aeb.geo/partition=0/12d4ce482aeb.geo+0+0000000231.json</td><td>12d4ce482aeb.geo+0+0000000231.json</td><td>112</td><td>1696863975000</td></tr><tr><td>dbfs:/mnt/aws_data/topics/12d4ce482aeb.geo/partition=0/12d4ce482aeb.geo+0+0000000232.json</td><td>12d4ce482aeb.geo+0+0000000232.json</td><td>114</td><td>1696863977000</td></tr><tr><td>dbfs:/mnt/aws_data/topics/12d4ce482aeb.geo/partition=0/12d4ce482aeb.geo+0+0000000233.json</td><td>12d4ce482aeb.geo+0+0000000233.json</td><td>109</td><td>1696863979000</td></tr><tr><td>dbfs:/mnt/aws_data/topics/12d4ce482aeb.geo/partition=0/12d4ce482aeb.geo+0+0000000234.json</td><td>12d4ce482aeb.geo+0+0000000234.json</td><td>108</td><td>1696863981000</td></tr><tr><td>dbfs:/mnt/aws_data/topics/12d4ce482aeb.geo/partition=0/12d4ce482aeb.geo+0+0000000235.json</td><td>12d4ce482aeb.geo+0+0000000235.json</td><td>103</td><td>1696863982000</td></tr><tr><td>dbfs:/mnt/aws_data/topics/12d4ce482aeb.geo/partition=0/12d4ce482aeb.geo+0+0000000236.json</td><td>12d4ce482aeb.geo+0+0000000236.json</td><td>101</td><td>1696863983000</td></tr><tr><td>dbfs:/mnt/aws_data/topics/12d4ce482aeb.geo/partition=0/12d4ce482aeb.geo+0+0000000237.json</td><td>12d4ce482aeb.geo+0+0000000237.json</td><td>114</td><td>1696863984000</td></tr><tr><td>dbfs:/mnt/aws_data/topics/12d4ce482aeb.geo/partition=0/12d4ce482aeb.geo+0+0000000238.json</td><td>12d4ce482aeb.geo+0+0000000238.json</td><td>111</td><td>1696863986000</td></tr><tr><td>dbfs:/mnt/aws_data/topics/12d4ce482aeb.geo/partition=0/12d4ce482aeb.geo+0+0000000239.json</td><td>12d4ce482aeb.geo+0+0000000239.json</td><td>115</td><td>1696863988000</td></tr><tr><td>dbfs:/mnt/aws_data/topics/12d4ce482aeb.geo/partition=0/12d4ce482aeb.geo+0+0000000240.json</td><td>12d4ce482aeb.geo+0+0000000240.json</td><td>122</td><td>1696863989000</td></tr><tr><td>dbfs:/mnt/aws_data/topics/12d4ce482aeb.geo/partition=0/12d4ce482aeb.geo+0+0000000241.json</td><td>12d4ce482aeb.geo+0+0000000241.json</td><td>113</td><td>1696863989000</td></tr><tr><td>dbfs:/mnt/aws_data/topics/12d4ce482aeb.geo/partition=0/12d4ce482aeb.geo+0+0000000242.json</td><td>12d4ce482aeb.geo+0+0000000242.json</td><td>110</td><td>1696863992000</td></tr><tr><td>dbfs:/mnt/aws_data/topics/12d4ce482aeb.geo/partition=0/12d4ce482aeb.geo+0+0000000243.json</td><td>12d4ce482aeb.geo+0+0000000243.json</td><td>111</td><td>1696863993000</td></tr><tr><td>dbfs:/mnt/aws_data/topics/12d4ce482aeb.geo/partition=0/12d4ce482aeb.geo+0+0000000244.json</td><td>12d4ce482aeb.geo+0+0000000244.json</td><td>115</td><td>1696863994000</td></tr><tr><td>dbfs:/mnt/aws_data/topics/12d4ce482aeb.geo/partition=0/12d4ce482aeb.geo+0+0000000245.json</td><td>12d4ce482aeb.geo+0+0000000245.json</td><td>108</td><td>1696863996000</td></tr><tr><td>dbfs:/mnt/aws_data/topics/12d4ce482aeb.geo/partition=0/12d4ce482aeb.geo+0+0000000246.json</td><td>12d4ce482aeb.geo+0+0000000246.json</td><td>117</td><td>1696863998000</td></tr><tr><td>dbfs:/mnt/aws_data/topics/12d4ce482aeb.geo/partition=0/12d4ce482aeb.geo+0+0000000247.json</td><td>12d4ce482aeb.geo+0+0000000247.json</td><td>110</td><td>1696864000000</td></tr><tr><td>dbfs:/mnt/aws_data/topics/12d4ce482aeb.geo/partition=0/12d4ce482aeb.geo+0+0000000248.json</td><td>12d4ce482aeb.geo+0+0000000248.json</td><td>108</td><td>1696864002000</td></tr><tr><td>dbfs:/mnt/aws_data/topics/12d4ce482aeb.geo/partition=0/12d4ce482aeb.geo+0+0000000249.json</td><td>12d4ce482aeb.geo+0+0000000249.json</td><td>116</td><td>1696864003000</td></tr><tr><td>dbfs:/mnt/aws_data/topics/12d4ce482aeb.geo/partition=0/12d4ce482aeb.geo+0+0000000250.json</td><td>12d4ce482aeb.geo+0+0000000250.json</td><td>108</td><td>1696864003000</td></tr><tr><td>dbfs:/mnt/aws_data/topics/12d4ce482aeb.geo/partition=0/12d4ce482aeb.geo+0+0000000251.json</td><td>12d4ce482aeb.geo+0+0000000251.json</td><td>106</td><td>1696864004000</td></tr><tr><td>dbfs:/mnt/aws_data/topics/12d4ce482aeb.geo/partition=0/12d4ce482aeb.geo+0+0000000252.json</td><td>12d4ce482aeb.geo+0+0000000252.json</td><td>112</td><td>1696864005000</td></tr><tr><td>dbfs:/mnt/aws_data/topics/12d4ce482aeb.geo/partition=0/12d4ce482aeb.geo+0+0000000253.json</td><td>12d4ce482aeb.geo+0+0000000253.json</td><td>113</td><td>1696864007000</td></tr><tr><td>dbfs:/mnt/aws_data/topics/12d4ce482aeb.geo/partition=0/12d4ce482aeb.geo+0+0000000254.json</td><td>12d4ce482aeb.geo+0+0000000254.json</td><td>116</td><td>1696864009000</td></tr><tr><td>dbfs:/mnt/aws_data/topics/12d4ce482aeb.geo/partition=0/12d4ce482aeb.geo+0+0000000255.json</td><td>12d4ce482aeb.geo+0+0000000255.json</td><td>130</td><td>1696864011000</td></tr><tr><td>dbfs:/mnt/aws_data/topics/12d4ce482aeb.geo/partition=0/12d4ce482aeb.geo+0+0000000256.json</td><td>12d4ce482aeb.geo+0+0000000256.json</td><td>108</td><td>1696864012000</td></tr><tr><td>dbfs:/mnt/aws_data/topics/12d4ce482aeb.geo/partition=0/12d4ce482aeb.geo+0+0000000257.json</td><td>12d4ce482aeb.geo+0+0000000257.json</td><td>108</td><td>1696864013000</td></tr><tr><td>dbfs:/mnt/aws_data/topics/12d4ce482aeb.geo/partition=0/12d4ce482aeb.geo+0+0000000258.json</td><td>12d4ce482aeb.geo+0+0000000258.json</td><td>106</td><td>1696864014000</td></tr><tr><td>dbfs:/mnt/aws_data/topics/12d4ce482aeb.geo/partition=0/12d4ce482aeb.geo+0+0000000259.json</td><td>12d4ce482aeb.geo+0+0000000259.json</td><td>106</td><td>1696864016000</td></tr><tr><td>dbfs:/mnt/aws_data/topics/12d4ce482aeb.geo/partition=0/12d4ce482aeb.geo+0+0000000260.json</td><td>12d4ce482aeb.geo+0+0000000260.json</td><td>106</td><td>1696864018000</td></tr><tr><td>dbfs:/mnt/aws_data/topics/12d4ce482aeb.geo/partition=0/12d4ce482aeb.geo+0+0000000261.json</td><td>12d4ce482aeb.geo+0+0000000261.json</td><td>112</td><td>1696864019000</td></tr><tr><td>dbfs:/mnt/aws_data/topics/12d4ce482aeb.geo/partition=0/12d4ce482aeb.geo+0+0000000262.json</td><td>12d4ce482aeb.geo+0+0000000262.json</td><td>105</td><td>1696864020000</td></tr><tr><td>dbfs:/mnt/aws_data/topics/12d4ce482aeb.geo/partition=0/12d4ce482aeb.geo+0+0000000263.json</td><td>12d4ce482aeb.geo+0+0000000263.json</td><td>107</td><td>1696864021000</td></tr><tr><td>dbfs:/mnt/aws_data/topics/12d4ce482aeb.geo/partition=0/12d4ce482aeb.geo+0+0000000264.json</td><td>12d4ce482aeb.geo+0+0000000264.json</td><td>108</td><td>1696864022000</td></tr><tr><td>dbfs:/mnt/aws_data/topics/12d4ce482aeb.geo/partition=0/12d4ce482aeb.geo+0+0000000265.json</td><td>12d4ce482aeb.geo+0+0000000265.json</td><td>110</td><td>1696864023000</td></tr><tr><td>dbfs:/mnt/aws_data/topics/12d4ce482aeb.geo/partition=0/12d4ce482aeb.geo+0+0000000266.json</td><td>12d4ce482aeb.geo+0+0000000266.json</td><td>107</td><td>1696864024000</td></tr><tr><td>dbfs:/mnt/aws_data/topics/12d4ce482aeb.geo/partition=0/12d4ce482aeb.geo+0+0000000267.json</td><td>12d4ce482aeb.geo+0+0000000267.json</td><td>109</td><td>1696864026000</td></tr><tr><td>dbfs:/mnt/aws_data/topics/12d4ce482aeb.geo/partition=0/12d4ce482aeb.geo+0+0000000268.json</td><td>12d4ce482aeb.geo+0+0000000268.json</td><td>110</td><td>1696864028000</td></tr><tr><td>dbfs:/mnt/aws_data/topics/12d4ce482aeb.geo/partition=0/12d4ce482aeb.geo+0+0000000269.json</td><td>12d4ce482aeb.geo+0+0000000269.json</td><td>108</td><td>1696864030000</td></tr><tr><td>dbfs:/mnt/aws_data/topics/12d4ce482aeb.geo/partition=0/12d4ce482aeb.geo+0+0000000270.json</td><td>12d4ce482aeb.geo+0+0000000270.json</td><td>106</td><td>1696864032000</td></tr><tr><td>dbfs:/mnt/aws_data/topics/12d4ce482aeb.geo/partition=0/12d4ce482aeb.geo+0+0000000271.json</td><td>12d4ce482aeb.geo+0+0000000271.json</td><td>106</td><td>1696864034000</td></tr><tr><td>dbfs:/mnt/aws_data/topics/12d4ce482aeb.geo/partition=0/12d4ce482aeb.geo+0+0000000272.json</td><td>12d4ce482aeb.geo+0+0000000272.json</td><td>109</td><td>1696864034000</td></tr><tr><td>dbfs:/mnt/aws_data/topics/12d4ce482aeb.geo/partition=0/12d4ce482aeb.geo+0+0000000273.json</td><td>12d4ce482aeb.geo+0+0000000273.json</td><td>108</td><td>1696864036000</td></tr><tr><td>dbfs:/mnt/aws_data/topics/12d4ce482aeb.geo/partition=0/12d4ce482aeb.geo+0+0000000274.json</td><td>12d4ce482aeb.geo+0+0000000274.json</td><td>112</td><td>1696864037000</td></tr><tr><td>dbfs:/mnt/aws_data/topics/12d4ce482aeb.geo/partition=0/12d4ce482aeb.geo+0+0000000275.json</td><td>12d4ce482aeb.geo+0+0000000275.json</td><td>114</td><td>1696864038000</td></tr><tr><td>dbfs:/mnt/aws_data/topics/12d4ce482aeb.geo/partition=0/12d4ce482aeb.geo+0+0000000276.json</td><td>12d4ce482aeb.geo+0+0000000276.json</td><td>105</td><td>1696864039000</td></tr><tr><td>dbfs:/mnt/aws_data/topics/12d4ce482aeb.geo/partition=0/12d4ce482aeb.geo+0+0000000277.json</td><td>12d4ce482aeb.geo+0+0000000277.json</td><td>108</td><td>1696864041000</td></tr><tr><td>dbfs:/mnt/aws_data/topics/12d4ce482aeb.geo/partition=0/12d4ce482aeb.geo+0+0000000278.json</td><td>12d4ce482aeb.geo+0+0000000278.json</td><td>112</td><td>1696864042000</td></tr><tr><td>dbfs:/mnt/aws_data/topics/12d4ce482aeb.geo/partition=0/12d4ce482aeb.geo+0+0000000279.json</td><td>12d4ce482aeb.geo+0+0000000279.json</td><td>112</td><td>1696864043000</td></tr><tr><td>dbfs:/mnt/aws_data/topics/12d4ce482aeb.geo/partition=0/12d4ce482aeb.geo+0+0000000280.json</td><td>12d4ce482aeb.geo+0+0000000280.json</td><td>107</td><td>1696864044000</td></tr><tr><td>dbfs:/mnt/aws_data/topics/12d4ce482aeb.geo/partition=0/12d4ce482aeb.geo+0+0000000281.json</td><td>12d4ce482aeb.geo+0+0000000281.json</td><td>108</td><td>1696864045000</td></tr><tr><td>dbfs:/mnt/aws_data/topics/12d4ce482aeb.geo/partition=0/12d4ce482aeb.geo+0+0000000282.json</td><td>12d4ce482aeb.geo+0+0000000282.json</td><td>111</td><td>1696864046000</td></tr><tr><td>dbfs:/mnt/aws_data/topics/12d4ce482aeb.geo/partition=0/12d4ce482aeb.geo+0+0000000283.json</td><td>12d4ce482aeb.geo+0+0000000283.json</td><td>110</td><td>1696864048000</td></tr><tr><td>dbfs:/mnt/aws_data/topics/12d4ce482aeb.geo/partition=0/12d4ce482aeb.geo+0+0000000284.json</td><td>12d4ce482aeb.geo+0+0000000284.json</td><td>112</td><td>1696864050000</td></tr><tr><td>dbfs:/mnt/aws_data/topics/12d4ce482aeb.geo/partition=0/12d4ce482aeb.geo+0+0000000285.json</td><td>12d4ce482aeb.geo+0+0000000285.json</td><td>106</td><td>1696864051000</td></tr><tr><td>dbfs:/mnt/aws_data/topics/12d4ce482aeb.geo/partition=0/12d4ce482aeb.geo+0+0000000286.json</td><td>12d4ce482aeb.geo+0+0000000286.json</td><td>107</td><td>1696864053000</td></tr><tr><td>dbfs:/mnt/aws_data/topics/12d4ce482aeb.geo/partition=0/12d4ce482aeb.geo+0+0000000287.json</td><td>12d4ce482aeb.geo+0+0000000287.json</td><td>129</td><td>1696864055000</td></tr><tr><td>dbfs:/mnt/aws_data/topics/12d4ce482aeb.geo/partition=0/12d4ce482aeb.geo+0+0000000288.json</td><td>12d4ce482aeb.geo+0+0000000288.json</td><td>145</td><td>1696864057000</td></tr><tr><td>dbfs:/mnt/aws_data/topics/12d4ce482aeb.geo/partition=0/12d4ce482aeb.geo+0+0000000289.json</td><td>12d4ce482aeb.geo+0+0000000289.json</td><td>109</td><td>1696864059000</td></tr><tr><td>dbfs:/mnt/aws_data/topics/12d4ce482aeb.geo/partition=0/12d4ce482aeb.geo+0+0000000290.json</td><td>12d4ce482aeb.geo+0+0000000290.json</td><td>104</td><td>1696864061000</td></tr><tr><td>dbfs:/mnt/aws_data/topics/12d4ce482aeb.geo/partition=0/12d4ce482aeb.geo+0+0000000291.json</td><td>12d4ce482aeb.geo+0+0000000291.json</td><td>113</td><td>1696864063000</td></tr><tr><td>dbfs:/mnt/aws_data/topics/12d4ce482aeb.geo/partition=0/12d4ce482aeb.geo+0+0000000292.json</td><td>12d4ce482aeb.geo+0+0000000292.json</td><td>111</td><td>1696864065000</td></tr><tr><td>dbfs:/mnt/aws_data/topics/12d4ce482aeb.geo/partition=0/12d4ce482aeb.geo+0+0000000293.json</td><td>12d4ce482aeb.geo+0+0000000293.json</td><td>108</td><td>1696864067000</td></tr><tr><td>dbfs:/mnt/aws_data/topics/12d4ce482aeb.geo/partition=0/12d4ce482aeb.geo+0+0000000294.json</td><td>12d4ce482aeb.geo+0+0000000294.json</td><td>106</td><td>1696864069000</td></tr><tr><td>dbfs:/mnt/aws_data/topics/12d4ce482aeb.geo/partition=0/12d4ce482aeb.geo+0+0000000295.json</td><td>12d4ce482aeb.geo+0+0000000295.json</td><td>106</td><td>1696864070000</td></tr><tr><td>dbfs:/mnt/aws_data/topics/12d4ce482aeb.geo/partition=0/12d4ce482aeb.geo+0+0000000296.json</td><td>12d4ce482aeb.geo+0+0000000296.json</td><td>108</td><td>1696864071000</td></tr><tr><td>dbfs:/mnt/aws_data/topics/12d4ce482aeb.geo/partition=0/12d4ce482aeb.geo+0+0000000297.json</td><td>12d4ce482aeb.geo+0+0000000297.json</td><td>120</td><td>1696864072000</td></tr><tr><td>dbfs:/mnt/aws_data/topics/12d4ce482aeb.geo/partition=0/12d4ce482aeb.geo+0+0000000298.json</td><td>12d4ce482aeb.geo+0+0000000298.json</td><td>108</td><td>1696864073000</td></tr><tr><td>dbfs:/mnt/aws_data/topics/12d4ce482aeb.geo/partition=0/12d4ce482aeb.geo+0+0000000299.json</td><td>12d4ce482aeb.geo+0+0000000299.json</td><td>123</td><td>1696864075000</td></tr><tr><td>dbfs:/mnt/aws_data/topics/12d4ce482aeb.geo/partition=0/12d4ce482aeb.geo+0+0000000300.json</td><td>12d4ce482aeb.geo+0+0000000300.json</td><td>106</td><td>1696864076000</td></tr><tr><td>dbfs:/mnt/aws_data/topics/12d4ce482aeb.geo/partition=0/12d4ce482aeb.geo+0+0000000301.json</td><td>12d4ce482aeb.geo+0+0000000301.json</td><td>108</td><td>1696864077000</td></tr><tr><td>dbfs:/mnt/aws_data/topics/12d4ce482aeb.geo/partition=0/12d4ce482aeb.geo+0+0000000302.json</td><td>12d4ce482aeb.geo+0+0000000302.json</td><td>108</td><td>1696864078000</td></tr><tr><td>dbfs:/mnt/aws_data/topics/12d4ce482aeb.geo/partition=0/12d4ce482aeb.geo+0+0000000303.json</td><td>12d4ce482aeb.geo+0+0000000303.json</td><td>107</td><td>1696864080000</td></tr><tr><td>dbfs:/mnt/aws_data/topics/12d4ce482aeb.geo/partition=0/12d4ce482aeb.geo+0+0000000304.json</td><td>12d4ce482aeb.geo+0+0000000304.json</td><td>109</td><td>1696864082000</td></tr><tr><td>dbfs:/mnt/aws_data/topics/12d4ce482aeb.geo/partition=0/12d4ce482aeb.geo+0+0000000305.json</td><td>12d4ce482aeb.geo+0+0000000305.json</td><td>108</td><td>1696864084000</td></tr><tr><td>dbfs:/mnt/aws_data/topics/12d4ce482aeb.geo/partition=0/12d4ce482aeb.geo+0+0000000306.json</td><td>12d4ce482aeb.geo+0+0000000306.json</td><td>109</td><td>1696864086000</td></tr><tr><td>dbfs:/mnt/aws_data/topics/12d4ce482aeb.geo/partition=0/12d4ce482aeb.geo+0+0000000307.json</td><td>12d4ce482aeb.geo+0+0000000307.json</td><td>108</td><td>1696864088000</td></tr><tr><td>dbfs:/mnt/aws_data/topics/12d4ce482aeb.geo/partition=0/12d4ce482aeb.geo+0+0000000308.json</td><td>12d4ce482aeb.geo+0+0000000308.json</td><td>145</td><td>1696864089000</td></tr><tr><td>dbfs:/mnt/aws_data/topics/12d4ce482aeb.geo/partition=0/12d4ce482aeb.geo+0+0000000309.json</td><td>12d4ce482aeb.geo+0+0000000309.json</td><td>106</td><td>1696864089000</td></tr><tr><td>dbfs:/mnt/aws_data/topics/12d4ce482aeb.geo/partition=0/12d4ce482aeb.geo+0+0000000310.json</td><td>12d4ce482aeb.geo+0+0000000310.json</td><td>106</td><td>1696864090000</td></tr><tr><td>dbfs:/mnt/aws_data/topics/12d4ce482aeb.geo/partition=0/12d4ce482aeb.geo+0+0000000311.json</td><td>12d4ce482aeb.geo+0+0000000311.json</td><td>108</td><td>1696864091000</td></tr><tr><td>dbfs:/mnt/aws_data/topics/12d4ce482aeb.geo/partition=0/12d4ce482aeb.geo+0+0000000312.json</td><td>12d4ce482aeb.geo+0+0000000312.json</td><td>115</td><td>1696864092000</td></tr><tr><td>dbfs:/mnt/aws_data/topics/12d4ce482aeb.geo/partition=0/12d4ce482aeb.geo+0+0000000313.json</td><td>12d4ce482aeb.geo+0+0000000313.json</td><td>107</td><td>1696864093000</td></tr><tr><td>dbfs:/mnt/aws_data/topics/12d4ce482aeb.geo/partition=0/12d4ce482aeb.geo+0+0000000314.json</td><td>12d4ce482aeb.geo+0+0000000314.json</td><td>108</td><td>1696864094000</td></tr><tr><td>dbfs:/mnt/aws_data/topics/12d4ce482aeb.geo/partition=0/12d4ce482aeb.geo+0+0000000315.json</td><td>12d4ce482aeb.geo+0+0000000315.json</td><td>106</td><td>1696864095000</td></tr><tr><td>dbfs:/mnt/aws_data/topics/12d4ce482aeb.geo/partition=0/12d4ce482aeb.geo+0+0000000316.json</td><td>12d4ce482aeb.geo+0+0000000316.json</td><td>106</td><td>1696864097000</td></tr><tr><td>dbfs:/mnt/aws_data/topics/12d4ce482aeb.geo/partition=0/12d4ce482aeb.geo+0+0000000317.json</td><td>12d4ce482aeb.geo+0+0000000317.json</td><td>109</td><td>1696864098000</td></tr><tr><td>dbfs:/mnt/aws_data/topics/12d4ce482aeb.geo/partition=0/12d4ce482aeb.geo+0+0000000318.json</td><td>12d4ce482aeb.geo+0+0000000318.json</td><td>125</td><td>1696864098000</td></tr><tr><td>dbfs:/mnt/aws_data/topics/12d4ce482aeb.geo/partition=0/12d4ce482aeb.geo+0+0000000319.json</td><td>12d4ce482aeb.geo+0+0000000319.json</td><td>102</td><td>1696864100000</td></tr><tr><td>dbfs:/mnt/aws_data/topics/12d4ce482aeb.geo/partition=0/12d4ce482aeb.geo+0+0000000320.json</td><td>12d4ce482aeb.geo+0+0000000320.json</td><td>106</td><td>1696864102000</td></tr><tr><td>dbfs:/mnt/aws_data/topics/12d4ce482aeb.geo/partition=0/12d4ce482aeb.geo+0+0000000321.json</td><td>12d4ce482aeb.geo+0+0000000321.json</td><td>108</td><td>1696864103000</td></tr><tr><td>dbfs:/mnt/aws_data/topics/12d4ce482aeb.geo/partition=0/12d4ce482aeb.geo+0+0000000322.json</td><td>12d4ce482aeb.geo+0+0000000322.json</td><td>108</td><td>1696864104000</td></tr><tr><td>dbfs:/mnt/aws_data/topics/12d4ce482aeb.geo/partition=0/12d4ce482aeb.geo+0+0000000323.json</td><td>12d4ce482aeb.geo+0+0000000323.json</td><td>112</td><td>1696864106000</td></tr><tr><td>dbfs:/mnt/aws_data/topics/12d4ce482aeb.geo/partition=0/12d4ce482aeb.geo+0+0000000324.json</td><td>12d4ce482aeb.geo+0+0000000324.json</td><td>104</td><td>1696864108000</td></tr><tr><td>dbfs:/mnt/aws_data/topics/12d4ce482aeb.geo/partition=0/12d4ce482aeb.geo+0+0000000325.json</td><td>12d4ce482aeb.geo+0+0000000325.json</td><td>108</td><td>1696864109000</td></tr><tr><td>dbfs:/mnt/aws_data/topics/12d4ce482aeb.geo/partition=0/12d4ce482aeb.geo+0+0000000326.json</td><td>12d4ce482aeb.geo+0+0000000326.json</td><td>107</td><td>1696864111000</td></tr><tr><td>dbfs:/mnt/aws_data/topics/12d4ce482aeb.geo/partition=0/12d4ce482aeb.geo+0+0000000327.json</td><td>12d4ce482aeb.geo+0+0000000327.json</td><td>108</td><td>1696864113000</td></tr><tr><td>dbfs:/mnt/aws_data/topics/12d4ce482aeb.geo/partition=0/12d4ce482aeb.geo+0+0000000328.json</td><td>12d4ce482aeb.geo+0+0000000328.json</td><td>114</td><td>1696864115000</td></tr><tr><td>dbfs:/mnt/aws_data/topics/12d4ce482aeb.geo/partition=0/12d4ce482aeb.geo+0+0000000329.json</td><td>12d4ce482aeb.geo+0+0000000329.json</td><td>126</td><td>1696864116000</td></tr><tr><td>dbfs:/mnt/aws_data/topics/12d4ce482aeb.geo/partition=0/12d4ce482aeb.geo+0+0000000330.json</td><td>12d4ce482aeb.geo+0+0000000330.json</td><td>110</td><td>1696864117000</td></tr><tr><td>dbfs:/mnt/aws_data/topics/12d4ce482aeb.geo/partition=0/12d4ce482aeb.geo+0+0000000331.json</td><td>12d4ce482aeb.geo+0+0000000331.json</td><td>115</td><td>1696864119000</td></tr><tr><td>dbfs:/mnt/aws_data/topics/12d4ce482aeb.geo/partition=0/12d4ce482aeb.geo+0+0000000332.json</td><td>12d4ce482aeb.geo+0+0000000332.json</td><td>105</td><td>1696864121000</td></tr><tr><td>dbfs:/mnt/aws_data/topics/12d4ce482aeb.geo/partition=0/12d4ce482aeb.geo+0+0000000333.json</td><td>12d4ce482aeb.geo+0+0000000333.json</td><td>111</td><td>1696864122000</td></tr><tr><td>dbfs:/mnt/aws_data/topics/12d4ce482aeb.geo/partition=0/12d4ce482aeb.geo+0+0000000334.json</td><td>12d4ce482aeb.geo+0+0000000334.json</td><td>106</td><td>1696864123000</td></tr><tr><td>dbfs:/mnt/aws_data/topics/12d4ce482aeb.geo/partition=0/12d4ce482aeb.geo+0+0000000335.json</td><td>12d4ce482aeb.geo+0+0000000335.json</td><td>109</td><td>1696864124000</td></tr><tr><td>dbfs:/mnt/aws_data/topics/12d4ce482aeb.geo/partition=0/12d4ce482aeb.geo+0+0000000336.json</td><td>12d4ce482aeb.geo+0+0000000336.json</td><td>121</td><td>1696864125000</td></tr><tr><td>dbfs:/mnt/aws_data/topics/12d4ce482aeb.geo/partition=0/12d4ce482aeb.geo+0+0000000337.json</td><td>12d4ce482aeb.geo+0+0000000337.json</td><td>114</td><td>1696864125000</td></tr><tr><td>dbfs:/mnt/aws_data/topics/12d4ce482aeb.geo/partition=0/12d4ce482aeb.geo+0+0000000338.json</td><td>12d4ce482aeb.geo+0+0000000338.json</td><td>109</td><td>1696864126000</td></tr><tr><td>dbfs:/mnt/aws_data/topics/12d4ce482aeb.geo/partition=0/12d4ce482aeb.geo+0+0000000339.json</td><td>12d4ce482aeb.geo+0+0000000339.json</td><td>106</td><td>1696864128000</td></tr><tr><td>dbfs:/mnt/aws_data/topics/12d4ce482aeb.geo/partition=0/12d4ce482aeb.geo+0+0000000340.json</td><td>12d4ce482aeb.geo+0+0000000340.json</td><td>109</td><td>1696864130000</td></tr><tr><td>dbfs:/mnt/aws_data/topics/12d4ce482aeb.geo/partition=0/12d4ce482aeb.geo+0+0000000341.json</td><td>12d4ce482aeb.geo+0+0000000341.json</td><td>106</td><td>1696864131000</td></tr><tr><td>dbfs:/mnt/aws_data/topics/12d4ce482aeb.geo/partition=0/12d4ce482aeb.geo+0+0000000342.json</td><td>12d4ce482aeb.geo+0+0000000342.json</td><td>121</td><td>1696864133000</td></tr><tr><td>dbfs:/mnt/aws_data/topics/12d4ce482aeb.geo/partition=0/12d4ce482aeb.geo+0+0000000343.json</td><td>12d4ce482aeb.geo+0+0000000343.json</td><td>107</td><td>1696864135000</td></tr><tr><td>dbfs:/mnt/aws_data/topics/12d4ce482aeb.geo/partition=0/12d4ce482aeb.geo+0+0000000344.json</td><td>12d4ce482aeb.geo+0+0000000344.json</td><td>117</td><td>1696864136000</td></tr><tr><td>dbfs:/mnt/aws_data/topics/12d4ce482aeb.geo/partition=0/12d4ce482aeb.geo+0+0000000345.json</td><td>12d4ce482aeb.geo+0+0000000345.json</td><td>108</td><td>1696864137000</td></tr><tr><td>dbfs:/mnt/aws_data/topics/12d4ce482aeb.geo/partition=0/12d4ce482aeb.geo+0+0000000346.json</td><td>12d4ce482aeb.geo+0+0000000346.json</td><td>105</td><td>1696864139000</td></tr><tr><td>dbfs:/mnt/aws_data/topics/12d4ce482aeb.geo/partition=0/12d4ce482aeb.geo+0+0000000347.json</td><td>12d4ce482aeb.geo+0+0000000347.json</td><td>107</td><td>1696864141000</td></tr><tr><td>dbfs:/mnt/aws_data/topics/12d4ce482aeb.geo/partition=0/12d4ce482aeb.geo+0+0000000348.json</td><td>12d4ce482aeb.geo+0+0000000348.json</td><td>106</td><td>1696864142000</td></tr><tr><td>dbfs:/mnt/aws_data/topics/12d4ce482aeb.geo/partition=0/12d4ce482aeb.geo+0+0000000349.json</td><td>12d4ce482aeb.geo+0+0000000349.json</td><td>105</td><td>1696864144000</td></tr><tr><td>dbfs:/mnt/aws_data/topics/12d4ce482aeb.geo/partition=0/12d4ce482aeb.geo+0+0000000350.json</td><td>12d4ce482aeb.geo+0+0000000350.json</td><td>105</td><td>1696864145000</td></tr><tr><td>dbfs:/mnt/aws_data/topics/12d4ce482aeb.geo/partition=0/12d4ce482aeb.geo+0+0000000351.json</td><td>12d4ce482aeb.geo+0+0000000351.json</td><td>123</td><td>1696864146000</td></tr><tr><td>dbfs:/mnt/aws_data/topics/12d4ce482aeb.geo/partition=0/12d4ce482aeb.geo+0+0000000352.json</td><td>12d4ce482aeb.geo+0+0000000352.json</td><td>110</td><td>1696864147000</td></tr><tr><td>dbfs:/mnt/aws_data/topics/12d4ce482aeb.geo/partition=0/12d4ce482aeb.geo+0+0000000353.json</td><td>12d4ce482aeb.geo+0+0000000353.json</td><td>110</td><td>1696864148000</td></tr><tr><td>dbfs:/mnt/aws_data/topics/12d4ce482aeb.geo/partition=0/12d4ce482aeb.geo+0+0000000354.json</td><td>12d4ce482aeb.geo+0+0000000354.json</td><td>115</td><td>1696864149000</td></tr><tr><td>dbfs:/mnt/aws_data/topics/12d4ce482aeb.geo/partition=0/12d4ce482aeb.geo+0+0000000355.json</td><td>12d4ce482aeb.geo+0+0000000355.json</td><td>104</td><td>1696864150000</td></tr><tr><td>dbfs:/mnt/aws_data/topics/12d4ce482aeb.geo/partition=0/12d4ce482aeb.geo+0+0000000356.json</td><td>12d4ce482aeb.geo+0+0000000356.json</td><td>104</td><td>1696864151000</td></tr><tr><td>dbfs:/mnt/aws_data/topics/12d4ce482aeb.geo/partition=0/12d4ce482aeb.geo+0+0000000357.json</td><td>12d4ce482aeb.geo+0+0000000357.json</td><td>106</td><td>1696864152000</td></tr><tr><td>dbfs:/mnt/aws_data/topics/12d4ce482aeb.geo/partition=0/12d4ce482aeb.geo+0+0000000358.json</td><td>12d4ce482aeb.geo+0+0000000358.json</td><td>106</td><td>1696864154000</td></tr><tr><td>dbfs:/mnt/aws_data/topics/12d4ce482aeb.geo/partition=0/12d4ce482aeb.geo+0+0000000359.json</td><td>12d4ce482aeb.geo+0+0000000359.json</td><td>119</td><td>1696864155000</td></tr><tr><td>dbfs:/mnt/aws_data/topics/12d4ce482aeb.geo/partition=0/12d4ce482aeb.geo+0+0000000360.json</td><td>12d4ce482aeb.geo+0+0000000360.json</td><td>111</td><td>1696864155000</td></tr><tr><td>dbfs:/mnt/aws_data/topics/12d4ce482aeb.geo/partition=0/12d4ce482aeb.geo+0+0000000361.json</td><td>12d4ce482aeb.geo+0+0000000361.json</td><td>111</td><td>1696864157000</td></tr><tr><td>dbfs:/mnt/aws_data/topics/12d4ce482aeb.geo/partition=0/12d4ce482aeb.geo+0+0000000362.json</td><td>12d4ce482aeb.geo+0+0000000362.json</td><td>106</td><td>1696864158000</td></tr><tr><td>dbfs:/mnt/aws_data/topics/12d4ce482aeb.geo/partition=0/12d4ce482aeb.geo+0+0000000363.json</td><td>12d4ce482aeb.geo+0+0000000363.json</td><td>116</td><td>1696864159000</td></tr><tr><td>dbfs:/mnt/aws_data/topics/12d4ce482aeb.geo/partition=0/12d4ce482aeb.geo+0+0000000364.json</td><td>12d4ce482aeb.geo+0+0000000364.json</td><td>107</td><td>1696864160000</td></tr><tr><td>dbfs:/mnt/aws_data/topics/12d4ce482aeb.geo/partition=0/12d4ce482aeb.geo+0+0000000365.json</td><td>12d4ce482aeb.geo+0+0000000365.json</td><td>105</td><td>1696864162000</td></tr><tr><td>dbfs:/mnt/aws_data/topics/12d4ce482aeb.geo/partition=0/12d4ce482aeb.geo+0+0000000366.json</td><td>12d4ce482aeb.geo+0+0000000366.json</td><td>112</td><td>1696864164000</td></tr><tr><td>dbfs:/mnt/aws_data/topics/12d4ce482aeb.geo/partition=0/12d4ce482aeb.geo+0+0000000367.json</td><td>12d4ce482aeb.geo+0+0000000367.json</td><td>123</td><td>1696864166000</td></tr><tr><td>dbfs:/mnt/aws_data/topics/12d4ce482aeb.geo/partition=0/12d4ce482aeb.geo+0+0000000368.json</td><td>12d4ce482aeb.geo+0+0000000368.json</td><td>105</td><td>1696864166000</td></tr><tr><td>dbfs:/mnt/aws_data/topics/12d4ce482aeb.geo/partition=0/12d4ce482aeb.geo+0+0000000369.json</td><td>12d4ce482aeb.geo+0+0000000369.json</td><td>107</td><td>1696864168000</td></tr><tr><td>dbfs:/mnt/aws_data/topics/12d4ce482aeb.geo/partition=0/12d4ce482aeb.geo+0+0000000370.json</td><td>12d4ce482aeb.geo+0+0000000370.json</td><td>113</td><td>1696864169000</td></tr><tr><td>dbfs:/mnt/aws_data/topics/12d4ce482aeb.geo/partition=0/12d4ce482aeb.geo+0+0000000371.json</td><td>12d4ce482aeb.geo+0+0000000371.json</td><td>109</td><td>1696864170000</td></tr><tr><td>dbfs:/mnt/aws_data/topics/12d4ce482aeb.geo/partition=0/12d4ce482aeb.geo+0+0000000372.json</td><td>12d4ce482aeb.geo+0+0000000372.json</td><td>107</td><td>1696864171000</td></tr><tr><td>dbfs:/mnt/aws_data/topics/12d4ce482aeb.geo/partition=0/12d4ce482aeb.geo+0+0000000373.json</td><td>12d4ce482aeb.geo+0+0000000373.json</td><td>114</td><td>1696864172000</td></tr><tr><td>dbfs:/mnt/aws_data/topics/12d4ce482aeb.geo/partition=0/12d4ce482aeb.geo+0+0000000374.json</td><td>12d4ce482aeb.geo+0+0000000374.json</td><td>104</td><td>1696864174000</td></tr><tr><td>dbfs:/mnt/aws_data/topics/12d4ce482aeb.geo/partition=0/12d4ce482aeb.geo+0+0000000375.json</td><td>12d4ce482aeb.geo+0+0000000375.json</td><td>112</td><td>1696864174000</td></tr><tr><td>dbfs:/mnt/aws_data/topics/12d4ce482aeb.geo/partition=0/12d4ce482aeb.geo+0+0000000376.json</td><td>12d4ce482aeb.geo+0+0000000376.json</td><td>115</td><td>1696864176000</td></tr><tr><td>dbfs:/mnt/aws_data/topics/12d4ce482aeb.geo/partition=0/12d4ce482aeb.geo+0+0000000377.json</td><td>12d4ce482aeb.geo+0+0000000377.json</td><td>111</td><td>1696864178000</td></tr><tr><td>dbfs:/mnt/aws_data/topics/12d4ce482aeb.geo/partition=0/12d4ce482aeb.geo+0+0000000378.json</td><td>12d4ce482aeb.geo+0+0000000378.json</td><td>104</td><td>1696864179000</td></tr><tr><td>dbfs:/mnt/aws_data/topics/12d4ce482aeb.geo/partition=0/12d4ce482aeb.geo+0+0000000379.json</td><td>12d4ce482aeb.geo+0+0000000379.json</td><td>110</td><td>1696864181000</td></tr><tr><td>dbfs:/mnt/aws_data/topics/12d4ce482aeb.geo/partition=0/12d4ce482aeb.geo+0+0000000380.json</td><td>12d4ce482aeb.geo+0+0000000380.json</td><td>108</td><td>1696864182000</td></tr><tr><td>dbfs:/mnt/aws_data/topics/12d4ce482aeb.geo/partition=0/12d4ce482aeb.geo+0+0000000381.json</td><td>12d4ce482aeb.geo+0+0000000381.json</td><td>108</td><td>1696864183000</td></tr><tr><td>dbfs:/mnt/aws_data/topics/12d4ce482aeb.geo/partition=0/12d4ce482aeb.geo+0+0000000382.json</td><td>12d4ce482aeb.geo+0+0000000382.json</td><td>109</td><td>1696864185000</td></tr><tr><td>dbfs:/mnt/aws_data/topics/12d4ce482aeb.geo/partition=0/12d4ce482aeb.geo+0+0000000383.json</td><td>12d4ce482aeb.geo+0+0000000383.json</td><td>105</td><td>1696864185000</td></tr><tr><td>dbfs:/mnt/aws_data/topics/12d4ce482aeb.geo/partition=0/12d4ce482aeb.geo+0+0000000384.json</td><td>12d4ce482aeb.geo+0+0000000384.json</td><td>104</td><td>1696864187000</td></tr><tr><td>dbfs:/mnt/aws_data/topics/12d4ce482aeb.geo/partition=0/12d4ce482aeb.geo+0+0000000385.json</td><td>12d4ce482aeb.geo+0+0000000385.json</td><td>107</td><td>1696864189000</td></tr><tr><td>dbfs:/mnt/aws_data/topics/12d4ce482aeb.geo/partition=0/12d4ce482aeb.geo+0+0000000386.json</td><td>12d4ce482aeb.geo+0+0000000386.json</td><td>106</td><td>1696864190000</td></tr><tr><td>dbfs:/mnt/aws_data/topics/12d4ce482aeb.geo/partition=0/12d4ce482aeb.geo+0+0000000387.json</td><td>12d4ce482aeb.geo+0+0000000387.json</td><td>126</td><td>1696864192000</td></tr><tr><td>dbfs:/mnt/aws_data/topics/12d4ce482aeb.geo/partition=0/12d4ce482aeb.geo+0+0000000388.json</td><td>12d4ce482aeb.geo+0+0000000388.json</td><td>103</td><td>1696864193000</td></tr><tr><td>dbfs:/mnt/aws_data/topics/12d4ce482aeb.geo/partition=0/12d4ce482aeb.geo+0+0000000389.json</td><td>12d4ce482aeb.geo+0+0000000389.json</td><td>106</td><td>1696864195000</td></tr><tr><td>dbfs:/mnt/aws_data/topics/12d4ce482aeb.geo/partition=0/12d4ce482aeb.geo+0+0000000390.json</td><td>12d4ce482aeb.geo+0+0000000390.json</td><td>104</td><td>1696864195000</td></tr><tr><td>dbfs:/mnt/aws_data/topics/12d4ce482aeb.geo/partition=0/12d4ce482aeb.geo+0+0000000391.json</td><td>12d4ce482aeb.geo+0+0000000391.json</td><td>108</td><td>1696864196000</td></tr><tr><td>dbfs:/mnt/aws_data/topics/12d4ce482aeb.geo/partition=0/12d4ce482aeb.geo+0+0000000392.json</td><td>12d4ce482aeb.geo+0+0000000392.json</td><td>125</td><td>1696864198000</td></tr><tr><td>dbfs:/mnt/aws_data/topics/12d4ce482aeb.geo/partition=0/12d4ce482aeb.geo+0+0000000393.json</td><td>12d4ce482aeb.geo+0+0000000393.json</td><td>106</td><td>1696864199000</td></tr><tr><td>dbfs:/mnt/aws_data/topics/12d4ce482aeb.geo/partition=0/12d4ce482aeb.geo+0+0000000394.json</td><td>12d4ce482aeb.geo+0+0000000394.json</td><td>110</td><td>1696864200000</td></tr><tr><td>dbfs:/mnt/aws_data/topics/12d4ce482aeb.geo/partition=0/12d4ce482aeb.geo+0+0000000395.json</td><td>12d4ce482aeb.geo+0+0000000395.json</td><td>109</td><td>1696864201000</td></tr><tr><td>dbfs:/mnt/aws_data/topics/12d4ce482aeb.geo/partition=0/12d4ce482aeb.geo+0+0000000396.json</td><td>12d4ce482aeb.geo+0+0000000396.json</td><td>113</td><td>1696864202000</td></tr><tr><td>dbfs:/mnt/aws_data/topics/12d4ce482aeb.geo/partition=0/12d4ce482aeb.geo+0+0000000397.json</td><td>12d4ce482aeb.geo+0+0000000397.json</td><td>108</td><td>1696864204000</td></tr><tr><td>dbfs:/mnt/aws_data/topics/12d4ce482aeb.geo/partition=0/12d4ce482aeb.geo+0+0000000398.json</td><td>12d4ce482aeb.geo+0+0000000398.json</td><td>109</td><td>1696864204000</td></tr><tr><td>dbfs:/mnt/aws_data/topics/12d4ce482aeb.geo/partition=0/12d4ce482aeb.geo+0+0000000399.json</td><td>12d4ce482aeb.geo+0+0000000399.json</td><td>108</td><td>1696864206000</td></tr><tr><td>dbfs:/mnt/aws_data/topics/12d4ce482aeb.geo/partition=0/12d4ce482aeb.geo+0+0000000400.json</td><td>12d4ce482aeb.geo+0+0000000400.json</td><td>108</td><td>1696864208000</td></tr><tr><td>dbfs:/mnt/aws_data/topics/12d4ce482aeb.geo/partition=0/12d4ce482aeb.geo+0+0000000401.json</td><td>12d4ce482aeb.geo+0+0000000401.json</td><td>105</td><td>1696864210000</td></tr><tr><td>dbfs:/mnt/aws_data/topics/12d4ce482aeb.geo/partition=0/12d4ce482aeb.geo+0+0000000402.json</td><td>12d4ce482aeb.geo+0+0000000402.json</td><td>107</td><td>1696864212000</td></tr><tr><td>dbfs:/mnt/aws_data/topics/12d4ce482aeb.geo/partition=0/12d4ce482aeb.geo+0+0000000403.json</td><td>12d4ce482aeb.geo+0+0000000403.json</td><td>108</td><td>1696864214000</td></tr><tr><td>dbfs:/mnt/aws_data/topics/12d4ce482aeb.geo/partition=0/12d4ce482aeb.geo+0+0000000404.json</td><td>12d4ce482aeb.geo+0+0000000404.json</td><td>107</td><td>1696864215000</td></tr><tr><td>dbfs:/mnt/aws_data/topics/12d4ce482aeb.geo/partition=0/12d4ce482aeb.geo+0+0000000405.json</td><td>12d4ce482aeb.geo+0+0000000405.json</td><td>109</td><td>1696864216000</td></tr><tr><td>dbfs:/mnt/aws_data/topics/12d4ce482aeb.geo/partition=0/12d4ce482aeb.geo+0+0000000406.json</td><td>12d4ce482aeb.geo+0+0000000406.json</td><td>109</td><td>1696864218000</td></tr><tr><td>dbfs:/mnt/aws_data/topics/12d4ce482aeb.geo/partition=0/12d4ce482aeb.geo+0+0000000407.json</td><td>12d4ce482aeb.geo+0+0000000407.json</td><td>103</td><td>1696864219000</td></tr></tbody></table></div>"
      ]
     },
     "metadata": {
      "application/vnd.databricks.v1+output": {
       "addedWidgets": {},
       "aggData": [],
       "aggError": "",
       "aggOverflow": false,
       "aggSchema": [],
       "aggSeriesLimitReached": false,
       "aggType": "",
       "arguments": {},
       "columnCustomDisplayInfos": {},
       "data": [
        [
         "dbfs:/mnt/aws_data/topics/12d4ce482aeb.geo/partition=0/12d4ce482aeb.geo+0+0000000002.json",
         "12d4ce482aeb.geo+0+0000000002.json",
         114,
         1696863146000
        ],
        [
         "dbfs:/mnt/aws_data/topics/12d4ce482aeb.geo/partition=0/12d4ce482aeb.geo+0+0000000003.json",
         "12d4ce482aeb.geo+0+0000000003.json",
         108,
         1696863437000
        ],
        [
         "dbfs:/mnt/aws_data/topics/12d4ce482aeb.geo/partition=0/12d4ce482aeb.geo+0+0000000004.json",
         "12d4ce482aeb.geo+0+0000000004.json",
         108,
         1696863439000
        ],
        [
         "dbfs:/mnt/aws_data/topics/12d4ce482aeb.geo/partition=0/12d4ce482aeb.geo+0+0000000005.json",
         "12d4ce482aeb.geo+0+0000000005.json",
         108,
         1696863441000
        ],
        [
         "dbfs:/mnt/aws_data/topics/12d4ce482aeb.geo/partition=0/12d4ce482aeb.geo+0+0000000006.json",
         "12d4ce482aeb.geo+0+0000000006.json",
         113,
         1696863443000
        ],
        [
         "dbfs:/mnt/aws_data/topics/12d4ce482aeb.geo/partition=0/12d4ce482aeb.geo+0+0000000007.json",
         "12d4ce482aeb.geo+0+0000000007.json",
         105,
         1696863444000
        ],
        [
         "dbfs:/mnt/aws_data/topics/12d4ce482aeb.geo/partition=0/12d4ce482aeb.geo+0+0000000008.json",
         "12d4ce482aeb.geo+0+0000000008.json",
         108,
         1696863666000
        ],
        [
         "dbfs:/mnt/aws_data/topics/12d4ce482aeb.geo/partition=0/12d4ce482aeb.geo+0+0000000009.json",
         "12d4ce482aeb.geo+0+0000000009.json",
         108,
         1696863668000
        ],
        [
         "dbfs:/mnt/aws_data/topics/12d4ce482aeb.geo/partition=0/12d4ce482aeb.geo+0+0000000010.json",
         "12d4ce482aeb.geo+0+0000000010.json",
         108,
         1696863670000
        ],
        [
         "dbfs:/mnt/aws_data/topics/12d4ce482aeb.geo/partition=0/12d4ce482aeb.geo+0+0000000011.json",
         "12d4ce482aeb.geo+0+0000000011.json",
         113,
         1696863672000
        ],
        [
         "dbfs:/mnt/aws_data/topics/12d4ce482aeb.geo/partition=0/12d4ce482aeb.geo+0+0000000012.json",
         "12d4ce482aeb.geo+0+0000000012.json",
         105,
         1696863673000
        ],
        [
         "dbfs:/mnt/aws_data/topics/12d4ce482aeb.geo/partition=0/12d4ce482aeb.geo+0+0000000013.json",
         "12d4ce482aeb.geo+0+0000000013.json",
         107,
         1696863674000
        ],
        [
         "dbfs:/mnt/aws_data/topics/12d4ce482aeb.geo/partition=0/12d4ce482aeb.geo+0+0000000014.json",
         "12d4ce482aeb.geo+0+0000000014.json",
         113,
         1696863676000
        ],
        [
         "dbfs:/mnt/aws_data/topics/12d4ce482aeb.geo/partition=0/12d4ce482aeb.geo+0+0000000015.json",
         "12d4ce482aeb.geo+0+0000000015.json",
         125,
         1696863676000
        ],
        [
         "dbfs:/mnt/aws_data/topics/12d4ce482aeb.geo/partition=0/12d4ce482aeb.geo+0+0000000016.json",
         "12d4ce482aeb.geo+0+0000000016.json",
         109,
         1696863677000
        ],
        [
         "dbfs:/mnt/aws_data/topics/12d4ce482aeb.geo/partition=0/12d4ce482aeb.geo+0+0000000017.json",
         "12d4ce482aeb.geo+0+0000000017.json",
         111,
         1696863678000
        ],
        [
         "dbfs:/mnt/aws_data/topics/12d4ce482aeb.geo/partition=0/12d4ce482aeb.geo+0+0000000018.json",
         "12d4ce482aeb.geo+0+0000000018.json",
         114,
         1696863679000
        ],
        [
         "dbfs:/mnt/aws_data/topics/12d4ce482aeb.geo/partition=0/12d4ce482aeb.geo+0+0000000019.json",
         "12d4ce482aeb.geo+0+0000000019.json",
         108,
         1696863680000
        ],
        [
         "dbfs:/mnt/aws_data/topics/12d4ce482aeb.geo/partition=0/12d4ce482aeb.geo+0+0000000020.json",
         "12d4ce482aeb.geo+0+0000000020.json",
         109,
         1696863682000
        ],
        [
         "dbfs:/mnt/aws_data/topics/12d4ce482aeb.geo/partition=0/12d4ce482aeb.geo+0+0000000021.json",
         "12d4ce482aeb.geo+0+0000000021.json",
         109,
         1696863684000
        ],
        [
         "dbfs:/mnt/aws_data/topics/12d4ce482aeb.geo/partition=0/12d4ce482aeb.geo+0+0000000022.json",
         "12d4ce482aeb.geo+0+0000000022.json",
         106,
         1696863685000
        ],
        [
         "dbfs:/mnt/aws_data/topics/12d4ce482aeb.geo/partition=0/12d4ce482aeb.geo+0+0000000023.json",
         "12d4ce482aeb.geo+0+0000000023.json",
         111,
         1696863687000
        ],
        [
         "dbfs:/mnt/aws_data/topics/12d4ce482aeb.geo/partition=0/12d4ce482aeb.geo+0+0000000024.json",
         "12d4ce482aeb.geo+0+0000000024.json",
         109,
         1696863688000
        ],
        [
         "dbfs:/mnt/aws_data/topics/12d4ce482aeb.geo/partition=0/12d4ce482aeb.geo+0+0000000025.json",
         "12d4ce482aeb.geo+0+0000000025.json",
         107,
         1696863689000
        ],
        [
         "dbfs:/mnt/aws_data/topics/12d4ce482aeb.geo/partition=0/12d4ce482aeb.geo+0+0000000026.json",
         "12d4ce482aeb.geo+0+0000000026.json",
         109,
         1696863690000
        ],
        [
         "dbfs:/mnt/aws_data/topics/12d4ce482aeb.geo/partition=0/12d4ce482aeb.geo+0+0000000027.json",
         "12d4ce482aeb.geo+0+0000000027.json",
         145,
         1696863692000
        ],
        [
         "dbfs:/mnt/aws_data/topics/12d4ce482aeb.geo/partition=0/12d4ce482aeb.geo+0+0000000028.json",
         "12d4ce482aeb.geo+0+0000000028.json",
         107,
         1696863692000
        ],
        [
         "dbfs:/mnt/aws_data/topics/12d4ce482aeb.geo/partition=0/12d4ce482aeb.geo+0+0000000029.json",
         "12d4ce482aeb.geo+0+0000000029.json",
         110,
         1696863693000
        ],
        [
         "dbfs:/mnt/aws_data/topics/12d4ce482aeb.geo/partition=0/12d4ce482aeb.geo+0+0000000030.json",
         "12d4ce482aeb.geo+0+0000000030.json",
         110,
         1696863694000
        ],
        [
         "dbfs:/mnt/aws_data/topics/12d4ce482aeb.geo/partition=0/12d4ce482aeb.geo+0+0000000031.json",
         "12d4ce482aeb.geo+0+0000000031.json",
         123,
         1696863696000
        ],
        [
         "dbfs:/mnt/aws_data/topics/12d4ce482aeb.geo/partition=0/12d4ce482aeb.geo+0+0000000032.json",
         "12d4ce482aeb.geo+0+0000000032.json",
         118,
         1696863697000
        ],
        [
         "dbfs:/mnt/aws_data/topics/12d4ce482aeb.geo/partition=0/12d4ce482aeb.geo+0+0000000033.json",
         "12d4ce482aeb.geo+0+0000000033.json",
         108,
         1696863698000
        ],
        [
         "dbfs:/mnt/aws_data/topics/12d4ce482aeb.geo/partition=0/12d4ce482aeb.geo+0+0000000034.json",
         "12d4ce482aeb.geo+0+0000000034.json",
         105,
         1696863699000
        ],
        [
         "dbfs:/mnt/aws_data/topics/12d4ce482aeb.geo/partition=0/12d4ce482aeb.geo+0+0000000035.json",
         "12d4ce482aeb.geo+0+0000000035.json",
         110,
         1696863701000
        ],
        [
         "dbfs:/mnt/aws_data/topics/12d4ce482aeb.geo/partition=0/12d4ce482aeb.geo+0+0000000036.json",
         "12d4ce482aeb.geo+0+0000000036.json",
         109,
         1696863703000
        ],
        [
         "dbfs:/mnt/aws_data/topics/12d4ce482aeb.geo/partition=0/12d4ce482aeb.geo+0+0000000037.json",
         "12d4ce482aeb.geo+0+0000000037.json",
         120,
         1696863705000
        ],
        [
         "dbfs:/mnt/aws_data/topics/12d4ce482aeb.geo/partition=0/12d4ce482aeb.geo+0+0000000038.json",
         "12d4ce482aeb.geo+0+0000000038.json",
         104,
         1696863707000
        ],
        [
         "dbfs:/mnt/aws_data/topics/12d4ce482aeb.geo/partition=0/12d4ce482aeb.geo+0+0000000039.json",
         "12d4ce482aeb.geo+0+0000000039.json",
         106,
         1696863708000
        ],
        [
         "dbfs:/mnt/aws_data/topics/12d4ce482aeb.geo/partition=0/12d4ce482aeb.geo+0+0000000040.json",
         "12d4ce482aeb.geo+0+0000000040.json",
         109,
         1696863710000
        ],
        [
         "dbfs:/mnt/aws_data/topics/12d4ce482aeb.geo/partition=0/12d4ce482aeb.geo+0+0000000041.json",
         "12d4ce482aeb.geo+0+0000000041.json",
         106,
         1696863710000
        ],
        [
         "dbfs:/mnt/aws_data/topics/12d4ce482aeb.geo/partition=0/12d4ce482aeb.geo+0+0000000042.json",
         "12d4ce482aeb.geo+0+0000000042.json",
         108,
         1696863712000
        ],
        [
         "dbfs:/mnt/aws_data/topics/12d4ce482aeb.geo/partition=0/12d4ce482aeb.geo+0+0000000043.json",
         "12d4ce482aeb.geo+0+0000000043.json",
         108,
         1696863714000
        ],
        [
         "dbfs:/mnt/aws_data/topics/12d4ce482aeb.geo/partition=0/12d4ce482aeb.geo+0+0000000044.json",
         "12d4ce482aeb.geo+0+0000000044.json",
         108,
         1696863715000
        ],
        [
         "dbfs:/mnt/aws_data/topics/12d4ce482aeb.geo/partition=0/12d4ce482aeb.geo+0+0000000045.json",
         "12d4ce482aeb.geo+0+0000000045.json",
         104,
         1696863717000
        ],
        [
         "dbfs:/mnt/aws_data/topics/12d4ce482aeb.geo/partition=0/12d4ce482aeb.geo+0+0000000046.json",
         "12d4ce482aeb.geo+0+0000000046.json",
         111,
         1696863718000
        ],
        [
         "dbfs:/mnt/aws_data/topics/12d4ce482aeb.geo/partition=0/12d4ce482aeb.geo+0+0000000047.json",
         "12d4ce482aeb.geo+0+0000000047.json",
         105,
         1696863719000
        ],
        [
         "dbfs:/mnt/aws_data/topics/12d4ce482aeb.geo/partition=0/12d4ce482aeb.geo+0+0000000048.json",
         "12d4ce482aeb.geo+0+0000000048.json",
         108,
         1696863719000
        ],
        [
         "dbfs:/mnt/aws_data/topics/12d4ce482aeb.geo/partition=0/12d4ce482aeb.geo+0+0000000049.json",
         "12d4ce482aeb.geo+0+0000000049.json",
         122,
         1696863720000
        ],
        [
         "dbfs:/mnt/aws_data/topics/12d4ce482aeb.geo/partition=0/12d4ce482aeb.geo+0+0000000050.json",
         "12d4ce482aeb.geo+0+0000000050.json",
         110,
         1696863722000
        ],
        [
         "dbfs:/mnt/aws_data/topics/12d4ce482aeb.geo/partition=0/12d4ce482aeb.geo+0+0000000051.json",
         "12d4ce482aeb.geo+0+0000000051.json",
         108,
         1696863724000
        ],
        [
         "dbfs:/mnt/aws_data/topics/12d4ce482aeb.geo/partition=0/12d4ce482aeb.geo+0+0000000052.json",
         "12d4ce482aeb.geo+0+0000000052.json",
         115,
         1696863725000
        ],
        [
         "dbfs:/mnt/aws_data/topics/12d4ce482aeb.geo/partition=0/12d4ce482aeb.geo+0+0000000053.json",
         "12d4ce482aeb.geo+0+0000000053.json",
         120,
         1696863726000
        ],
        [
         "dbfs:/mnt/aws_data/topics/12d4ce482aeb.geo/partition=0/12d4ce482aeb.geo+0+0000000054.json",
         "12d4ce482aeb.geo+0+0000000054.json",
         115,
         1696863726000
        ],
        [
         "dbfs:/mnt/aws_data/topics/12d4ce482aeb.geo/partition=0/12d4ce482aeb.geo+0+0000000055.json",
         "12d4ce482aeb.geo+0+0000000055.json",
         107,
         1696863727000
        ],
        [
         "dbfs:/mnt/aws_data/topics/12d4ce482aeb.geo/partition=0/12d4ce482aeb.geo+0+0000000056.json",
         "12d4ce482aeb.geo+0+0000000056.json",
         117,
         1696863729000
        ],
        [
         "dbfs:/mnt/aws_data/topics/12d4ce482aeb.geo/partition=0/12d4ce482aeb.geo+0+0000000057.json",
         "12d4ce482aeb.geo+0+0000000057.json",
         107,
         1696863731000
        ],
        [
         "dbfs:/mnt/aws_data/topics/12d4ce482aeb.geo/partition=0/12d4ce482aeb.geo+0+0000000058.json",
         "12d4ce482aeb.geo+0+0000000058.json",
         110,
         1696863733000
        ],
        [
         "dbfs:/mnt/aws_data/topics/12d4ce482aeb.geo/partition=0/12d4ce482aeb.geo+0+0000000059.json",
         "12d4ce482aeb.geo+0+0000000059.json",
         110,
         1696863734000
        ],
        [
         "dbfs:/mnt/aws_data/topics/12d4ce482aeb.geo/partition=0/12d4ce482aeb.geo+0+0000000060.json",
         "12d4ce482aeb.geo+0+0000000060.json",
         107,
         1696863735000
        ],
        [
         "dbfs:/mnt/aws_data/topics/12d4ce482aeb.geo/partition=0/12d4ce482aeb.geo+0+0000000061.json",
         "12d4ce482aeb.geo+0+0000000061.json",
         110,
         1696863737000
        ],
        [
         "dbfs:/mnt/aws_data/topics/12d4ce482aeb.geo/partition=0/12d4ce482aeb.geo+0+0000000062.json",
         "12d4ce482aeb.geo+0+0000000062.json",
         110,
         1696863737000
        ],
        [
         "dbfs:/mnt/aws_data/topics/12d4ce482aeb.geo/partition=0/12d4ce482aeb.geo+0+0000000063.json",
         "12d4ce482aeb.geo+0+0000000063.json",
         107,
         1696863738000
        ],
        [
         "dbfs:/mnt/aws_data/topics/12d4ce482aeb.geo/partition=0/12d4ce482aeb.geo+0+0000000064.json",
         "12d4ce482aeb.geo+0+0000000064.json",
         123,
         1696863739000
        ],
        [
         "dbfs:/mnt/aws_data/topics/12d4ce482aeb.geo/partition=0/12d4ce482aeb.geo+0+0000000065.json",
         "12d4ce482aeb.geo+0+0000000065.json",
         110,
         1696863740000
        ],
        [
         "dbfs:/mnt/aws_data/topics/12d4ce482aeb.geo/partition=0/12d4ce482aeb.geo+0+0000000066.json",
         "12d4ce482aeb.geo+0+0000000066.json",
         107,
         1696863741000
        ],
        [
         "dbfs:/mnt/aws_data/topics/12d4ce482aeb.geo/partition=0/12d4ce482aeb.geo+0+0000000067.json",
         "12d4ce482aeb.geo+0+0000000067.json",
         108,
         1696863743000
        ],
        [
         "dbfs:/mnt/aws_data/topics/12d4ce482aeb.geo/partition=0/12d4ce482aeb.geo+0+0000000068.json",
         "12d4ce482aeb.geo+0+0000000068.json",
         119,
         1696863745000
        ],
        [
         "dbfs:/mnt/aws_data/topics/12d4ce482aeb.geo/partition=0/12d4ce482aeb.geo+0+0000000069.json",
         "12d4ce482aeb.geo+0+0000000069.json",
         107,
         1696863747000
        ],
        [
         "dbfs:/mnt/aws_data/topics/12d4ce482aeb.geo/partition=0/12d4ce482aeb.geo+0+0000000070.json",
         "12d4ce482aeb.geo+0+0000000070.json",
         108,
         1696863748000
        ],
        [
         "dbfs:/mnt/aws_data/topics/12d4ce482aeb.geo/partition=0/12d4ce482aeb.geo+0+0000000071.json",
         "12d4ce482aeb.geo+0+0000000071.json",
         113,
         1696863750000
        ],
        [
         "dbfs:/mnt/aws_data/topics/12d4ce482aeb.geo/partition=0/12d4ce482aeb.geo+0+0000000072.json",
         "12d4ce482aeb.geo+0+0000000072.json",
         110,
         1696863751000
        ],
        [
         "dbfs:/mnt/aws_data/topics/12d4ce482aeb.geo/partition=0/12d4ce482aeb.geo+0+0000000073.json",
         "12d4ce482aeb.geo+0+0000000073.json",
         113,
         1696863753000
        ],
        [
         "dbfs:/mnt/aws_data/topics/12d4ce482aeb.geo/partition=0/12d4ce482aeb.geo+0+0000000074.json",
         "12d4ce482aeb.geo+0+0000000074.json",
         106,
         1696863754000
        ],
        [
         "dbfs:/mnt/aws_data/topics/12d4ce482aeb.geo/partition=0/12d4ce482aeb.geo+0+0000000075.json",
         "12d4ce482aeb.geo+0+0000000075.json",
         109,
         1696863756000
        ],
        [
         "dbfs:/mnt/aws_data/topics/12d4ce482aeb.geo/partition=0/12d4ce482aeb.geo+0+0000000076.json",
         "12d4ce482aeb.geo+0+0000000076.json",
         110,
         1696863758000
        ],
        [
         "dbfs:/mnt/aws_data/topics/12d4ce482aeb.geo/partition=0/12d4ce482aeb.geo+0+0000000077.json",
         "12d4ce482aeb.geo+0+0000000077.json",
         106,
         1696863760000
        ],
        [
         "dbfs:/mnt/aws_data/topics/12d4ce482aeb.geo/partition=0/12d4ce482aeb.geo+0+0000000078.json",
         "12d4ce482aeb.geo+0+0000000078.json",
         107,
         1696863761000
        ],
        [
         "dbfs:/mnt/aws_data/topics/12d4ce482aeb.geo/partition=0/12d4ce482aeb.geo+0+0000000079.json",
         "12d4ce482aeb.geo+0+0000000079.json",
         108,
         1696863762000
        ],
        [
         "dbfs:/mnt/aws_data/topics/12d4ce482aeb.geo/partition=0/12d4ce482aeb.geo+0+0000000080.json",
         "12d4ce482aeb.geo+0+0000000080.json",
         108,
         1696863764000
        ],
        [
         "dbfs:/mnt/aws_data/topics/12d4ce482aeb.geo/partition=0/12d4ce482aeb.geo+0+0000000081.json",
         "12d4ce482aeb.geo+0+0000000081.json",
         111,
         1696863766000
        ],
        [
         "dbfs:/mnt/aws_data/topics/12d4ce482aeb.geo/partition=0/12d4ce482aeb.geo+0+0000000082.json",
         "12d4ce482aeb.geo+0+0000000082.json",
         111,
         1696863767000
        ],
        [
         "dbfs:/mnt/aws_data/topics/12d4ce482aeb.geo/partition=0/12d4ce482aeb.geo+0+0000000083.json",
         "12d4ce482aeb.geo+0+0000000083.json",
         105,
         1696863768000
        ],
        [
         "dbfs:/mnt/aws_data/topics/12d4ce482aeb.geo/partition=0/12d4ce482aeb.geo+0+0000000084.json",
         "12d4ce482aeb.geo+0+0000000084.json",
         107,
         1696863770000
        ],
        [
         "dbfs:/mnt/aws_data/topics/12d4ce482aeb.geo/partition=0/12d4ce482aeb.geo+0+0000000085.json",
         "12d4ce482aeb.geo+0+0000000085.json",
         112,
         1696863771000
        ],
        [
         "dbfs:/mnt/aws_data/topics/12d4ce482aeb.geo/partition=0/12d4ce482aeb.geo+0+0000000086.json",
         "12d4ce482aeb.geo+0+0000000086.json",
         108,
         1696863773000
        ],
        [
         "dbfs:/mnt/aws_data/topics/12d4ce482aeb.geo/partition=0/12d4ce482aeb.geo+0+0000000087.json",
         "12d4ce482aeb.geo+0+0000000087.json",
         115,
         1696863774000
        ],
        [
         "dbfs:/mnt/aws_data/topics/12d4ce482aeb.geo/partition=0/12d4ce482aeb.geo+0+0000000088.json",
         "12d4ce482aeb.geo+0+0000000088.json",
         109,
         1696863776000
        ],
        [
         "dbfs:/mnt/aws_data/topics/12d4ce482aeb.geo/partition=0/12d4ce482aeb.geo+0+0000000089.json",
         "12d4ce482aeb.geo+0+0000000089.json",
         106,
         1696863778000
        ],
        [
         "dbfs:/mnt/aws_data/topics/12d4ce482aeb.geo/partition=0/12d4ce482aeb.geo+0+0000000090.json",
         "12d4ce482aeb.geo+0+0000000090.json",
         108,
         1696863778000
        ],
        [
         "dbfs:/mnt/aws_data/topics/12d4ce482aeb.geo/partition=0/12d4ce482aeb.geo+0+0000000091.json",
         "12d4ce482aeb.geo+0+0000000091.json",
         118,
         1696863779000
        ],
        [
         "dbfs:/mnt/aws_data/topics/12d4ce482aeb.geo/partition=0/12d4ce482aeb.geo+0+0000000092.json",
         "12d4ce482aeb.geo+0+0000000092.json",
         108,
         1696863782000
        ],
        [
         "dbfs:/mnt/aws_data/topics/12d4ce482aeb.geo/partition=0/12d4ce482aeb.geo+0+0000000093.json",
         "12d4ce482aeb.geo+0+0000000093.json",
         120,
         1696863783000
        ],
        [
         "dbfs:/mnt/aws_data/topics/12d4ce482aeb.geo/partition=0/12d4ce482aeb.geo+0+0000000094.json",
         "12d4ce482aeb.geo+0+0000000094.json",
         110,
         1696863783000
        ],
        [
         "dbfs:/mnt/aws_data/topics/12d4ce482aeb.geo/partition=0/12d4ce482aeb.geo+0+0000000095.json",
         "12d4ce482aeb.geo+0+0000000095.json",
         115,
         1696863785000
        ],
        [
         "dbfs:/mnt/aws_data/topics/12d4ce482aeb.geo/partition=0/12d4ce482aeb.geo+0+0000000096.json",
         "12d4ce482aeb.geo+0+0000000096.json",
         110,
         1696863787000
        ],
        [
         "dbfs:/mnt/aws_data/topics/12d4ce482aeb.geo/partition=0/12d4ce482aeb.geo+0+0000000097.json",
         "12d4ce482aeb.geo+0+0000000097.json",
         117,
         1696863789000
        ],
        [
         "dbfs:/mnt/aws_data/topics/12d4ce482aeb.geo/partition=0/12d4ce482aeb.geo+0+0000000098.json",
         "12d4ce482aeb.geo+0+0000000098.json",
         116,
         1696863791000
        ],
        [
         "dbfs:/mnt/aws_data/topics/12d4ce482aeb.geo/partition=0/12d4ce482aeb.geo+0+0000000099.json",
         "12d4ce482aeb.geo+0+0000000099.json",
         106,
         1696863792000
        ],
        [
         "dbfs:/mnt/aws_data/topics/12d4ce482aeb.geo/partition=0/12d4ce482aeb.geo+0+0000000100.json",
         "12d4ce482aeb.geo+0+0000000100.json",
         106,
         1696863794000
        ],
        [
         "dbfs:/mnt/aws_data/topics/12d4ce482aeb.geo/partition=0/12d4ce482aeb.geo+0+0000000101.json",
         "12d4ce482aeb.geo+0+0000000101.json",
         108,
         1696863795000
        ],
        [
         "dbfs:/mnt/aws_data/topics/12d4ce482aeb.geo/partition=0/12d4ce482aeb.geo+0+0000000102.json",
         "12d4ce482aeb.geo+0+0000000102.json",
         107,
         1696863796000
        ],
        [
         "dbfs:/mnt/aws_data/topics/12d4ce482aeb.geo/partition=0/12d4ce482aeb.geo+0+0000000103.json",
         "12d4ce482aeb.geo+0+0000000103.json",
         110,
         1696863797000
        ],
        [
         "dbfs:/mnt/aws_data/topics/12d4ce482aeb.geo/partition=0/12d4ce482aeb.geo+0+0000000104.json",
         "12d4ce482aeb.geo+0+0000000104.json",
         118,
         1696863799000
        ],
        [
         "dbfs:/mnt/aws_data/topics/12d4ce482aeb.geo/partition=0/12d4ce482aeb.geo+0+0000000105.json",
         "12d4ce482aeb.geo+0+0000000105.json",
         107,
         1696863800000
        ],
        [
         "dbfs:/mnt/aws_data/topics/12d4ce482aeb.geo/partition=0/12d4ce482aeb.geo+0+0000000106.json",
         "12d4ce482aeb.geo+0+0000000106.json",
         105,
         1696863801000
        ],
        [
         "dbfs:/mnt/aws_data/topics/12d4ce482aeb.geo/partition=0/12d4ce482aeb.geo+0+0000000107.json",
         "12d4ce482aeb.geo+0+0000000107.json",
         106,
         1696863803000
        ],
        [
         "dbfs:/mnt/aws_data/topics/12d4ce482aeb.geo/partition=0/12d4ce482aeb.geo+0+0000000108.json",
         "12d4ce482aeb.geo+0+0000000108.json",
         111,
         1696863804000
        ],
        [
         "dbfs:/mnt/aws_data/topics/12d4ce482aeb.geo/partition=0/12d4ce482aeb.geo+0+0000000109.json",
         "12d4ce482aeb.geo+0+0000000109.json",
         109,
         1696863805000
        ],
        [
         "dbfs:/mnt/aws_data/topics/12d4ce482aeb.geo/partition=0/12d4ce482aeb.geo+0+0000000110.json",
         "12d4ce482aeb.geo+0+0000000110.json",
         108,
         1696863806000
        ],
        [
         "dbfs:/mnt/aws_data/topics/12d4ce482aeb.geo/partition=0/12d4ce482aeb.geo+0+0000000111.json",
         "12d4ce482aeb.geo+0+0000000111.json",
         107,
         1696863808000
        ],
        [
         "dbfs:/mnt/aws_data/topics/12d4ce482aeb.geo/partition=0/12d4ce482aeb.geo+0+0000000112.json",
         "12d4ce482aeb.geo+0+0000000112.json",
         108,
         1696863809000
        ],
        [
         "dbfs:/mnt/aws_data/topics/12d4ce482aeb.geo/partition=0/12d4ce482aeb.geo+0+0000000113.json",
         "12d4ce482aeb.geo+0+0000000113.json",
         115,
         1696863810000
        ],
        [
         "dbfs:/mnt/aws_data/topics/12d4ce482aeb.geo/partition=0/12d4ce482aeb.geo+0+0000000114.json",
         "12d4ce482aeb.geo+0+0000000114.json",
         108,
         1696863812000
        ],
        [
         "dbfs:/mnt/aws_data/topics/12d4ce482aeb.geo/partition=0/12d4ce482aeb.geo+0+0000000115.json",
         "12d4ce482aeb.geo+0+0000000115.json",
         108,
         1696863813000
        ],
        [
         "dbfs:/mnt/aws_data/topics/12d4ce482aeb.geo/partition=0/12d4ce482aeb.geo+0+0000000116.json",
         "12d4ce482aeb.geo+0+0000000116.json",
         131,
         1696863813000
        ],
        [
         "dbfs:/mnt/aws_data/topics/12d4ce482aeb.geo/partition=0/12d4ce482aeb.geo+0+0000000117.json",
         "12d4ce482aeb.geo+0+0000000117.json",
         108,
         1696863814000
        ],
        [
         "dbfs:/mnt/aws_data/topics/12d4ce482aeb.geo/partition=0/12d4ce482aeb.geo+0+0000000118.json",
         "12d4ce482aeb.geo+0+0000000118.json",
         115,
         1696863816000
        ],
        [
         "dbfs:/mnt/aws_data/topics/12d4ce482aeb.geo/partition=0/12d4ce482aeb.geo+0+0000000119.json",
         "12d4ce482aeb.geo+0+0000000119.json",
         106,
         1696863818000
        ],
        [
         "dbfs:/mnt/aws_data/topics/12d4ce482aeb.geo/partition=0/12d4ce482aeb.geo+0+0000000120.json",
         "12d4ce482aeb.geo+0+0000000120.json",
         122,
         1696863820000
        ],
        [
         "dbfs:/mnt/aws_data/topics/12d4ce482aeb.geo/partition=0/12d4ce482aeb.geo+0+0000000121.json",
         "12d4ce482aeb.geo+0+0000000121.json",
         108,
         1696863821000
        ],
        [
         "dbfs:/mnt/aws_data/topics/12d4ce482aeb.geo/partition=0/12d4ce482aeb.geo+0+0000000122.json",
         "12d4ce482aeb.geo+0+0000000122.json",
         109,
         1696863822000
        ],
        [
         "dbfs:/mnt/aws_data/topics/12d4ce482aeb.geo/partition=0/12d4ce482aeb.geo+0+0000000123.json",
         "12d4ce482aeb.geo+0+0000000123.json",
         108,
         1696863824000
        ],
        [
         "dbfs:/mnt/aws_data/topics/12d4ce482aeb.geo/partition=0/12d4ce482aeb.geo+0+0000000124.json",
         "12d4ce482aeb.geo+0+0000000124.json",
         107,
         1696863825000
        ],
        [
         "dbfs:/mnt/aws_data/topics/12d4ce482aeb.geo/partition=0/12d4ce482aeb.geo+0+0000000125.json",
         "12d4ce482aeb.geo+0+0000000125.json",
         105,
         1696863826000
        ],
        [
         "dbfs:/mnt/aws_data/topics/12d4ce482aeb.geo/partition=0/12d4ce482aeb.geo+0+0000000126.json",
         "12d4ce482aeb.geo+0+0000000126.json",
         113,
         1696863827000
        ],
        [
         "dbfs:/mnt/aws_data/topics/12d4ce482aeb.geo/partition=0/12d4ce482aeb.geo+0+0000000127.json",
         "12d4ce482aeb.geo+0+0000000127.json",
         120,
         1696863828000
        ],
        [
         "dbfs:/mnt/aws_data/topics/12d4ce482aeb.geo/partition=0/12d4ce482aeb.geo+0+0000000128.json",
         "12d4ce482aeb.geo+0+0000000128.json",
         117,
         1696863830000
        ],
        [
         "dbfs:/mnt/aws_data/topics/12d4ce482aeb.geo/partition=0/12d4ce482aeb.geo+0+0000000129.json",
         "12d4ce482aeb.geo+0+0000000129.json",
         106,
         1696863830000
        ],
        [
         "dbfs:/mnt/aws_data/topics/12d4ce482aeb.geo/partition=0/12d4ce482aeb.geo+0+0000000130.json",
         "12d4ce482aeb.geo+0+0000000130.json",
         107,
         1696863832000
        ],
        [
         "dbfs:/mnt/aws_data/topics/12d4ce482aeb.geo/partition=0/12d4ce482aeb.geo+0+0000000131.json",
         "12d4ce482aeb.geo+0+0000000131.json",
         109,
         1696863834000
        ],
        [
         "dbfs:/mnt/aws_data/topics/12d4ce482aeb.geo/partition=0/12d4ce482aeb.geo+0+0000000132.json",
         "12d4ce482aeb.geo+0+0000000132.json",
         108,
         1696863836000
        ],
        [
         "dbfs:/mnt/aws_data/topics/12d4ce482aeb.geo/partition=0/12d4ce482aeb.geo+0+0000000133.json",
         "12d4ce482aeb.geo+0+0000000133.json",
         110,
         1696863838000
        ],
        [
         "dbfs:/mnt/aws_data/topics/12d4ce482aeb.geo/partition=0/12d4ce482aeb.geo+0+0000000134.json",
         "12d4ce482aeb.geo+0+0000000134.json",
         106,
         1696863839000
        ],
        [
         "dbfs:/mnt/aws_data/topics/12d4ce482aeb.geo/partition=0/12d4ce482aeb.geo+0+0000000135.json",
         "12d4ce482aeb.geo+0+0000000135.json",
         106,
         1696863840000
        ],
        [
         "dbfs:/mnt/aws_data/topics/12d4ce482aeb.geo/partition=0/12d4ce482aeb.geo+0+0000000136.json",
         "12d4ce482aeb.geo+0+0000000136.json",
         108,
         1696863841000
        ],
        [
         "dbfs:/mnt/aws_data/topics/12d4ce482aeb.geo/partition=0/12d4ce482aeb.geo+0+0000000137.json",
         "12d4ce482aeb.geo+0+0000000137.json",
         108,
         1696863841000
        ],
        [
         "dbfs:/mnt/aws_data/topics/12d4ce482aeb.geo/partition=0/12d4ce482aeb.geo+0+0000000138.json",
         "12d4ce482aeb.geo+0+0000000138.json",
         127,
         1696863842000
        ],
        [
         "dbfs:/mnt/aws_data/topics/12d4ce482aeb.geo/partition=0/12d4ce482aeb.geo+0+0000000139.json",
         "12d4ce482aeb.geo+0+0000000139.json",
         107,
         1696863844000
        ],
        [
         "dbfs:/mnt/aws_data/topics/12d4ce482aeb.geo/partition=0/12d4ce482aeb.geo+0+0000000140.json",
         "12d4ce482aeb.geo+0+0000000140.json",
         107,
         1696863846000
        ],
        [
         "dbfs:/mnt/aws_data/topics/12d4ce482aeb.geo/partition=0/12d4ce482aeb.geo+0+0000000141.json",
         "12d4ce482aeb.geo+0+0000000141.json",
         106,
         1696863848000
        ],
        [
         "dbfs:/mnt/aws_data/topics/12d4ce482aeb.geo/partition=0/12d4ce482aeb.geo+0+0000000142.json",
         "12d4ce482aeb.geo+0+0000000142.json",
         107,
         1696863850000
        ],
        [
         "dbfs:/mnt/aws_data/topics/12d4ce482aeb.geo/partition=0/12d4ce482aeb.geo+0+0000000143.json",
         "12d4ce482aeb.geo+0+0000000143.json",
         108,
         1696863851000
        ],
        [
         "dbfs:/mnt/aws_data/topics/12d4ce482aeb.geo/partition=0/12d4ce482aeb.geo+0+0000000144.json",
         "12d4ce482aeb.geo+0+0000000144.json",
         109,
         1696863851000
        ],
        [
         "dbfs:/mnt/aws_data/topics/12d4ce482aeb.geo/partition=0/12d4ce482aeb.geo+0+0000000145.json",
         "12d4ce482aeb.geo+0+0000000145.json",
         103,
         1696863853000
        ],
        [
         "dbfs:/mnt/aws_data/topics/12d4ce482aeb.geo/partition=0/12d4ce482aeb.geo+0+0000000146.json",
         "12d4ce482aeb.geo+0+0000000146.json",
         106,
         1696863854000
        ],
        [
         "dbfs:/mnt/aws_data/topics/12d4ce482aeb.geo/partition=0/12d4ce482aeb.geo+0+0000000147.json",
         "12d4ce482aeb.geo+0+0000000147.json",
         108,
         1696863856000
        ],
        [
         "dbfs:/mnt/aws_data/topics/12d4ce482aeb.geo/partition=0/12d4ce482aeb.geo+0+0000000148.json",
         "12d4ce482aeb.geo+0+0000000148.json",
         145,
         1696863857000
        ],
        [
         "dbfs:/mnt/aws_data/topics/12d4ce482aeb.geo/partition=0/12d4ce482aeb.geo+0+0000000149.json",
         "12d4ce482aeb.geo+0+0000000149.json",
         110,
         1696863858000
        ],
        [
         "dbfs:/mnt/aws_data/topics/12d4ce482aeb.geo/partition=0/12d4ce482aeb.geo+0+0000000150.json",
         "12d4ce482aeb.geo+0+0000000150.json",
         102,
         1696863860000
        ],
        [
         "dbfs:/mnt/aws_data/topics/12d4ce482aeb.geo/partition=0/12d4ce482aeb.geo+0+0000000151.json",
         "12d4ce482aeb.geo+0+0000000151.json",
         112,
         1696863861000
        ],
        [
         "dbfs:/mnt/aws_data/topics/12d4ce482aeb.geo/partition=0/12d4ce482aeb.geo+0+0000000152.json",
         "12d4ce482aeb.geo+0+0000000152.json",
         109,
         1696863861000
        ],
        [
         "dbfs:/mnt/aws_data/topics/12d4ce482aeb.geo/partition=0/12d4ce482aeb.geo+0+0000000153.json",
         "12d4ce482aeb.geo+0+0000000153.json",
         105,
         1696863862000
        ],
        [
         "dbfs:/mnt/aws_data/topics/12d4ce482aeb.geo/partition=0/12d4ce482aeb.geo+0+0000000154.json",
         "12d4ce482aeb.geo+0+0000000154.json",
         115,
         1696863863000
        ],
        [
         "dbfs:/mnt/aws_data/topics/12d4ce482aeb.geo/partition=0/12d4ce482aeb.geo+0+0000000155.json",
         "12d4ce482aeb.geo+0+0000000155.json",
         106,
         1696863865000
        ],
        [
         "dbfs:/mnt/aws_data/topics/12d4ce482aeb.geo/partition=0/12d4ce482aeb.geo+0+0000000156.json",
         "12d4ce482aeb.geo+0+0000000156.json",
         102,
         1696863866000
        ],
        [
         "dbfs:/mnt/aws_data/topics/12d4ce482aeb.geo/partition=0/12d4ce482aeb.geo+0+0000000157.json",
         "12d4ce482aeb.geo+0+0000000157.json",
         107,
         1696863868000
        ],
        [
         "dbfs:/mnt/aws_data/topics/12d4ce482aeb.geo/partition=0/12d4ce482aeb.geo+0+0000000158.json",
         "12d4ce482aeb.geo+0+0000000158.json",
         108,
         1696863870000
        ],
        [
         "dbfs:/mnt/aws_data/topics/12d4ce482aeb.geo/partition=0/12d4ce482aeb.geo+0+0000000159.json",
         "12d4ce482aeb.geo+0+0000000159.json",
         110,
         1696863871000
        ],
        [
         "dbfs:/mnt/aws_data/topics/12d4ce482aeb.geo/partition=0/12d4ce482aeb.geo+0+0000000160.json",
         "12d4ce482aeb.geo+0+0000000160.json",
         119,
         1696863872000
        ],
        [
         "dbfs:/mnt/aws_data/topics/12d4ce482aeb.geo/partition=0/12d4ce482aeb.geo+0+0000000161.json",
         "12d4ce482aeb.geo+0+0000000161.json",
         108,
         1696863873000
        ],
        [
         "dbfs:/mnt/aws_data/topics/12d4ce482aeb.geo/partition=0/12d4ce482aeb.geo+0+0000000162.json",
         "12d4ce482aeb.geo+0+0000000162.json",
         116,
         1696863875000
        ],
        [
         "dbfs:/mnt/aws_data/topics/12d4ce482aeb.geo/partition=0/12d4ce482aeb.geo+0+0000000163.json",
         "12d4ce482aeb.geo+0+0000000163.json",
         111,
         1696863877000
        ],
        [
         "dbfs:/mnt/aws_data/topics/12d4ce482aeb.geo/partition=0/12d4ce482aeb.geo+0+0000000164.json",
         "12d4ce482aeb.geo+0+0000000164.json",
         112,
         1696863879000
        ],
        [
         "dbfs:/mnt/aws_data/topics/12d4ce482aeb.geo/partition=0/12d4ce482aeb.geo+0+0000000165.json",
         "12d4ce482aeb.geo+0+0000000165.json",
         119,
         1696863881000
        ],
        [
         "dbfs:/mnt/aws_data/topics/12d4ce482aeb.geo/partition=0/12d4ce482aeb.geo+0+0000000166.json",
         "12d4ce482aeb.geo+0+0000000166.json",
         109,
         1696863882000
        ],
        [
         "dbfs:/mnt/aws_data/topics/12d4ce482aeb.geo/partition=0/12d4ce482aeb.geo+0+0000000167.json",
         "12d4ce482aeb.geo+0+0000000167.json",
         105,
         1696863883000
        ],
        [
         "dbfs:/mnt/aws_data/topics/12d4ce482aeb.geo/partition=0/12d4ce482aeb.geo+0+0000000168.json",
         "12d4ce482aeb.geo+0+0000000168.json",
         111,
         1696863885000
        ],
        [
         "dbfs:/mnt/aws_data/topics/12d4ce482aeb.geo/partition=0/12d4ce482aeb.geo+0+0000000169.json",
         "12d4ce482aeb.geo+0+0000000169.json",
         110,
         1696863887000
        ],
        [
         "dbfs:/mnt/aws_data/topics/12d4ce482aeb.geo/partition=0/12d4ce482aeb.geo+0+0000000170.json",
         "12d4ce482aeb.geo+0+0000000170.json",
         112,
         1696863888000
        ],
        [
         "dbfs:/mnt/aws_data/topics/12d4ce482aeb.geo/partition=0/12d4ce482aeb.geo+0+0000000171.json",
         "12d4ce482aeb.geo+0+0000000171.json",
         108,
         1696863890000
        ],
        [
         "dbfs:/mnt/aws_data/topics/12d4ce482aeb.geo/partition=0/12d4ce482aeb.geo+0+0000000172.json",
         "12d4ce482aeb.geo+0+0000000172.json",
         106,
         1696863891000
        ],
        [
         "dbfs:/mnt/aws_data/topics/12d4ce482aeb.geo/partition=0/12d4ce482aeb.geo+0+0000000173.json",
         "12d4ce482aeb.geo+0+0000000173.json",
         118,
         1696863892000
        ],
        [
         "dbfs:/mnt/aws_data/topics/12d4ce482aeb.geo/partition=0/12d4ce482aeb.geo+0+0000000174.json",
         "12d4ce482aeb.geo+0+0000000174.json",
         105,
         1696863892000
        ],
        [
         "dbfs:/mnt/aws_data/topics/12d4ce482aeb.geo/partition=0/12d4ce482aeb.geo+0+0000000175.json",
         "12d4ce482aeb.geo+0+0000000175.json",
         104,
         1696863894000
        ],
        [
         "dbfs:/mnt/aws_data/topics/12d4ce482aeb.geo/partition=0/12d4ce482aeb.geo+0+0000000176.json",
         "12d4ce482aeb.geo+0+0000000176.json",
         112,
         1696863896000
        ],
        [
         "dbfs:/mnt/aws_data/topics/12d4ce482aeb.geo/partition=0/12d4ce482aeb.geo+0+0000000177.json",
         "12d4ce482aeb.geo+0+0000000177.json",
         108,
         1696863897000
        ],
        [
         "dbfs:/mnt/aws_data/topics/12d4ce482aeb.geo/partition=0/12d4ce482aeb.geo+0+0000000178.json",
         "12d4ce482aeb.geo+0+0000000178.json",
         110,
         1696863899000
        ],
        [
         "dbfs:/mnt/aws_data/topics/12d4ce482aeb.geo/partition=0/12d4ce482aeb.geo+0+0000000179.json",
         "12d4ce482aeb.geo+0+0000000179.json",
         112,
         1696863901000
        ],
        [
         "dbfs:/mnt/aws_data/topics/12d4ce482aeb.geo/partition=0/12d4ce482aeb.geo+0+0000000180.json",
         "12d4ce482aeb.geo+0+0000000180.json",
         122,
         1696863903000
        ],
        [
         "dbfs:/mnt/aws_data/topics/12d4ce482aeb.geo/partition=0/12d4ce482aeb.geo+0+0000000181.json",
         "12d4ce482aeb.geo+0+0000000181.json",
         106,
         1696863904000
        ],
        [
         "dbfs:/mnt/aws_data/topics/12d4ce482aeb.geo/partition=0/12d4ce482aeb.geo+0+0000000182.json",
         "12d4ce482aeb.geo+0+0000000182.json",
         107,
         1696863906000
        ],
        [
         "dbfs:/mnt/aws_data/topics/12d4ce482aeb.geo/partition=0/12d4ce482aeb.geo+0+0000000183.json",
         "12d4ce482aeb.geo+0+0000000183.json",
         106,
         1696863908000
        ],
        [
         "dbfs:/mnt/aws_data/topics/12d4ce482aeb.geo/partition=0/12d4ce482aeb.geo+0+0000000184.json",
         "12d4ce482aeb.geo+0+0000000184.json",
         110,
         1696863909000
        ],
        [
         "dbfs:/mnt/aws_data/topics/12d4ce482aeb.geo/partition=0/12d4ce482aeb.geo+0+0000000185.json",
         "12d4ce482aeb.geo+0+0000000185.json",
         105,
         1696863911000
        ],
        [
         "dbfs:/mnt/aws_data/topics/12d4ce482aeb.geo/partition=0/12d4ce482aeb.geo+0+0000000186.json",
         "12d4ce482aeb.geo+0+0000000186.json",
         113,
         1696863913000
        ],
        [
         "dbfs:/mnt/aws_data/topics/12d4ce482aeb.geo/partition=0/12d4ce482aeb.geo+0+0000000187.json",
         "12d4ce482aeb.geo+0+0000000187.json",
         115,
         1696863915000
        ],
        [
         "dbfs:/mnt/aws_data/topics/12d4ce482aeb.geo/partition=0/12d4ce482aeb.geo+0+0000000188.json",
         "12d4ce482aeb.geo+0+0000000188.json",
         106,
         1696863916000
        ],
        [
         "dbfs:/mnt/aws_data/topics/12d4ce482aeb.geo/partition=0/12d4ce482aeb.geo+0+0000000189.json",
         "12d4ce482aeb.geo+0+0000000189.json",
         106,
         1696863917000
        ],
        [
         "dbfs:/mnt/aws_data/topics/12d4ce482aeb.geo/partition=0/12d4ce482aeb.geo+0+0000000190.json",
         "12d4ce482aeb.geo+0+0000000190.json",
         105,
         1696863918000
        ],
        [
         "dbfs:/mnt/aws_data/topics/12d4ce482aeb.geo/partition=0/12d4ce482aeb.geo+0+0000000191.json",
         "12d4ce482aeb.geo+0+0000000191.json",
         119,
         1696863919000
        ],
        [
         "dbfs:/mnt/aws_data/topics/12d4ce482aeb.geo/partition=0/12d4ce482aeb.geo+0+0000000192.json",
         "12d4ce482aeb.geo+0+0000000192.json",
         108,
         1696863922000
        ],
        [
         "dbfs:/mnt/aws_data/topics/12d4ce482aeb.geo/partition=0/12d4ce482aeb.geo+0+0000000193.json",
         "12d4ce482aeb.geo+0+0000000193.json",
         108,
         1696863923000
        ],
        [
         "dbfs:/mnt/aws_data/topics/12d4ce482aeb.geo/partition=0/12d4ce482aeb.geo+0+0000000194.json",
         "12d4ce482aeb.geo+0+0000000194.json",
         112,
         1696863925000
        ],
        [
         "dbfs:/mnt/aws_data/topics/12d4ce482aeb.geo/partition=0/12d4ce482aeb.geo+0+0000000195.json",
         "12d4ce482aeb.geo+0+0000000195.json",
         112,
         1696863926000
        ],
        [
         "dbfs:/mnt/aws_data/topics/12d4ce482aeb.geo/partition=0/12d4ce482aeb.geo+0+0000000196.json",
         "12d4ce482aeb.geo+0+0000000196.json",
         113,
         1696863928000
        ],
        [
         "dbfs:/mnt/aws_data/topics/12d4ce482aeb.geo/partition=0/12d4ce482aeb.geo+0+0000000197.json",
         "12d4ce482aeb.geo+0+0000000197.json",
         108,
         1696863929000
        ],
        [
         "dbfs:/mnt/aws_data/topics/12d4ce482aeb.geo/partition=0/12d4ce482aeb.geo+0+0000000198.json",
         "12d4ce482aeb.geo+0+0000000198.json",
         106,
         1696863931000
        ],
        [
         "dbfs:/mnt/aws_data/topics/12d4ce482aeb.geo/partition=0/12d4ce482aeb.geo+0+0000000199.json",
         "12d4ce482aeb.geo+0+0000000199.json",
         108,
         1696863932000
        ],
        [
         "dbfs:/mnt/aws_data/topics/12d4ce482aeb.geo/partition=0/12d4ce482aeb.geo+0+0000000200.json",
         "12d4ce482aeb.geo+0+0000000200.json",
         123,
         1696863934000
        ],
        [
         "dbfs:/mnt/aws_data/topics/12d4ce482aeb.geo/partition=0/12d4ce482aeb.geo+0+0000000201.json",
         "12d4ce482aeb.geo+0+0000000201.json",
         105,
         1696863936000
        ],
        [
         "dbfs:/mnt/aws_data/topics/12d4ce482aeb.geo/partition=0/12d4ce482aeb.geo+0+0000000202.json",
         "12d4ce482aeb.geo+0+0000000202.json",
         118,
         1696863937000
        ],
        [
         "dbfs:/mnt/aws_data/topics/12d4ce482aeb.geo/partition=0/12d4ce482aeb.geo+0+0000000203.json",
         "12d4ce482aeb.geo+0+0000000203.json",
         145,
         1696863938000
        ],
        [
         "dbfs:/mnt/aws_data/topics/12d4ce482aeb.geo/partition=0/12d4ce482aeb.geo+0+0000000204.json",
         "12d4ce482aeb.geo+0+0000000204.json",
         106,
         1696863939000
        ],
        [
         "dbfs:/mnt/aws_data/topics/12d4ce482aeb.geo/partition=0/12d4ce482aeb.geo+0+0000000205.json",
         "12d4ce482aeb.geo+0+0000000205.json",
         106,
         1696863941000
        ],
        [
         "dbfs:/mnt/aws_data/topics/12d4ce482aeb.geo/partition=0/12d4ce482aeb.geo+0+0000000206.json",
         "12d4ce482aeb.geo+0+0000000206.json",
         118,
         1696863943000
        ],
        [
         "dbfs:/mnt/aws_data/topics/12d4ce482aeb.geo/partition=0/12d4ce482aeb.geo+0+0000000207.json",
         "12d4ce482aeb.geo+0+0000000207.json",
         107,
         1696863944000
        ],
        [
         "dbfs:/mnt/aws_data/topics/12d4ce482aeb.geo/partition=0/12d4ce482aeb.geo+0+0000000208.json",
         "12d4ce482aeb.geo+0+0000000208.json",
         108,
         1696863946000
        ],
        [
         "dbfs:/mnt/aws_data/topics/12d4ce482aeb.geo/partition=0/12d4ce482aeb.geo+0+0000000209.json",
         "12d4ce482aeb.geo+0+0000000209.json",
         107,
         1696863947000
        ],
        [
         "dbfs:/mnt/aws_data/topics/12d4ce482aeb.geo/partition=0/12d4ce482aeb.geo+0+0000000210.json",
         "12d4ce482aeb.geo+0+0000000210.json",
         125,
         1696863948000
        ],
        [
         "dbfs:/mnt/aws_data/topics/12d4ce482aeb.geo/partition=0/12d4ce482aeb.geo+0+0000000211.json",
         "12d4ce482aeb.geo+0+0000000211.json",
         126,
         1696863949000
        ],
        [
         "dbfs:/mnt/aws_data/topics/12d4ce482aeb.geo/partition=0/12d4ce482aeb.geo+0+0000000212.json",
         "12d4ce482aeb.geo+0+0000000212.json",
         108,
         1696863950000
        ],
        [
         "dbfs:/mnt/aws_data/topics/12d4ce482aeb.geo/partition=0/12d4ce482aeb.geo+0+0000000213.json",
         "12d4ce482aeb.geo+0+0000000213.json",
         106,
         1696863951000
        ],
        [
         "dbfs:/mnt/aws_data/topics/12d4ce482aeb.geo/partition=0/12d4ce482aeb.geo+0+0000000214.json",
         "12d4ce482aeb.geo+0+0000000214.json",
         107,
         1696863952000
        ],
        [
         "dbfs:/mnt/aws_data/topics/12d4ce482aeb.geo/partition=0/12d4ce482aeb.geo+0+0000000215.json",
         "12d4ce482aeb.geo+0+0000000215.json",
         125,
         1696863954000
        ],
        [
         "dbfs:/mnt/aws_data/topics/12d4ce482aeb.geo/partition=0/12d4ce482aeb.geo+0+0000000216.json",
         "12d4ce482aeb.geo+0+0000000216.json",
         106,
         1696863955000
        ],
        [
         "dbfs:/mnt/aws_data/topics/12d4ce482aeb.geo/partition=0/12d4ce482aeb.geo+0+0000000217.json",
         "12d4ce482aeb.geo+0+0000000217.json",
         107,
         1696863956000
        ],
        [
         "dbfs:/mnt/aws_data/topics/12d4ce482aeb.geo/partition=0/12d4ce482aeb.geo+0+0000000218.json",
         "12d4ce482aeb.geo+0+0000000218.json",
         125,
         1696863957000
        ],
        [
         "dbfs:/mnt/aws_data/topics/12d4ce482aeb.geo/partition=0/12d4ce482aeb.geo+0+0000000219.json",
         "12d4ce482aeb.geo+0+0000000219.json",
         105,
         1696863959000
        ],
        [
         "dbfs:/mnt/aws_data/topics/12d4ce482aeb.geo/partition=0/12d4ce482aeb.geo+0+0000000220.json",
         "12d4ce482aeb.geo+0+0000000220.json",
         103,
         1696863961000
        ],
        [
         "dbfs:/mnt/aws_data/topics/12d4ce482aeb.geo/partition=0/12d4ce482aeb.geo+0+0000000221.json",
         "12d4ce482aeb.geo+0+0000000221.json",
         107,
         1696863962000
        ],
        [
         "dbfs:/mnt/aws_data/topics/12d4ce482aeb.geo/partition=0/12d4ce482aeb.geo+0+0000000222.json",
         "12d4ce482aeb.geo+0+0000000222.json",
         107,
         1696863964000
        ],
        [
         "dbfs:/mnt/aws_data/topics/12d4ce482aeb.geo/partition=0/12d4ce482aeb.geo+0+0000000223.json",
         "12d4ce482aeb.geo+0+0000000223.json",
         108,
         1696863966000
        ],
        [
         "dbfs:/mnt/aws_data/topics/12d4ce482aeb.geo/partition=0/12d4ce482aeb.geo+0+0000000224.json",
         "12d4ce482aeb.geo+0+0000000224.json",
         108,
         1696863967000
        ],
        [
         "dbfs:/mnt/aws_data/topics/12d4ce482aeb.geo/partition=0/12d4ce482aeb.geo+0+0000000225.json",
         "12d4ce482aeb.geo+0+0000000225.json",
         109,
         1696863968000
        ],
        [
         "dbfs:/mnt/aws_data/topics/12d4ce482aeb.geo/partition=0/12d4ce482aeb.geo+0+0000000226.json",
         "12d4ce482aeb.geo+0+0000000226.json",
         109,
         1696863970000
        ],
        [
         "dbfs:/mnt/aws_data/topics/12d4ce482aeb.geo/partition=0/12d4ce482aeb.geo+0+0000000227.json",
         "12d4ce482aeb.geo+0+0000000227.json",
         108,
         1696863971000
        ],
        [
         "dbfs:/mnt/aws_data/topics/12d4ce482aeb.geo/partition=0/12d4ce482aeb.geo+0+0000000228.json",
         "12d4ce482aeb.geo+0+0000000228.json",
         111,
         1696863972000
        ],
        [
         "dbfs:/mnt/aws_data/topics/12d4ce482aeb.geo/partition=0/12d4ce482aeb.geo+0+0000000229.json",
         "12d4ce482aeb.geo+0+0000000229.json",
         106,
         1696863973000
        ],
        [
         "dbfs:/mnt/aws_data/topics/12d4ce482aeb.geo/partition=0/12d4ce482aeb.geo+0+0000000230.json",
         "12d4ce482aeb.geo+0+0000000230.json",
         108,
         1696863974000
        ],
        [
         "dbfs:/mnt/aws_data/topics/12d4ce482aeb.geo/partition=0/12d4ce482aeb.geo+0+0000000231.json",
         "12d4ce482aeb.geo+0+0000000231.json",
         112,
         1696863975000
        ],
        [
         "dbfs:/mnt/aws_data/topics/12d4ce482aeb.geo/partition=0/12d4ce482aeb.geo+0+0000000232.json",
         "12d4ce482aeb.geo+0+0000000232.json",
         114,
         1696863977000
        ],
        [
         "dbfs:/mnt/aws_data/topics/12d4ce482aeb.geo/partition=0/12d4ce482aeb.geo+0+0000000233.json",
         "12d4ce482aeb.geo+0+0000000233.json",
         109,
         1696863979000
        ],
        [
         "dbfs:/mnt/aws_data/topics/12d4ce482aeb.geo/partition=0/12d4ce482aeb.geo+0+0000000234.json",
         "12d4ce482aeb.geo+0+0000000234.json",
         108,
         1696863981000
        ],
        [
         "dbfs:/mnt/aws_data/topics/12d4ce482aeb.geo/partition=0/12d4ce482aeb.geo+0+0000000235.json",
         "12d4ce482aeb.geo+0+0000000235.json",
         103,
         1696863982000
        ],
        [
         "dbfs:/mnt/aws_data/topics/12d4ce482aeb.geo/partition=0/12d4ce482aeb.geo+0+0000000236.json",
         "12d4ce482aeb.geo+0+0000000236.json",
         101,
         1696863983000
        ],
        [
         "dbfs:/mnt/aws_data/topics/12d4ce482aeb.geo/partition=0/12d4ce482aeb.geo+0+0000000237.json",
         "12d4ce482aeb.geo+0+0000000237.json",
         114,
         1696863984000
        ],
        [
         "dbfs:/mnt/aws_data/topics/12d4ce482aeb.geo/partition=0/12d4ce482aeb.geo+0+0000000238.json",
         "12d4ce482aeb.geo+0+0000000238.json",
         111,
         1696863986000
        ],
        [
         "dbfs:/mnt/aws_data/topics/12d4ce482aeb.geo/partition=0/12d4ce482aeb.geo+0+0000000239.json",
         "12d4ce482aeb.geo+0+0000000239.json",
         115,
         1696863988000
        ],
        [
         "dbfs:/mnt/aws_data/topics/12d4ce482aeb.geo/partition=0/12d4ce482aeb.geo+0+0000000240.json",
         "12d4ce482aeb.geo+0+0000000240.json",
         122,
         1696863989000
        ],
        [
         "dbfs:/mnt/aws_data/topics/12d4ce482aeb.geo/partition=0/12d4ce482aeb.geo+0+0000000241.json",
         "12d4ce482aeb.geo+0+0000000241.json",
         113,
         1696863989000
        ],
        [
         "dbfs:/mnt/aws_data/topics/12d4ce482aeb.geo/partition=0/12d4ce482aeb.geo+0+0000000242.json",
         "12d4ce482aeb.geo+0+0000000242.json",
         110,
         1696863992000
        ],
        [
         "dbfs:/mnt/aws_data/topics/12d4ce482aeb.geo/partition=0/12d4ce482aeb.geo+0+0000000243.json",
         "12d4ce482aeb.geo+0+0000000243.json",
         111,
         1696863993000
        ],
        [
         "dbfs:/mnt/aws_data/topics/12d4ce482aeb.geo/partition=0/12d4ce482aeb.geo+0+0000000244.json",
         "12d4ce482aeb.geo+0+0000000244.json",
         115,
         1696863994000
        ],
        [
         "dbfs:/mnt/aws_data/topics/12d4ce482aeb.geo/partition=0/12d4ce482aeb.geo+0+0000000245.json",
         "12d4ce482aeb.geo+0+0000000245.json",
         108,
         1696863996000
        ],
        [
         "dbfs:/mnt/aws_data/topics/12d4ce482aeb.geo/partition=0/12d4ce482aeb.geo+0+0000000246.json",
         "12d4ce482aeb.geo+0+0000000246.json",
         117,
         1696863998000
        ],
        [
         "dbfs:/mnt/aws_data/topics/12d4ce482aeb.geo/partition=0/12d4ce482aeb.geo+0+0000000247.json",
         "12d4ce482aeb.geo+0+0000000247.json",
         110,
         1696864000000
        ],
        [
         "dbfs:/mnt/aws_data/topics/12d4ce482aeb.geo/partition=0/12d4ce482aeb.geo+0+0000000248.json",
         "12d4ce482aeb.geo+0+0000000248.json",
         108,
         1696864002000
        ],
        [
         "dbfs:/mnt/aws_data/topics/12d4ce482aeb.geo/partition=0/12d4ce482aeb.geo+0+0000000249.json",
         "12d4ce482aeb.geo+0+0000000249.json",
         116,
         1696864003000
        ],
        [
         "dbfs:/mnt/aws_data/topics/12d4ce482aeb.geo/partition=0/12d4ce482aeb.geo+0+0000000250.json",
         "12d4ce482aeb.geo+0+0000000250.json",
         108,
         1696864003000
        ],
        [
         "dbfs:/mnt/aws_data/topics/12d4ce482aeb.geo/partition=0/12d4ce482aeb.geo+0+0000000251.json",
         "12d4ce482aeb.geo+0+0000000251.json",
         106,
         1696864004000
        ],
        [
         "dbfs:/mnt/aws_data/topics/12d4ce482aeb.geo/partition=0/12d4ce482aeb.geo+0+0000000252.json",
         "12d4ce482aeb.geo+0+0000000252.json",
         112,
         1696864005000
        ],
        [
         "dbfs:/mnt/aws_data/topics/12d4ce482aeb.geo/partition=0/12d4ce482aeb.geo+0+0000000253.json",
         "12d4ce482aeb.geo+0+0000000253.json",
         113,
         1696864007000
        ],
        [
         "dbfs:/mnt/aws_data/topics/12d4ce482aeb.geo/partition=0/12d4ce482aeb.geo+0+0000000254.json",
         "12d4ce482aeb.geo+0+0000000254.json",
         116,
         1696864009000
        ],
        [
         "dbfs:/mnt/aws_data/topics/12d4ce482aeb.geo/partition=0/12d4ce482aeb.geo+0+0000000255.json",
         "12d4ce482aeb.geo+0+0000000255.json",
         130,
         1696864011000
        ],
        [
         "dbfs:/mnt/aws_data/topics/12d4ce482aeb.geo/partition=0/12d4ce482aeb.geo+0+0000000256.json",
         "12d4ce482aeb.geo+0+0000000256.json",
         108,
         1696864012000
        ],
        [
         "dbfs:/mnt/aws_data/topics/12d4ce482aeb.geo/partition=0/12d4ce482aeb.geo+0+0000000257.json",
         "12d4ce482aeb.geo+0+0000000257.json",
         108,
         1696864013000
        ],
        [
         "dbfs:/mnt/aws_data/topics/12d4ce482aeb.geo/partition=0/12d4ce482aeb.geo+0+0000000258.json",
         "12d4ce482aeb.geo+0+0000000258.json",
         106,
         1696864014000
        ],
        [
         "dbfs:/mnt/aws_data/topics/12d4ce482aeb.geo/partition=0/12d4ce482aeb.geo+0+0000000259.json",
         "12d4ce482aeb.geo+0+0000000259.json",
         106,
         1696864016000
        ],
        [
         "dbfs:/mnt/aws_data/topics/12d4ce482aeb.geo/partition=0/12d4ce482aeb.geo+0+0000000260.json",
         "12d4ce482aeb.geo+0+0000000260.json",
         106,
         1696864018000
        ],
        [
         "dbfs:/mnt/aws_data/topics/12d4ce482aeb.geo/partition=0/12d4ce482aeb.geo+0+0000000261.json",
         "12d4ce482aeb.geo+0+0000000261.json",
         112,
         1696864019000
        ],
        [
         "dbfs:/mnt/aws_data/topics/12d4ce482aeb.geo/partition=0/12d4ce482aeb.geo+0+0000000262.json",
         "12d4ce482aeb.geo+0+0000000262.json",
         105,
         1696864020000
        ],
        [
         "dbfs:/mnt/aws_data/topics/12d4ce482aeb.geo/partition=0/12d4ce482aeb.geo+0+0000000263.json",
         "12d4ce482aeb.geo+0+0000000263.json",
         107,
         1696864021000
        ],
        [
         "dbfs:/mnt/aws_data/topics/12d4ce482aeb.geo/partition=0/12d4ce482aeb.geo+0+0000000264.json",
         "12d4ce482aeb.geo+0+0000000264.json",
         108,
         1696864022000
        ],
        [
         "dbfs:/mnt/aws_data/topics/12d4ce482aeb.geo/partition=0/12d4ce482aeb.geo+0+0000000265.json",
         "12d4ce482aeb.geo+0+0000000265.json",
         110,
         1696864023000
        ],
        [
         "dbfs:/mnt/aws_data/topics/12d4ce482aeb.geo/partition=0/12d4ce482aeb.geo+0+0000000266.json",
         "12d4ce482aeb.geo+0+0000000266.json",
         107,
         1696864024000
        ],
        [
         "dbfs:/mnt/aws_data/topics/12d4ce482aeb.geo/partition=0/12d4ce482aeb.geo+0+0000000267.json",
         "12d4ce482aeb.geo+0+0000000267.json",
         109,
         1696864026000
        ],
        [
         "dbfs:/mnt/aws_data/topics/12d4ce482aeb.geo/partition=0/12d4ce482aeb.geo+0+0000000268.json",
         "12d4ce482aeb.geo+0+0000000268.json",
         110,
         1696864028000
        ],
        [
         "dbfs:/mnt/aws_data/topics/12d4ce482aeb.geo/partition=0/12d4ce482aeb.geo+0+0000000269.json",
         "12d4ce482aeb.geo+0+0000000269.json",
         108,
         1696864030000
        ],
        [
         "dbfs:/mnt/aws_data/topics/12d4ce482aeb.geo/partition=0/12d4ce482aeb.geo+0+0000000270.json",
         "12d4ce482aeb.geo+0+0000000270.json",
         106,
         1696864032000
        ],
        [
         "dbfs:/mnt/aws_data/topics/12d4ce482aeb.geo/partition=0/12d4ce482aeb.geo+0+0000000271.json",
         "12d4ce482aeb.geo+0+0000000271.json",
         106,
         1696864034000
        ],
        [
         "dbfs:/mnt/aws_data/topics/12d4ce482aeb.geo/partition=0/12d4ce482aeb.geo+0+0000000272.json",
         "12d4ce482aeb.geo+0+0000000272.json",
         109,
         1696864034000
        ],
        [
         "dbfs:/mnt/aws_data/topics/12d4ce482aeb.geo/partition=0/12d4ce482aeb.geo+0+0000000273.json",
         "12d4ce482aeb.geo+0+0000000273.json",
         108,
         1696864036000
        ],
        [
         "dbfs:/mnt/aws_data/topics/12d4ce482aeb.geo/partition=0/12d4ce482aeb.geo+0+0000000274.json",
         "12d4ce482aeb.geo+0+0000000274.json",
         112,
         1696864037000
        ],
        [
         "dbfs:/mnt/aws_data/topics/12d4ce482aeb.geo/partition=0/12d4ce482aeb.geo+0+0000000275.json",
         "12d4ce482aeb.geo+0+0000000275.json",
         114,
         1696864038000
        ],
        [
         "dbfs:/mnt/aws_data/topics/12d4ce482aeb.geo/partition=0/12d4ce482aeb.geo+0+0000000276.json",
         "12d4ce482aeb.geo+0+0000000276.json",
         105,
         1696864039000
        ],
        [
         "dbfs:/mnt/aws_data/topics/12d4ce482aeb.geo/partition=0/12d4ce482aeb.geo+0+0000000277.json",
         "12d4ce482aeb.geo+0+0000000277.json",
         108,
         1696864041000
        ],
        [
         "dbfs:/mnt/aws_data/topics/12d4ce482aeb.geo/partition=0/12d4ce482aeb.geo+0+0000000278.json",
         "12d4ce482aeb.geo+0+0000000278.json",
         112,
         1696864042000
        ],
        [
         "dbfs:/mnt/aws_data/topics/12d4ce482aeb.geo/partition=0/12d4ce482aeb.geo+0+0000000279.json",
         "12d4ce482aeb.geo+0+0000000279.json",
         112,
         1696864043000
        ],
        [
         "dbfs:/mnt/aws_data/topics/12d4ce482aeb.geo/partition=0/12d4ce482aeb.geo+0+0000000280.json",
         "12d4ce482aeb.geo+0+0000000280.json",
         107,
         1696864044000
        ],
        [
         "dbfs:/mnt/aws_data/topics/12d4ce482aeb.geo/partition=0/12d4ce482aeb.geo+0+0000000281.json",
         "12d4ce482aeb.geo+0+0000000281.json",
         108,
         1696864045000
        ],
        [
         "dbfs:/mnt/aws_data/topics/12d4ce482aeb.geo/partition=0/12d4ce482aeb.geo+0+0000000282.json",
         "12d4ce482aeb.geo+0+0000000282.json",
         111,
         1696864046000
        ],
        [
         "dbfs:/mnt/aws_data/topics/12d4ce482aeb.geo/partition=0/12d4ce482aeb.geo+0+0000000283.json",
         "12d4ce482aeb.geo+0+0000000283.json",
         110,
         1696864048000
        ],
        [
         "dbfs:/mnt/aws_data/topics/12d4ce482aeb.geo/partition=0/12d4ce482aeb.geo+0+0000000284.json",
         "12d4ce482aeb.geo+0+0000000284.json",
         112,
         1696864050000
        ],
        [
         "dbfs:/mnt/aws_data/topics/12d4ce482aeb.geo/partition=0/12d4ce482aeb.geo+0+0000000285.json",
         "12d4ce482aeb.geo+0+0000000285.json",
         106,
         1696864051000
        ],
        [
         "dbfs:/mnt/aws_data/topics/12d4ce482aeb.geo/partition=0/12d4ce482aeb.geo+0+0000000286.json",
         "12d4ce482aeb.geo+0+0000000286.json",
         107,
         1696864053000
        ],
        [
         "dbfs:/mnt/aws_data/topics/12d4ce482aeb.geo/partition=0/12d4ce482aeb.geo+0+0000000287.json",
         "12d4ce482aeb.geo+0+0000000287.json",
         129,
         1696864055000
        ],
        [
         "dbfs:/mnt/aws_data/topics/12d4ce482aeb.geo/partition=0/12d4ce482aeb.geo+0+0000000288.json",
         "12d4ce482aeb.geo+0+0000000288.json",
         145,
         1696864057000
        ],
        [
         "dbfs:/mnt/aws_data/topics/12d4ce482aeb.geo/partition=0/12d4ce482aeb.geo+0+0000000289.json",
         "12d4ce482aeb.geo+0+0000000289.json",
         109,
         1696864059000
        ],
        [
         "dbfs:/mnt/aws_data/topics/12d4ce482aeb.geo/partition=0/12d4ce482aeb.geo+0+0000000290.json",
         "12d4ce482aeb.geo+0+0000000290.json",
         104,
         1696864061000
        ],
        [
         "dbfs:/mnt/aws_data/topics/12d4ce482aeb.geo/partition=0/12d4ce482aeb.geo+0+0000000291.json",
         "12d4ce482aeb.geo+0+0000000291.json",
         113,
         1696864063000
        ],
        [
         "dbfs:/mnt/aws_data/topics/12d4ce482aeb.geo/partition=0/12d4ce482aeb.geo+0+0000000292.json",
         "12d4ce482aeb.geo+0+0000000292.json",
         111,
         1696864065000
        ],
        [
         "dbfs:/mnt/aws_data/topics/12d4ce482aeb.geo/partition=0/12d4ce482aeb.geo+0+0000000293.json",
         "12d4ce482aeb.geo+0+0000000293.json",
         108,
         1696864067000
        ],
        [
         "dbfs:/mnt/aws_data/topics/12d4ce482aeb.geo/partition=0/12d4ce482aeb.geo+0+0000000294.json",
         "12d4ce482aeb.geo+0+0000000294.json",
         106,
         1696864069000
        ],
        [
         "dbfs:/mnt/aws_data/topics/12d4ce482aeb.geo/partition=0/12d4ce482aeb.geo+0+0000000295.json",
         "12d4ce482aeb.geo+0+0000000295.json",
         106,
         1696864070000
        ],
        [
         "dbfs:/mnt/aws_data/topics/12d4ce482aeb.geo/partition=0/12d4ce482aeb.geo+0+0000000296.json",
         "12d4ce482aeb.geo+0+0000000296.json",
         108,
         1696864071000
        ],
        [
         "dbfs:/mnt/aws_data/topics/12d4ce482aeb.geo/partition=0/12d4ce482aeb.geo+0+0000000297.json",
         "12d4ce482aeb.geo+0+0000000297.json",
         120,
         1696864072000
        ],
        [
         "dbfs:/mnt/aws_data/topics/12d4ce482aeb.geo/partition=0/12d4ce482aeb.geo+0+0000000298.json",
         "12d4ce482aeb.geo+0+0000000298.json",
         108,
         1696864073000
        ],
        [
         "dbfs:/mnt/aws_data/topics/12d4ce482aeb.geo/partition=0/12d4ce482aeb.geo+0+0000000299.json",
         "12d4ce482aeb.geo+0+0000000299.json",
         123,
         1696864075000
        ],
        [
         "dbfs:/mnt/aws_data/topics/12d4ce482aeb.geo/partition=0/12d4ce482aeb.geo+0+0000000300.json",
         "12d4ce482aeb.geo+0+0000000300.json",
         106,
         1696864076000
        ],
        [
         "dbfs:/mnt/aws_data/topics/12d4ce482aeb.geo/partition=0/12d4ce482aeb.geo+0+0000000301.json",
         "12d4ce482aeb.geo+0+0000000301.json",
         108,
         1696864077000
        ],
        [
         "dbfs:/mnt/aws_data/topics/12d4ce482aeb.geo/partition=0/12d4ce482aeb.geo+0+0000000302.json",
         "12d4ce482aeb.geo+0+0000000302.json",
         108,
         1696864078000
        ],
        [
         "dbfs:/mnt/aws_data/topics/12d4ce482aeb.geo/partition=0/12d4ce482aeb.geo+0+0000000303.json",
         "12d4ce482aeb.geo+0+0000000303.json",
         107,
         1696864080000
        ],
        [
         "dbfs:/mnt/aws_data/topics/12d4ce482aeb.geo/partition=0/12d4ce482aeb.geo+0+0000000304.json",
         "12d4ce482aeb.geo+0+0000000304.json",
         109,
         1696864082000
        ],
        [
         "dbfs:/mnt/aws_data/topics/12d4ce482aeb.geo/partition=0/12d4ce482aeb.geo+0+0000000305.json",
         "12d4ce482aeb.geo+0+0000000305.json",
         108,
         1696864084000
        ],
        [
         "dbfs:/mnt/aws_data/topics/12d4ce482aeb.geo/partition=0/12d4ce482aeb.geo+0+0000000306.json",
         "12d4ce482aeb.geo+0+0000000306.json",
         109,
         1696864086000
        ],
        [
         "dbfs:/mnt/aws_data/topics/12d4ce482aeb.geo/partition=0/12d4ce482aeb.geo+0+0000000307.json",
         "12d4ce482aeb.geo+0+0000000307.json",
         108,
         1696864088000
        ],
        [
         "dbfs:/mnt/aws_data/topics/12d4ce482aeb.geo/partition=0/12d4ce482aeb.geo+0+0000000308.json",
         "12d4ce482aeb.geo+0+0000000308.json",
         145,
         1696864089000
        ],
        [
         "dbfs:/mnt/aws_data/topics/12d4ce482aeb.geo/partition=0/12d4ce482aeb.geo+0+0000000309.json",
         "12d4ce482aeb.geo+0+0000000309.json",
         106,
         1696864089000
        ],
        [
         "dbfs:/mnt/aws_data/topics/12d4ce482aeb.geo/partition=0/12d4ce482aeb.geo+0+0000000310.json",
         "12d4ce482aeb.geo+0+0000000310.json",
         106,
         1696864090000
        ],
        [
         "dbfs:/mnt/aws_data/topics/12d4ce482aeb.geo/partition=0/12d4ce482aeb.geo+0+0000000311.json",
         "12d4ce482aeb.geo+0+0000000311.json",
         108,
         1696864091000
        ],
        [
         "dbfs:/mnt/aws_data/topics/12d4ce482aeb.geo/partition=0/12d4ce482aeb.geo+0+0000000312.json",
         "12d4ce482aeb.geo+0+0000000312.json",
         115,
         1696864092000
        ],
        [
         "dbfs:/mnt/aws_data/topics/12d4ce482aeb.geo/partition=0/12d4ce482aeb.geo+0+0000000313.json",
         "12d4ce482aeb.geo+0+0000000313.json",
         107,
         1696864093000
        ],
        [
         "dbfs:/mnt/aws_data/topics/12d4ce482aeb.geo/partition=0/12d4ce482aeb.geo+0+0000000314.json",
         "12d4ce482aeb.geo+0+0000000314.json",
         108,
         1696864094000
        ],
        [
         "dbfs:/mnt/aws_data/topics/12d4ce482aeb.geo/partition=0/12d4ce482aeb.geo+0+0000000315.json",
         "12d4ce482aeb.geo+0+0000000315.json",
         106,
         1696864095000
        ],
        [
         "dbfs:/mnt/aws_data/topics/12d4ce482aeb.geo/partition=0/12d4ce482aeb.geo+0+0000000316.json",
         "12d4ce482aeb.geo+0+0000000316.json",
         106,
         1696864097000
        ],
        [
         "dbfs:/mnt/aws_data/topics/12d4ce482aeb.geo/partition=0/12d4ce482aeb.geo+0+0000000317.json",
         "12d4ce482aeb.geo+0+0000000317.json",
         109,
         1696864098000
        ],
        [
         "dbfs:/mnt/aws_data/topics/12d4ce482aeb.geo/partition=0/12d4ce482aeb.geo+0+0000000318.json",
         "12d4ce482aeb.geo+0+0000000318.json",
         125,
         1696864098000
        ],
        [
         "dbfs:/mnt/aws_data/topics/12d4ce482aeb.geo/partition=0/12d4ce482aeb.geo+0+0000000319.json",
         "12d4ce482aeb.geo+0+0000000319.json",
         102,
         1696864100000
        ],
        [
         "dbfs:/mnt/aws_data/topics/12d4ce482aeb.geo/partition=0/12d4ce482aeb.geo+0+0000000320.json",
         "12d4ce482aeb.geo+0+0000000320.json",
         106,
         1696864102000
        ],
        [
         "dbfs:/mnt/aws_data/topics/12d4ce482aeb.geo/partition=0/12d4ce482aeb.geo+0+0000000321.json",
         "12d4ce482aeb.geo+0+0000000321.json",
         108,
         1696864103000
        ],
        [
         "dbfs:/mnt/aws_data/topics/12d4ce482aeb.geo/partition=0/12d4ce482aeb.geo+0+0000000322.json",
         "12d4ce482aeb.geo+0+0000000322.json",
         108,
         1696864104000
        ],
        [
         "dbfs:/mnt/aws_data/topics/12d4ce482aeb.geo/partition=0/12d4ce482aeb.geo+0+0000000323.json",
         "12d4ce482aeb.geo+0+0000000323.json",
         112,
         1696864106000
        ],
        [
         "dbfs:/mnt/aws_data/topics/12d4ce482aeb.geo/partition=0/12d4ce482aeb.geo+0+0000000324.json",
         "12d4ce482aeb.geo+0+0000000324.json",
         104,
         1696864108000
        ],
        [
         "dbfs:/mnt/aws_data/topics/12d4ce482aeb.geo/partition=0/12d4ce482aeb.geo+0+0000000325.json",
         "12d4ce482aeb.geo+0+0000000325.json",
         108,
         1696864109000
        ],
        [
         "dbfs:/mnt/aws_data/topics/12d4ce482aeb.geo/partition=0/12d4ce482aeb.geo+0+0000000326.json",
         "12d4ce482aeb.geo+0+0000000326.json",
         107,
         1696864111000
        ],
        [
         "dbfs:/mnt/aws_data/topics/12d4ce482aeb.geo/partition=0/12d4ce482aeb.geo+0+0000000327.json",
         "12d4ce482aeb.geo+0+0000000327.json",
         108,
         1696864113000
        ],
        [
         "dbfs:/mnt/aws_data/topics/12d4ce482aeb.geo/partition=0/12d4ce482aeb.geo+0+0000000328.json",
         "12d4ce482aeb.geo+0+0000000328.json",
         114,
         1696864115000
        ],
        [
         "dbfs:/mnt/aws_data/topics/12d4ce482aeb.geo/partition=0/12d4ce482aeb.geo+0+0000000329.json",
         "12d4ce482aeb.geo+0+0000000329.json",
         126,
         1696864116000
        ],
        [
         "dbfs:/mnt/aws_data/topics/12d4ce482aeb.geo/partition=0/12d4ce482aeb.geo+0+0000000330.json",
         "12d4ce482aeb.geo+0+0000000330.json",
         110,
         1696864117000
        ],
        [
         "dbfs:/mnt/aws_data/topics/12d4ce482aeb.geo/partition=0/12d4ce482aeb.geo+0+0000000331.json",
         "12d4ce482aeb.geo+0+0000000331.json",
         115,
         1696864119000
        ],
        [
         "dbfs:/mnt/aws_data/topics/12d4ce482aeb.geo/partition=0/12d4ce482aeb.geo+0+0000000332.json",
         "12d4ce482aeb.geo+0+0000000332.json",
         105,
         1696864121000
        ],
        [
         "dbfs:/mnt/aws_data/topics/12d4ce482aeb.geo/partition=0/12d4ce482aeb.geo+0+0000000333.json",
         "12d4ce482aeb.geo+0+0000000333.json",
         111,
         1696864122000
        ],
        [
         "dbfs:/mnt/aws_data/topics/12d4ce482aeb.geo/partition=0/12d4ce482aeb.geo+0+0000000334.json",
         "12d4ce482aeb.geo+0+0000000334.json",
         106,
         1696864123000
        ],
        [
         "dbfs:/mnt/aws_data/topics/12d4ce482aeb.geo/partition=0/12d4ce482aeb.geo+0+0000000335.json",
         "12d4ce482aeb.geo+0+0000000335.json",
         109,
         1696864124000
        ],
        [
         "dbfs:/mnt/aws_data/topics/12d4ce482aeb.geo/partition=0/12d4ce482aeb.geo+0+0000000336.json",
         "12d4ce482aeb.geo+0+0000000336.json",
         121,
         1696864125000
        ],
        [
         "dbfs:/mnt/aws_data/topics/12d4ce482aeb.geo/partition=0/12d4ce482aeb.geo+0+0000000337.json",
         "12d4ce482aeb.geo+0+0000000337.json",
         114,
         1696864125000
        ],
        [
         "dbfs:/mnt/aws_data/topics/12d4ce482aeb.geo/partition=0/12d4ce482aeb.geo+0+0000000338.json",
         "12d4ce482aeb.geo+0+0000000338.json",
         109,
         1696864126000
        ],
        [
         "dbfs:/mnt/aws_data/topics/12d4ce482aeb.geo/partition=0/12d4ce482aeb.geo+0+0000000339.json",
         "12d4ce482aeb.geo+0+0000000339.json",
         106,
         1696864128000
        ],
        [
         "dbfs:/mnt/aws_data/topics/12d4ce482aeb.geo/partition=0/12d4ce482aeb.geo+0+0000000340.json",
         "12d4ce482aeb.geo+0+0000000340.json",
         109,
         1696864130000
        ],
        [
         "dbfs:/mnt/aws_data/topics/12d4ce482aeb.geo/partition=0/12d4ce482aeb.geo+0+0000000341.json",
         "12d4ce482aeb.geo+0+0000000341.json",
         106,
         1696864131000
        ],
        [
         "dbfs:/mnt/aws_data/topics/12d4ce482aeb.geo/partition=0/12d4ce482aeb.geo+0+0000000342.json",
         "12d4ce482aeb.geo+0+0000000342.json",
         121,
         1696864133000
        ],
        [
         "dbfs:/mnt/aws_data/topics/12d4ce482aeb.geo/partition=0/12d4ce482aeb.geo+0+0000000343.json",
         "12d4ce482aeb.geo+0+0000000343.json",
         107,
         1696864135000
        ],
        [
         "dbfs:/mnt/aws_data/topics/12d4ce482aeb.geo/partition=0/12d4ce482aeb.geo+0+0000000344.json",
         "12d4ce482aeb.geo+0+0000000344.json",
         117,
         1696864136000
        ],
        [
         "dbfs:/mnt/aws_data/topics/12d4ce482aeb.geo/partition=0/12d4ce482aeb.geo+0+0000000345.json",
         "12d4ce482aeb.geo+0+0000000345.json",
         108,
         1696864137000
        ],
        [
         "dbfs:/mnt/aws_data/topics/12d4ce482aeb.geo/partition=0/12d4ce482aeb.geo+0+0000000346.json",
         "12d4ce482aeb.geo+0+0000000346.json",
         105,
         1696864139000
        ],
        [
         "dbfs:/mnt/aws_data/topics/12d4ce482aeb.geo/partition=0/12d4ce482aeb.geo+0+0000000347.json",
         "12d4ce482aeb.geo+0+0000000347.json",
         107,
         1696864141000
        ],
        [
         "dbfs:/mnt/aws_data/topics/12d4ce482aeb.geo/partition=0/12d4ce482aeb.geo+0+0000000348.json",
         "12d4ce482aeb.geo+0+0000000348.json",
         106,
         1696864142000
        ],
        [
         "dbfs:/mnt/aws_data/topics/12d4ce482aeb.geo/partition=0/12d4ce482aeb.geo+0+0000000349.json",
         "12d4ce482aeb.geo+0+0000000349.json",
         105,
         1696864144000
        ],
        [
         "dbfs:/mnt/aws_data/topics/12d4ce482aeb.geo/partition=0/12d4ce482aeb.geo+0+0000000350.json",
         "12d4ce482aeb.geo+0+0000000350.json",
         105,
         1696864145000
        ],
        [
         "dbfs:/mnt/aws_data/topics/12d4ce482aeb.geo/partition=0/12d4ce482aeb.geo+0+0000000351.json",
         "12d4ce482aeb.geo+0+0000000351.json",
         123,
         1696864146000
        ],
        [
         "dbfs:/mnt/aws_data/topics/12d4ce482aeb.geo/partition=0/12d4ce482aeb.geo+0+0000000352.json",
         "12d4ce482aeb.geo+0+0000000352.json",
         110,
         1696864147000
        ],
        [
         "dbfs:/mnt/aws_data/topics/12d4ce482aeb.geo/partition=0/12d4ce482aeb.geo+0+0000000353.json",
         "12d4ce482aeb.geo+0+0000000353.json",
         110,
         1696864148000
        ],
        [
         "dbfs:/mnt/aws_data/topics/12d4ce482aeb.geo/partition=0/12d4ce482aeb.geo+0+0000000354.json",
         "12d4ce482aeb.geo+0+0000000354.json",
         115,
         1696864149000
        ],
        [
         "dbfs:/mnt/aws_data/topics/12d4ce482aeb.geo/partition=0/12d4ce482aeb.geo+0+0000000355.json",
         "12d4ce482aeb.geo+0+0000000355.json",
         104,
         1696864150000
        ],
        [
         "dbfs:/mnt/aws_data/topics/12d4ce482aeb.geo/partition=0/12d4ce482aeb.geo+0+0000000356.json",
         "12d4ce482aeb.geo+0+0000000356.json",
         104,
         1696864151000
        ],
        [
         "dbfs:/mnt/aws_data/topics/12d4ce482aeb.geo/partition=0/12d4ce482aeb.geo+0+0000000357.json",
         "12d4ce482aeb.geo+0+0000000357.json",
         106,
         1696864152000
        ],
        [
         "dbfs:/mnt/aws_data/topics/12d4ce482aeb.geo/partition=0/12d4ce482aeb.geo+0+0000000358.json",
         "12d4ce482aeb.geo+0+0000000358.json",
         106,
         1696864154000
        ],
        [
         "dbfs:/mnt/aws_data/topics/12d4ce482aeb.geo/partition=0/12d4ce482aeb.geo+0+0000000359.json",
         "12d4ce482aeb.geo+0+0000000359.json",
         119,
         1696864155000
        ],
        [
         "dbfs:/mnt/aws_data/topics/12d4ce482aeb.geo/partition=0/12d4ce482aeb.geo+0+0000000360.json",
         "12d4ce482aeb.geo+0+0000000360.json",
         111,
         1696864155000
        ],
        [
         "dbfs:/mnt/aws_data/topics/12d4ce482aeb.geo/partition=0/12d4ce482aeb.geo+0+0000000361.json",
         "12d4ce482aeb.geo+0+0000000361.json",
         111,
         1696864157000
        ],
        [
         "dbfs:/mnt/aws_data/topics/12d4ce482aeb.geo/partition=0/12d4ce482aeb.geo+0+0000000362.json",
         "12d4ce482aeb.geo+0+0000000362.json",
         106,
         1696864158000
        ],
        [
         "dbfs:/mnt/aws_data/topics/12d4ce482aeb.geo/partition=0/12d4ce482aeb.geo+0+0000000363.json",
         "12d4ce482aeb.geo+0+0000000363.json",
         116,
         1696864159000
        ],
        [
         "dbfs:/mnt/aws_data/topics/12d4ce482aeb.geo/partition=0/12d4ce482aeb.geo+0+0000000364.json",
         "12d4ce482aeb.geo+0+0000000364.json",
         107,
         1696864160000
        ],
        [
         "dbfs:/mnt/aws_data/topics/12d4ce482aeb.geo/partition=0/12d4ce482aeb.geo+0+0000000365.json",
         "12d4ce482aeb.geo+0+0000000365.json",
         105,
         1696864162000
        ],
        [
         "dbfs:/mnt/aws_data/topics/12d4ce482aeb.geo/partition=0/12d4ce482aeb.geo+0+0000000366.json",
         "12d4ce482aeb.geo+0+0000000366.json",
         112,
         1696864164000
        ],
        [
         "dbfs:/mnt/aws_data/topics/12d4ce482aeb.geo/partition=0/12d4ce482aeb.geo+0+0000000367.json",
         "12d4ce482aeb.geo+0+0000000367.json",
         123,
         1696864166000
        ],
        [
         "dbfs:/mnt/aws_data/topics/12d4ce482aeb.geo/partition=0/12d4ce482aeb.geo+0+0000000368.json",
         "12d4ce482aeb.geo+0+0000000368.json",
         105,
         1696864166000
        ],
        [
         "dbfs:/mnt/aws_data/topics/12d4ce482aeb.geo/partition=0/12d4ce482aeb.geo+0+0000000369.json",
         "12d4ce482aeb.geo+0+0000000369.json",
         107,
         1696864168000
        ],
        [
         "dbfs:/mnt/aws_data/topics/12d4ce482aeb.geo/partition=0/12d4ce482aeb.geo+0+0000000370.json",
         "12d4ce482aeb.geo+0+0000000370.json",
         113,
         1696864169000
        ],
        [
         "dbfs:/mnt/aws_data/topics/12d4ce482aeb.geo/partition=0/12d4ce482aeb.geo+0+0000000371.json",
         "12d4ce482aeb.geo+0+0000000371.json",
         109,
         1696864170000
        ],
        [
         "dbfs:/mnt/aws_data/topics/12d4ce482aeb.geo/partition=0/12d4ce482aeb.geo+0+0000000372.json",
         "12d4ce482aeb.geo+0+0000000372.json",
         107,
         1696864171000
        ],
        [
         "dbfs:/mnt/aws_data/topics/12d4ce482aeb.geo/partition=0/12d4ce482aeb.geo+0+0000000373.json",
         "12d4ce482aeb.geo+0+0000000373.json",
         114,
         1696864172000
        ],
        [
         "dbfs:/mnt/aws_data/topics/12d4ce482aeb.geo/partition=0/12d4ce482aeb.geo+0+0000000374.json",
         "12d4ce482aeb.geo+0+0000000374.json",
         104,
         1696864174000
        ],
        [
         "dbfs:/mnt/aws_data/topics/12d4ce482aeb.geo/partition=0/12d4ce482aeb.geo+0+0000000375.json",
         "12d4ce482aeb.geo+0+0000000375.json",
         112,
         1696864174000
        ],
        [
         "dbfs:/mnt/aws_data/topics/12d4ce482aeb.geo/partition=0/12d4ce482aeb.geo+0+0000000376.json",
         "12d4ce482aeb.geo+0+0000000376.json",
         115,
         1696864176000
        ],
        [
         "dbfs:/mnt/aws_data/topics/12d4ce482aeb.geo/partition=0/12d4ce482aeb.geo+0+0000000377.json",
         "12d4ce482aeb.geo+0+0000000377.json",
         111,
         1696864178000
        ],
        [
         "dbfs:/mnt/aws_data/topics/12d4ce482aeb.geo/partition=0/12d4ce482aeb.geo+0+0000000378.json",
         "12d4ce482aeb.geo+0+0000000378.json",
         104,
         1696864179000
        ],
        [
         "dbfs:/mnt/aws_data/topics/12d4ce482aeb.geo/partition=0/12d4ce482aeb.geo+0+0000000379.json",
         "12d4ce482aeb.geo+0+0000000379.json",
         110,
         1696864181000
        ],
        [
         "dbfs:/mnt/aws_data/topics/12d4ce482aeb.geo/partition=0/12d4ce482aeb.geo+0+0000000380.json",
         "12d4ce482aeb.geo+0+0000000380.json",
         108,
         1696864182000
        ],
        [
         "dbfs:/mnt/aws_data/topics/12d4ce482aeb.geo/partition=0/12d4ce482aeb.geo+0+0000000381.json",
         "12d4ce482aeb.geo+0+0000000381.json",
         108,
         1696864183000
        ],
        [
         "dbfs:/mnt/aws_data/topics/12d4ce482aeb.geo/partition=0/12d4ce482aeb.geo+0+0000000382.json",
         "12d4ce482aeb.geo+0+0000000382.json",
         109,
         1696864185000
        ],
        [
         "dbfs:/mnt/aws_data/topics/12d4ce482aeb.geo/partition=0/12d4ce482aeb.geo+0+0000000383.json",
         "12d4ce482aeb.geo+0+0000000383.json",
         105,
         1696864185000
        ],
        [
         "dbfs:/mnt/aws_data/topics/12d4ce482aeb.geo/partition=0/12d4ce482aeb.geo+0+0000000384.json",
         "12d4ce482aeb.geo+0+0000000384.json",
         104,
         1696864187000
        ],
        [
         "dbfs:/mnt/aws_data/topics/12d4ce482aeb.geo/partition=0/12d4ce482aeb.geo+0+0000000385.json",
         "12d4ce482aeb.geo+0+0000000385.json",
         107,
         1696864189000
        ],
        [
         "dbfs:/mnt/aws_data/topics/12d4ce482aeb.geo/partition=0/12d4ce482aeb.geo+0+0000000386.json",
         "12d4ce482aeb.geo+0+0000000386.json",
         106,
         1696864190000
        ],
        [
         "dbfs:/mnt/aws_data/topics/12d4ce482aeb.geo/partition=0/12d4ce482aeb.geo+0+0000000387.json",
         "12d4ce482aeb.geo+0+0000000387.json",
         126,
         1696864192000
        ],
        [
         "dbfs:/mnt/aws_data/topics/12d4ce482aeb.geo/partition=0/12d4ce482aeb.geo+0+0000000388.json",
         "12d4ce482aeb.geo+0+0000000388.json",
         103,
         1696864193000
        ],
        [
         "dbfs:/mnt/aws_data/topics/12d4ce482aeb.geo/partition=0/12d4ce482aeb.geo+0+0000000389.json",
         "12d4ce482aeb.geo+0+0000000389.json",
         106,
         1696864195000
        ],
        [
         "dbfs:/mnt/aws_data/topics/12d4ce482aeb.geo/partition=0/12d4ce482aeb.geo+0+0000000390.json",
         "12d4ce482aeb.geo+0+0000000390.json",
         104,
         1696864195000
        ],
        [
         "dbfs:/mnt/aws_data/topics/12d4ce482aeb.geo/partition=0/12d4ce482aeb.geo+0+0000000391.json",
         "12d4ce482aeb.geo+0+0000000391.json",
         108,
         1696864196000
        ],
        [
         "dbfs:/mnt/aws_data/topics/12d4ce482aeb.geo/partition=0/12d4ce482aeb.geo+0+0000000392.json",
         "12d4ce482aeb.geo+0+0000000392.json",
         125,
         1696864198000
        ],
        [
         "dbfs:/mnt/aws_data/topics/12d4ce482aeb.geo/partition=0/12d4ce482aeb.geo+0+0000000393.json",
         "12d4ce482aeb.geo+0+0000000393.json",
         106,
         1696864199000
        ],
        [
         "dbfs:/mnt/aws_data/topics/12d4ce482aeb.geo/partition=0/12d4ce482aeb.geo+0+0000000394.json",
         "12d4ce482aeb.geo+0+0000000394.json",
         110,
         1696864200000
        ],
        [
         "dbfs:/mnt/aws_data/topics/12d4ce482aeb.geo/partition=0/12d4ce482aeb.geo+0+0000000395.json",
         "12d4ce482aeb.geo+0+0000000395.json",
         109,
         1696864201000
        ],
        [
         "dbfs:/mnt/aws_data/topics/12d4ce482aeb.geo/partition=0/12d4ce482aeb.geo+0+0000000396.json",
         "12d4ce482aeb.geo+0+0000000396.json",
         113,
         1696864202000
        ],
        [
         "dbfs:/mnt/aws_data/topics/12d4ce482aeb.geo/partition=0/12d4ce482aeb.geo+0+0000000397.json",
         "12d4ce482aeb.geo+0+0000000397.json",
         108,
         1696864204000
        ],
        [
         "dbfs:/mnt/aws_data/topics/12d4ce482aeb.geo/partition=0/12d4ce482aeb.geo+0+0000000398.json",
         "12d4ce482aeb.geo+0+0000000398.json",
         109,
         1696864204000
        ],
        [
         "dbfs:/mnt/aws_data/topics/12d4ce482aeb.geo/partition=0/12d4ce482aeb.geo+0+0000000399.json",
         "12d4ce482aeb.geo+0+0000000399.json",
         108,
         1696864206000
        ],
        [
         "dbfs:/mnt/aws_data/topics/12d4ce482aeb.geo/partition=0/12d4ce482aeb.geo+0+0000000400.json",
         "12d4ce482aeb.geo+0+0000000400.json",
         108,
         1696864208000
        ],
        [
         "dbfs:/mnt/aws_data/topics/12d4ce482aeb.geo/partition=0/12d4ce482aeb.geo+0+0000000401.json",
         "12d4ce482aeb.geo+0+0000000401.json",
         105,
         1696864210000
        ],
        [
         "dbfs:/mnt/aws_data/topics/12d4ce482aeb.geo/partition=0/12d4ce482aeb.geo+0+0000000402.json",
         "12d4ce482aeb.geo+0+0000000402.json",
         107,
         1696864212000
        ],
        [
         "dbfs:/mnt/aws_data/topics/12d4ce482aeb.geo/partition=0/12d4ce482aeb.geo+0+0000000403.json",
         "12d4ce482aeb.geo+0+0000000403.json",
         108,
         1696864214000
        ],
        [
         "dbfs:/mnt/aws_data/topics/12d4ce482aeb.geo/partition=0/12d4ce482aeb.geo+0+0000000404.json",
         "12d4ce482aeb.geo+0+0000000404.json",
         107,
         1696864215000
        ],
        [
         "dbfs:/mnt/aws_data/topics/12d4ce482aeb.geo/partition=0/12d4ce482aeb.geo+0+0000000405.json",
         "12d4ce482aeb.geo+0+0000000405.json",
         109,
         1696864216000
        ],
        [
         "dbfs:/mnt/aws_data/topics/12d4ce482aeb.geo/partition=0/12d4ce482aeb.geo+0+0000000406.json",
         "12d4ce482aeb.geo+0+0000000406.json",
         109,
         1696864218000
        ],
        [
         "dbfs:/mnt/aws_data/topics/12d4ce482aeb.geo/partition=0/12d4ce482aeb.geo+0+0000000407.json",
         "12d4ce482aeb.geo+0+0000000407.json",
         103,
         1696864219000
        ]
       ],
       "datasetInfos": [],
       "dbfsResultPath": null,
       "isJsonSchema": true,
       "metadata": {},
       "overflow": false,
       "plotOptions": {
        "customPlotOptions": {},
        "displayType": "table",
        "pivotAggregation": null,
        "pivotColumns": null,
        "xColumns": null,
        "yColumns": null
       },
       "removedWidgets": [],
       "schema": [
        {
         "metadata": "{}",
         "name": "path",
         "type": "\"string\""
        },
        {
         "metadata": "{}",
         "name": "name",
         "type": "\"string\""
        },
        {
         "metadata": "{}",
         "name": "size",
         "type": "\"long\""
        },
        {
         "metadata": "{}",
         "name": "modificationTime",
         "type": "\"long\""
        }
       ],
       "type": "table"
      }
     },
     "output_type": "display_data"
    }
   ],
   "source": [
    "display(dbutils.fs.ls(\"/mnt/aws_data/topics/12d4ce482aeb.geo/partition=0/\"))"
   ]
  },
  {
   "cell_type": "code",
   "execution_count": 0,
   "metadata": {
    "application/vnd.databricks.v1+cell": {
     "cellMetadata": {
      "byteLimit": 2048000,
      "rowLimit": 10000
     },
     "inputWidgets": {},
     "nuid": "63c9555f-6d94-4573-967b-2feb3600102b",
     "showTitle": false,
     "title": ""
    }
   },
   "outputs": [
    {
     "output_type": "display_data",
     "data": {
      "text/html": [
       "<style scoped>\n",
       "  .ansiout {\n",
       "    display: block;\n",
       "    unicode-bidi: embed;\n",
       "    white-space: pre-wrap;\n",
       "    word-wrap: break-word;\n",
       "    word-break: break-all;\n",
       "    font-family: \"Source Code Pro\", \"Menlo\", monospace;;\n",
       "    font-size: 13px;\n",
       "    color: #555;\n",
       "    margin-left: 4px;\n",
       "    line-height: 19px;\n",
       "  }\n",
       "</style>\n",
       "<div class=\"ansiout\"></div>"
      ]
     },
     "metadata": {
      "application/vnd.databricks.v1+output": {
       "addedWidgets": {},
       "arguments": {},
       "data": "<div class=\"ansiout\"></div>",
       "datasetInfos": [],
       "metadata": {},
       "removedWidgets": [],
       "type": "html"
      }
     },
     "output_type": "display_data"
    }
   ],
   "source": [
    "df_geo = spark.read.json(\"/mnt/aws_data/topics/12d4ce482aeb.geo/partition=0/\")\n",
    "df_pin = spark.read.json(\"/mnt/aws_data/topics/12d4ce482aeb.pin/partition=0/\")\n",
    "df_user = spark.read.json(\"/mnt/aws_data/topics/12d4ce482aeb.user/partition=0/\")"
   ]
  }
 ],
 "metadata": {
  "application/vnd.databricks.v1+notebook": {
   "dashboards": [],
   "language": "python",
   "notebookMetadata": {
    "pythonIndentUnit": 4
   },
   "notebookName": "Mount_S3_Bucket",
   "widgets": {}
  }
 },
 "nbformat": 4,
 "nbformat_minor": 0
}
