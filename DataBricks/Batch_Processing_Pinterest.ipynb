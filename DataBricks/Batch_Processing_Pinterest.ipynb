{
 "cells": [
  {
   "cell_type": "code",
   "execution_count": 0,
   "metadata": {
    "application/vnd.databricks.v1+cell": {
     "cellMetadata": {
      "byteLimit": 2048000,
      "rowLimit": 10000
     },
     "inputWidgets": {},
     "nuid": "995780b8-7a30-4baa-8218-2befeeadcd51",
     "showTitle": true,
     "title": "Mounting S3 Bucket"
    }
   },
   "outputs": [
    {
     "output_type": "display_data",
     "data": {
      "text/html": [
       "<style scoped>\n",
       "  .ansiout {\n",
       "    display: block;\n",
       "    unicode-bidi: embed;\n",
       "    white-space: pre-wrap;\n",
       "    word-wrap: break-word;\n",
       "    word-break: break-all;\n",
       "    font-family: \"Source Code Pro\", \"Menlo\", monospace;;\n",
       "    font-size: 13px;\n",
       "    color: #555;\n",
       "    margin-left: 4px;\n",
       "    line-height: 19px;\n",
       "  }\n",
       "</style>\n",
       "<div class=\"ansiout\"></div>"
      ]
     },
     "metadata": {
      "application/vnd.databricks.v1+output": {
       "addedWidgets": {},
       "arguments": {},
       "data": "<div class=\"ansiout\"></div>",
       "datasetInfos": [],
       "metadata": {},
       "removedWidgets": [],
       "type": "html"
      }
     },
     "output_type": "display_data"
    }
   ],
   "source": [
    "# pyspark functions\n",
    "from pyspark.sql.functions import *\n",
    "# URL processing\n",
    "import urllib"
   ]
  },
  {
   "cell_type": "code",
   "execution_count": 0,
   "metadata": {
    "application/vnd.databricks.v1+cell": {
     "cellMetadata": {
      "byteLimit": 2048000,
      "rowLimit": 10000
     },
     "inputWidgets": {},
     "nuid": "a1bdbc57-4542-44b1-b750-b5fed4ea9ef4",
     "showTitle": false,
     "title": ""
    }
   },
   "outputs": [
    {
     "output_type": "display_data",
     "data": {
      "text/html": [
       "<style scoped>\n",
       "  .ansiout {\n",
       "    display: block;\n",
       "    unicode-bidi: embed;\n",
       "    white-space: pre-wrap;\n",
       "    word-wrap: break-word;\n",
       "    word-break: break-all;\n",
       "    font-family: \"Source Code Pro\", \"Menlo\", monospace;;\n",
       "    font-size: 13px;\n",
       "    color: #555;\n",
       "    margin-left: 4px;\n",
       "    line-height: 19px;\n",
       "  }\n",
       "</style>\n",
       "<div class=\"ansiout\"></div>"
      ]
     },
     "metadata": {
      "application/vnd.databricks.v1+output": {
       "addedWidgets": {},
       "arguments": {},
       "data": "<div class=\"ansiout\"></div>",
       "datasetInfos": [],
       "metadata": {},
       "removedWidgets": [],
       "type": "html"
      }
     },
     "output_type": "display_data"
    }
   ],
   "source": [
    "# Specify file type to be csv\n",
    "file_type = \"csv\"\n",
    "# Indicates file has first row as the header\n",
    "first_row_is_header = \"true\"\n",
    "# Indicates file has comma as the delimeter\n",
    "delimiter = \",\"\n",
    "# Read the CSV file to spark dataframe\n",
    "aws_keys_df = spark.read.format(file_type)\\\n",
    ".option(\"header\", first_row_is_header)\\\n",
    ".option(\"sep\", delimiter)\\\n",
    ".load(\"/FileStore/tables/authentication_credentials.csv\")"
   ]
  },
  {
   "cell_type": "code",
   "execution_count": 0,
   "metadata": {
    "application/vnd.databricks.v1+cell": {
     "cellMetadata": {
      "byteLimit": 2048000,
      "rowLimit": 10000
     },
     "inputWidgets": {},
     "nuid": "1ee4512c-adda-4c64-b6e2-7eadf51f62ae",
     "showTitle": false,
     "title": ""
    }
   },
   "outputs": [
    {
     "output_type": "display_data",
     "data": {
      "text/html": [
       "<style scoped>\n",
       "  .ansiout {\n",
       "    display: block;\n",
       "    unicode-bidi: embed;\n",
       "    white-space: pre-wrap;\n",
       "    word-wrap: break-word;\n",
       "    word-break: break-all;\n",
       "    font-family: \"Source Code Pro\", \"Menlo\", monospace;;\n",
       "    font-size: 13px;\n",
       "    color: #555;\n",
       "    margin-left: 4px;\n",
       "    line-height: 19px;\n",
       "  }\n",
       "</style>\n",
       "<div class=\"ansiout\"></div>"
      ]
     },
     "metadata": {
      "application/vnd.databricks.v1+output": {
       "addedWidgets": {},
       "arguments": {},
       "data": "<div class=\"ansiout\"></div>",
       "datasetInfos": [],
       "metadata": {},
       "removedWidgets": [],
       "type": "html"
      }
     },
     "output_type": "display_data"
    }
   ],
   "source": [
    "# Get the AWS access key and secret key from the spark dataframe\n",
    "ACCESS_KEY = aws_keys_df.where(col('User name')=='databricks-user').select('Access key ID').collect()[0]['Access key ID']\n",
    "SECRET_KEY = aws_keys_df.where(col('User name')=='databricks-user').select('Secret access key').collect()[0]['Secret access key']\n",
    "# Encode the secrete key\n",
    "ENCODED_SECRET_KEY = urllib.parse.quote(string=SECRET_KEY, safe=\"\")"
   ]
  },
  {
   "cell_type": "code",
   "execution_count": 0,
   "metadata": {
    "application/vnd.databricks.v1+cell": {
     "cellMetadata": {
      "byteLimit": 2048000,
      "rowLimit": 10000
     },
     "inputWidgets": {},
     "nuid": "5f60e687-34b1-4e96-b4f0-170e8d3c6dc0",
     "showTitle": false,
     "title": ""
    }
   },
   "outputs": [
    {
     "output_type": "display_data",
     "data": {
      "text/html": [
       "<style scoped>\n",
       "  .ansiout {\n",
       "    display: block;\n",
       "    unicode-bidi: embed;\n",
       "    white-space: pre-wrap;\n",
       "    word-wrap: break-word;\n",
       "    word-break: break-all;\n",
       "    font-family: \"Source Code Pro\", \"Menlo\", monospace;;\n",
       "    font-size: 13px;\n",
       "    color: #555;\n",
       "    margin-left: 4px;\n",
       "    line-height: 19px;\n",
       "  }\n",
       "</style>\n",
       "<div class=\"ansiout\">Out[7]: True</div>"
      ]
     },
     "metadata": {
      "application/vnd.databricks.v1+output": {
       "addedWidgets": {},
       "arguments": {},
       "data": "<div class=\"ansiout\">Out[7]: True</div>",
       "datasetInfos": [],
       "metadata": {},
       "removedWidgets": [],
       "type": "html"
      }
     },
     "output_type": "display_data"
    }
   ],
   "source": [
    "# AWS S3 bucket name\n",
    "AWS_S3_BUCKET = \"user-12d4ce482aeb-bucket\"\n",
    "# Mount name for the bucket\n",
    "MOUNT_NAME = \"/mnt/aws_data\"\n",
    "# Source url\n",
    "SOURCE_URL = \"s3n://{0}:{1}@{2}\".format(ACCESS_KEY, ENCODED_SECRET_KEY, AWS_S3_BUCKET)\n",
    "# Mount the drive\n",
    "dbutils.fs.mount(SOURCE_URL, MOUNT_NAME)"
   ]
  },
  {
   "cell_type": "code",
   "execution_count": 0,
   "metadata": {
    "application/vnd.databricks.v1+cell": {
     "cellMetadata": {
      "byteLimit": 2048000,
      "rowLimit": 10000
     },
     "inputWidgets": {},
     "nuid": "bb9c9460-5f62-480d-b4a9-d8967c6ef8a5",
     "showTitle": false,
     "title": ""
    }
   },
   "outputs": [
    {
     "output_type": "display_data",
     "data": {
      "text/html": [
       "<style scoped>\n",
       "  .table-result-container {\n",
       "    max-height: 300px;\n",
       "    overflow: auto;\n",
       "  }\n",
       "  table, th, td {\n",
       "    border: 1px solid black;\n",
       "    border-collapse: collapse;\n",
       "  }\n",
       "  th, td {\n",
       "    padding: 5px;\n",
       "  }\n",
       "  th {\n",
       "    text-align: left;\n",
       "  }\n",
       "</style><div class='table-result-container'><table class='table-result'><thead style='background-color: white'><tr><th>path</th><th>name</th><th>size</th><th>modificationTime</th></tr></thead><tbody><tr><td>dbfs:/mnt/aws_data/topics/12d4ce482aeb.geo/</td><td>12d4ce482aeb.geo/</td><td>0</td><td>1697639959725</td></tr><tr><td>dbfs:/mnt/aws_data/topics/12d4ce482aeb.pin/</td><td>12d4ce482aeb.pin/</td><td>0</td><td>1697639959725</td></tr><tr><td>dbfs:/mnt/aws_data/topics/12d4ce482aeb.user/</td><td>12d4ce482aeb.user/</td><td>0</td><td>1697639959725</td></tr></tbody></table></div>"
      ]
     },
     "metadata": {
      "application/vnd.databricks.v1+output": {
       "addedWidgets": {},
       "aggData": [],
       "aggError": "",
       "aggOverflow": false,
       "aggSchema": [],
       "aggSeriesLimitReached": false,
       "aggType": "",
       "arguments": {},
       "columnCustomDisplayInfos": {},
       "data": [
        [
         "dbfs:/mnt/aws_data/topics/12d4ce482aeb.geo/",
         "12d4ce482aeb.geo/",
         0,
         1697639959725
        ],
        [
         "dbfs:/mnt/aws_data/topics/12d4ce482aeb.pin/",
         "12d4ce482aeb.pin/",
         0,
         1697639959725
        ],
        [
         "dbfs:/mnt/aws_data/topics/12d4ce482aeb.user/",
         "12d4ce482aeb.user/",
         0,
         1697639959725
        ]
       ],
       "datasetInfos": [],
       "dbfsResultPath": null,
       "isJsonSchema": true,
       "metadata": {},
       "overflow": false,
       "plotOptions": {
        "customPlotOptions": {},
        "displayType": "table",
        "pivotAggregation": null,
        "pivotColumns": null,
        "xColumns": null,
        "yColumns": null
       },
       "removedWidgets": [],
       "schema": [
        {
         "metadata": "{}",
         "name": "path",
         "type": "\"string\""
        },
        {
         "metadata": "{}",
         "name": "name",
         "type": "\"string\""
        },
        {
         "metadata": "{}",
         "name": "size",
         "type": "\"long\""
        },
        {
         "metadata": "{}",
         "name": "modificationTime",
         "type": "\"long\""
        }
       ],
       "type": "table"
      }
     },
     "output_type": "display_data"
    }
   ],
   "source": [
    "display(dbutils.fs.ls(\"/mnt/aws_data/topics\"))"
   ]
  },
  {
   "cell_type": "code",
   "execution_count": 0,
   "metadata": {
    "application/vnd.databricks.v1+cell": {
     "cellMetadata": {
      "byteLimit": 2048000,
      "rowLimit": 10000
     },
     "inputWidgets": {},
     "nuid": "63c9555f-6d94-4573-967b-2feb3600102b",
     "showTitle": false,
     "title": ""
    }
   },
   "outputs": [
    {
     "output_type": "display_data",
     "data": {
      "text/html": [
       "<style scoped>\n",
       "  .ansiout {\n",
       "    display: block;\n",
       "    unicode-bidi: embed;\n",
       "    white-space: pre-wrap;\n",
       "    word-wrap: break-word;\n",
       "    word-break: break-all;\n",
       "    font-family: \"Source Code Pro\", \"Menlo\", monospace;;\n",
       "    font-size: 13px;\n",
       "    color: #555;\n",
       "    margin-left: 4px;\n",
       "    line-height: 19px;\n",
       "  }\n",
       "</style>\n",
       "<div class=\"ansiout\"></div>"
      ]
     },
     "metadata": {
      "application/vnd.databricks.v1+output": {
       "addedWidgets": {},
       "arguments": {},
       "data": "<div class=\"ansiout\"></div>",
       "datasetInfos": [],
       "metadata": {},
       "removedWidgets": [],
       "type": "html"
      }
     },
     "output_type": "display_data"
    }
   ],
   "source": [
    "df_geo = spark.read.json(\"/mnt/aws_data/topics/12d4ce482aeb.geo/partition=0/\")\n",
    "df_pin = spark.read.json(\"/mnt/aws_data/topics/12d4ce482aeb.pin/partition=0/\")\n",
    "df_user = spark.read.json(\"/mnt/aws_data/topics/12d4ce482aeb.user/partition=0/\")"
   ]
  },
  {
   "cell_type": "code",
   "execution_count": 0,
   "metadata": {
    "application/vnd.databricks.v1+cell": {
     "cellMetadata": {
      "byteLimit": 2048000,
      "rowLimit": 10000
     },
     "inputWidgets": {},
     "nuid": "d5e422db-af6c-422e-bdc1-fd5471ddd6ca",
     "showTitle": true,
     "title": "Cleaning Pinterest Dataframe   - Missing values"
    }
   },
   "outputs": [
    {
     "output_type": "display_data",
     "data": {
      "text/html": [
       "<style scoped>\n",
       "  .ansiout {\n",
       "    display: block;\n",
       "    unicode-bidi: embed;\n",
       "    white-space: pre-wrap;\n",
       "    word-wrap: break-word;\n",
       "    word-break: break-all;\n",
       "    font-family: \"Source Code Pro\", \"Menlo\", monospace;;\n",
       "    font-size: 13px;\n",
       "    color: #555;\n",
       "    margin-left: 4px;\n",
       "    line-height: 19px;\n",
       "  }\n",
       "</style>\n",
       "<div class=\"ansiout\">category StringType: 0\n",
       "description StringType: 0\n",
       "downloaded LongType: 0\n",
       "follower_count StringType: 0\n",
       "image_src StringType: 0\n",
       "index LongType: 0\n",
       "is_image_or_video StringType: 0\n",
       "poster_name StringType: 0\n",
       "save_location StringType: 0\n",
       "tag_list StringType: 0\n",
       "title StringType: 0\n",
       "unique_id StringType: 0\n",
       "</div>"
      ]
     },
     "metadata": {
      "application/vnd.databricks.v1+output": {
       "addedWidgets": {},
       "arguments": {},
       "data": "<div class=\"ansiout\">category StringType: 0\ndescription StringType: 0\ndownloaded LongType: 0\nfollower_count StringType: 0\nimage_src StringType: 0\nindex LongType: 0\nis_image_or_video StringType: 0\nposter_name StringType: 0\nsave_location StringType: 0\ntag_list StringType: 0\ntitle StringType: 0\nunique_id StringType: 0\n</div>",
       "datasetInfos": [],
       "metadata": {},
       "removedWidgets": [],
       "type": "html"
      }
     },
     "output_type": "display_data"
    }
   ],
   "source": [
    "def get_missing_vals(df):\n",
    "    for col in df.columns:\n",
    "        print(f'{col} {(df.schema[col].dataType)}: {df.filter(df[col].isNull()).count()}')\n",
    "\n",
    "get_missing_vals(df_pin)"
   ]
  },
  {
   "cell_type": "code",
   "execution_count": 0,
   "metadata": {
    "application/vnd.databricks.v1+cell": {
     "cellMetadata": {
      "byteLimit": 2048000,
      "rowLimit": 10000
     },
     "inputWidgets": {},
     "nuid": "dbb33d38-6939-4d3c-bdcf-e5322007ed7d",
     "showTitle": true,
     "title": "Data Cleaning - Invalid Values"
    }
   },
   "outputs": [
    {
     "output_type": "display_data",
     "data": {
      "text/html": [
       "<style scoped>\n",
       "  .ansiout {\n",
       "    display: block;\n",
       "    unicode-bidi: embed;\n",
       "    white-space: pre-wrap;\n",
       "    word-wrap: break-word;\n",
       "    word-break: break-all;\n",
       "    font-family: \"Source Code Pro\", \"Menlo\", monospace;;\n",
       "    font-size: 13px;\n",
       "    color: #555;\n",
       "    margin-left: 4px;\n",
       "    line-height: 19px;\n",
       "  }\n",
       "</style>\n",
       "<div class=\"ansiout\"></div>"
      ]
     },
     "metadata": {
      "application/vnd.databricks.v1+output": {
       "addedWidgets": {},
       "arguments": {},
       "data": "<div class=\"ansiout\"></div>",
       "datasetInfos": [],
       "metadata": {},
       "removedWidgets": [],
       "type": "html"
      }
     },
     "output_type": "display_data"
    }
   ],
   "source": [
    "from pyspark.sql.functions import col,when\n",
    "\n",
    "def replace_invalid_data(df,col_name,value_to_replace):\n",
    "    df = df.withColumn(col_name, \\\n",
    "            when(col(col_name).like(value_to_replace),None)\n",
    "            .otherwise(col(col_name)))\n",
    "    return df\n",
    "\n",
    "obj = {\n",
    "    \"description\": \"No description available%\",\n",
    "    \"follower_count\": \"User Info Error\",\n",
    "    \"image_src\": \"Image src error.\",\n",
    "    \"poster_name\": \"User Info Error\",\n",
    "    \"tag_list\": \"N,o, ,T,a,g,s, ,A,v,a,i,l,a,b,l,e\",\n",
    "    \"title\": \"No Title Data Available\"\n",
    "}\n",
    "\n",
    "for k,v in obj.items():\n",
    "        df_pin = replace_invalid_data(df_pin,k,v)"
   ]
  },
  {
   "cell_type": "code",
   "execution_count": 0,
   "metadata": {
    "application/vnd.databricks.v1+cell": {
     "cellMetadata": {
      "byteLimit": 2048000,
      "rowLimit": 10000
     },
     "inputWidgets": {},
     "nuid": "a449cfc3-4c49-4d2b-a58b-1129e3aae30a",
     "showTitle": false,
     "title": ""
    }
   },
   "outputs": [
    {
     "output_type": "display_data",
     "data": {
      "text/html": [
       "<style scoped>\n",
       "  .ansiout {\n",
       "    display: block;\n",
       "    unicode-bidi: embed;\n",
       "    white-space: pre-wrap;\n",
       "    word-wrap: break-word;\n",
       "    word-break: break-all;\n",
       "    font-family: \"Source Code Pro\", \"Menlo\", monospace;;\n",
       "    font-size: 13px;\n",
       "    color: #555;\n",
       "    margin-left: 4px;\n",
       "    line-height: 19px;\n",
       "  }\n",
       "</style>\n",
       "<div class=\"ansiout\"></div>"
      ]
     },
     "metadata": {
      "application/vnd.databricks.v1+output": {
       "addedWidgets": {},
       "arguments": {},
       "data": "<div class=\"ansiout\"></div>",
       "datasetInfos": [],
       "metadata": {},
       "removedWidgets": [],
       "type": "html"
      }
     },
     "output_type": "display_data"
    }
   ],
   "source": [
    "from pyspark.sql.functions import regexp_replace, regexp_extract\n",
    "\n",
    "## Replacing letters\n",
    "df_pin = df_pin.withColumn(\"follower_count\",regexp_replace(\"follower_count\",\"k\",\"000\"))\n",
    "df_pin = df_pin.withColumn(\"follower_count\",regexp_replace(\"follower_count\",\"M\",\"000000\"))\n",
    "\n",
    "## Converting datatype\n",
    "df_pin = df_pin.withColumn(\"follower_count\", col(\"follower_count\").cast(\"int\"))\n",
    "\n",
    "## Removing unwanted strings from save_location column\n",
    "df_pin = df_pin.withColumn(\"save_location\", regexp_replace(\"save_location\", \"Local save in \", \"\"))\n",
    "\n",
    "## Renaming column\n",
    "df_pin = df_pin.withColumnRenamed(\"index\",\"ind\")\n",
    "\n",
    "## Creating new column order\n",
    "new_pin_column_order = [\n",
    "    \"ind\",\n",
    "    \"unique_id\",\n",
    "    \"title\",\n",
    "    \"description\",\n",
    "    \"follower_count\",\n",
    "    \"poster_name\",\n",
    "    \"tag_list\",\n",
    "    \"is_image_or_video\",\n",
    "    \"image_src\",\n",
    "    \"save_location\",\n",
    "    \"category\"\n",
    "]\n",
    "df_pin = df_pin.select(new_pin_column_order)"
   ]
  },
  {
   "cell_type": "code",
   "execution_count": 0,
   "metadata": {
    "application/vnd.databricks.v1+cell": {
     "cellMetadata": {
      "byteLimit": 2048000,
      "rowLimit": 10000
     },
     "inputWidgets": {},
     "nuid": "dbf7b5cd-f1c4-46a9-9818-d42c3c9ea38c",
     "showTitle": false,
     "title": ""
    }
   },
   "outputs": [
    {
     "output_type": "display_data",
     "data": {
      "text/html": [
       "<style scoped>\n",
       "  .ansiout {\n",
       "    display: block;\n",
       "    unicode-bidi: embed;\n",
       "    white-space: pre-wrap;\n",
       "    word-wrap: break-word;\n",
       "    word-break: break-all;\n",
       "    font-family: \"Source Code Pro\", \"Menlo\", monospace;;\n",
       "    font-size: 13px;\n",
       "    color: #555;\n",
       "    margin-left: 4px;\n",
       "    line-height: 19px;\n",
       "  }\n",
       "</style>\n",
       "<div class=\"ansiout\">root\n",
       "-- ind: long (nullable = true)\n",
       "-- unique_id: string (nullable = true)\n",
       "-- title: string (nullable = true)\n",
       "-- description: string (nullable = true)\n",
       "-- follower_count: integer (nullable = true)\n",
       "-- poster_name: string (nullable = true)\n",
       "-- tag_list: string (nullable = true)\n",
       "-- is_image_or_video: string (nullable = true)\n",
       "-- image_src: string (nullable = true)\n",
       "-- save_location: string (nullable = true)\n",
       "-- category: string (nullable = true)\n",
       "\n",
       "</div>"
      ]
     },
     "metadata": {
      "application/vnd.databricks.v1+output": {
       "addedWidgets": {},
       "arguments": {},
       "data": "<div class=\"ansiout\">root\n |-- ind: long (nullable = true)\n |-- unique_id: string (nullable = true)\n |-- title: string (nullable = true)\n |-- description: string (nullable = true)\n |-- follower_count: integer (nullable = true)\n |-- poster_name: string (nullable = true)\n |-- tag_list: string (nullable = true)\n |-- is_image_or_video: string (nullable = true)\n |-- image_src: string (nullable = true)\n |-- save_location: string (nullable = true)\n |-- category: string (nullable = true)\n\n</div>",
       "datasetInfos": [],
       "metadata": {},
       "removedWidgets": [],
       "type": "html"
      }
     },
     "output_type": "display_data"
    }
   ],
   "source": [
    "df_pin.printSchema()"
   ]
  },
  {
   "cell_type": "code",
   "execution_count": 0,
   "metadata": {
    "application/vnd.databricks.v1+cell": {
     "cellMetadata": {
      "byteLimit": 2048000,
      "rowLimit": 10000
     },
     "inputWidgets": {},
     "nuid": "3a661275-b8ea-432c-93a1-d6329e1ad8a0",
     "showTitle": true,
     "title": "Cleaning Geolocation Data - Missing Data"
    }
   },
   "outputs": [
    {
     "output_type": "display_data",
     "data": {
      "text/html": [
       "<style scoped>\n",
       "  .ansiout {\n",
       "    display: block;\n",
       "    unicode-bidi: embed;\n",
       "    white-space: pre-wrap;\n",
       "    word-wrap: break-word;\n",
       "    word-break: break-all;\n",
       "    font-family: \"Source Code Pro\", \"Menlo\", monospace;;\n",
       "    font-size: 13px;\n",
       "    color: #555;\n",
       "    margin-left: 4px;\n",
       "    line-height: 19px;\n",
       "  }\n",
       "</style>\n",
       "<div class=\"ansiout\">country StringType: 0\n",
       "ind LongType: 0\n",
       "latitude DoubleType: 0\n",
       "longitude DoubleType: 0\n",
       "timestamp StringType: 0\n",
       "</div>"
      ]
     },
     "metadata": {
      "application/vnd.databricks.v1+output": {
       "addedWidgets": {},
       "arguments": {},
       "data": "<div class=\"ansiout\">country StringType: 0\nind LongType: 0\nlatitude DoubleType: 0\nlongitude DoubleType: 0\ntimestamp StringType: 0\n</div>",
       "datasetInfos": [],
       "metadata": {},
       "removedWidgets": [],
       "type": "html"
      }
     },
     "output_type": "display_data"
    }
   ],
   "source": [
    "get_missing_vals(df_geo)"
   ]
  },
  {
   "cell_type": "code",
   "execution_count": 0,
   "metadata": {
    "application/vnd.databricks.v1+cell": {
     "cellMetadata": {
      "byteLimit": 2048000,
      "rowLimit": 10000
     },
     "inputWidgets": {},
     "nuid": "49e557a6-28fc-42b4-84a7-8d1186f4f5c9",
     "showTitle": false,
     "title": ""
    }
   },
   "outputs": [
    {
     "output_type": "display_data",
     "data": {
      "text/html": [
       "<style scoped>\n",
       "  .ansiout {\n",
       "    display: block;\n",
       "    unicode-bidi: embed;\n",
       "    white-space: pre-wrap;\n",
       "    word-wrap: break-word;\n",
       "    word-break: break-all;\n",
       "    font-family: \"Source Code Pro\", \"Menlo\", monospace;;\n",
       "    font-size: 13px;\n",
       "    color: #555;\n",
       "    margin-left: 4px;\n",
       "    line-height: 19px;\n",
       "  }\n",
       "</style>\n",
       "<div class=\"ansiout\">root\n",
       "-- ind: long (nullable = true)\n",
       "-- country: string (nullable = true)\n",
       "-- coordinates: array (nullable = false)\n",
       "    |-- element: string (containsNull = false)\n",
       "-- timestamp: timestamp (nullable = true)\n",
       "\n",
       "</div>"
      ]
     },
     "metadata": {
      "application/vnd.databricks.v1+output": {
       "addedWidgets": {},
       "arguments": {},
       "data": "<div class=\"ansiout\">root\n |-- ind: long (nullable = true)\n |-- country: string (nullable = true)\n |-- coordinates: array (nullable = false)\n |    |-- element: string (containsNull = false)\n |-- timestamp: timestamp (nullable = true)\n\n</div>",
       "datasetInfos": [],
       "metadata": {},
       "removedWidgets": [],
       "type": "html"
      }
     },
     "output_type": "display_data"
    }
   ],
   "source": [
    "## Creating new column based on longitude and latitude, placing both values in an array\n",
    "df_geo = df_geo.withColumn(\"coordinates\",array(concat_ws(\",\",col(\"latitude\"),col(\"longitude\"))))\n",
    "\n",
    "## Dropping longitude and latitude columns\n",
    "df_geo = df_geo.drop(\"latitude\",\"longitude\")\n",
    "\n",
    "## Converting timestamp column datatype\n",
    "df_geo = df_geo.withColumn(\"timestamp\",col(\"timestamp\").cast(\"timestamp\"))\n",
    "\n",
    "## Re-ordering Dataframe\n",
    "new_geo_column_order = [\n",
    "    \"ind\",\n",
    "    \"country\",\n",
    "    \"coordinates\",\n",
    "    \"timestamp\"\n",
    "]\n",
    "\n",
    "df_geo = df_geo.select(new_geo_column_order)\n",
    "\n",
    "df_geo.printSchema()"
   ]
  },
  {
   "cell_type": "code",
   "execution_count": 0,
   "metadata": {
    "application/vnd.databricks.v1+cell": {
     "cellMetadata": {
      "byteLimit": 2048000,
      "rowLimit": 10000
     },
     "inputWidgets": {},
     "nuid": "0006fcc7-b0a6-4a93-b9e1-b382413d174f",
     "showTitle": true,
     "title": "Cleaning User Data - Missing Data"
    }
   },
   "outputs": [
    {
     "output_type": "display_data",
     "data": {
      "text/html": [
       "<style scoped>\n",
       "  .ansiout {\n",
       "    display: block;\n",
       "    unicode-bidi: embed;\n",
       "    white-space: pre-wrap;\n",
       "    word-wrap: break-word;\n",
       "    word-break: break-all;\n",
       "    font-family: \"Source Code Pro\", \"Menlo\", monospace;;\n",
       "    font-size: 13px;\n",
       "    color: #555;\n",
       "    margin-left: 4px;\n",
       "    line-height: 19px;\n",
       "  }\n",
       "</style>\n",
       "<div class=\"ansiout\">age LongType: 0\n",
       "date_joined StringType: 0\n",
       "first_name StringType: 0\n",
       "ind LongType: 0\n",
       "last_name StringType: 0\n",
       "</div>"
      ]
     },
     "metadata": {
      "application/vnd.databricks.v1+output": {
       "addedWidgets": {},
       "arguments": {},
       "data": "<div class=\"ansiout\">age LongType: 0\ndate_joined StringType: 0\nfirst_name StringType: 0\nind LongType: 0\nlast_name StringType: 0\n</div>",
       "datasetInfos": [],
       "metadata": {},
       "removedWidgets": [],
       "type": "html"
      }
     },
     "output_type": "display_data"
    }
   ],
   "source": [
    "get_missing_vals(df_user)"
   ]
  },
  {
   "cell_type": "code",
   "execution_count": 0,
   "metadata": {
    "application/vnd.databricks.v1+cell": {
     "cellMetadata": {
      "byteLimit": 2048000,
      "rowLimit": 10000
     },
     "inputWidgets": {},
     "nuid": "2916b9cd-74b0-434e-97d5-df3c057a7bca",
     "showTitle": false,
     "title": ""
    }
   },
   "outputs": [
    {
     "output_type": "display_data",
     "data": {
      "text/html": [
       "<style scoped>\n",
       "  .ansiout {\n",
       "    display: block;\n",
       "    unicode-bidi: embed;\n",
       "    white-space: pre-wrap;\n",
       "    word-wrap: break-word;\n",
       "    word-break: break-all;\n",
       "    font-family: \"Source Code Pro\", \"Menlo\", monospace;;\n",
       "    font-size: 13px;\n",
       "    color: #555;\n",
       "    margin-left: 4px;\n",
       "    line-height: 19px;\n",
       "  }\n",
       "</style>\n",
       "<div class=\"ansiout\">root\n",
       "-- ind: long (nullable = true)\n",
       "-- user_name: string (nullable = false)\n",
       "-- age: long (nullable = true)\n",
       "-- date_joined: timestamp (nullable = true)\n",
       "\n",
       "</div>"
      ]
     },
     "metadata": {
      "application/vnd.databricks.v1+output": {
       "addedWidgets": {},
       "arguments": {},
       "data": "<div class=\"ansiout\">root\n |-- ind: long (nullable = true)\n |-- user_name: string (nullable = false)\n |-- age: long (nullable = true)\n |-- date_joined: timestamp (nullable = true)\n\n</div>",
       "datasetInfos": [],
       "metadata": {},
       "removedWidgets": [],
       "type": "html"
      }
     },
     "output_type": "display_data"
    }
   ],
   "source": [
    "## Creating new column based on first_name and last_name\n",
    "df_user = df_user.withColumn(\"user_name\",concat_ws(\" \",col(\"first_name\"),col(\"last_name\")))\n",
    "\n",
    "## Dropping first_name and last_name columns\n",
    "df_user = df_user.drop(\"first_name\",\"last_name\")\n",
    "\n",
    "## Converting timestamp column datatype\n",
    "df_user = df_user.withColumn(\"date_joined\",col(\"date_joined\").cast(\"timestamp\"))\n",
    "\n",
    "## Re-ordering Dataframe\n",
    "new_user_column_order = [\n",
    "    \"ind\",\n",
    "    \"user_name\",\n",
    "    \"age\",\n",
    "    \"date_joined\"\n",
    "]\n",
    "\n",
    "df_user = df_user.select(new_user_column_order)\n",
    "\n",
    "df_user.printSchema()"
   ]
  },
  {
   "cell_type": "code",
   "execution_count": 0,
   "metadata": {
    "application/vnd.databricks.v1+cell": {
     "cellMetadata": {
      "byteLimit": 2048000,
      "rowLimit": 10000
     },
     "inputWidgets": {},
     "nuid": "3fae8625-f14f-4686-a9ce-ece1706afafc",
     "showTitle": true,
     "title": "Data Exploration - 1"
    }
   },
   "outputs": [
    {
     "output_type": "display_data",
     "data": {
      "text/html": [
       "<style scoped>\n",
       "  .ansiout {\n",
       "    display: block;\n",
       "    unicode-bidi: embed;\n",
       "    white-space: pre-wrap;\n",
       "    word-wrap: break-word;\n",
       "    word-break: break-all;\n",
       "    font-family: \"Source Code Pro\", \"Menlo\", monospace;;\n",
       "    font-size: 13px;\n",
       "    color: #555;\n",
       "    margin-left: 4px;\n",
       "    line-height: 19px;\n",
       "  }\n",
       "</style>\n",
       "<div class=\"ansiout\"></div>"
      ]
     },
     "metadata": {
      "application/vnd.databricks.v1+output": {
       "addedWidgets": {},
       "arguments": {},
       "data": "<div class=\"ansiout\"></div>",
       "datasetInfos": [],
       "metadata": {},
       "removedWidgets": [],
       "type": "html"
      }
     },
     "output_type": "display_data"
    }
   ],
   "source": [
    "# import for performing window functions\n",
    "from pyspark.sql.window import Window\n",
    "# join df_pin and df_geo dataframes on index\n",
    "pin_geo = df_pin.join(df_geo, df_pin.ind == df_geo.ind)\n",
    "# join df_pin and df_user and create temp view for SQL query\n",
    "df_pin.join(df_user, df_pin.ind == df_user.ind).createOrReplaceTempView(\"category_age\")\n",
    "# SQL query to create age group column\n",
    "pin_user_age_group = spark.sql(\n",
    "    \"SELECT CASE \\\n",
    "        WHEN age between 18 and 24 then '18-24' \\\n",
    "        WHEN age between 25 and 35 then '25-35' \\\n",
    "        WHEN age between 36 and 50 then '36-50' \\\n",
    "        WHEN age > 50 then '50+' \\\n",
    "        END as age_group, * FROM category_age\")\n",
    "\n",
    "\n"
   ]
  },
  {
   "cell_type": "code",
   "execution_count": 0,
   "metadata": {
    "application/vnd.databricks.v1+cell": {
     "cellMetadata": {
      "byteLimit": 2048000,
      "rowLimit": 10000
     },
     "inputWidgets": {},
     "nuid": "f1a48aaa-29c9-4219-94ce-04bfd68a6c42",
     "showTitle": true,
     "title": "Most Popular Category in each category"
    }
   },
   "outputs": [
    {
     "output_type": "display_data",
     "data": {
      "text/html": [
       "<style scoped>\n",
       "  .ansiout {\n",
       "    display: block;\n",
       "    unicode-bidi: embed;\n",
       "    white-space: pre-wrap;\n",
       "    word-wrap: break-word;\n",
       "    word-break: break-all;\n",
       "    font-family: \"Source Code Pro\", \"Menlo\", monospace;;\n",
       "    font-size: 13px;\n",
       "    color: #555;\n",
       "    margin-left: 4px;\n",
       "    line-height: 19px;\n",
       "  }\n",
       "</style>\n",
       "<div class=\"ansiout\">+--------------------+--------------+--------------+\n",
       "             country|      category|category_count|\n",
       "+--------------------+--------------+--------------+\n",
       "         Afghanistan|     education|             5|\n",
       "             Albania|        beauty|             5|\n",
       "             Algeria|        quotes|             8|\n",
       "      American Samoa|       tattoos|             3|\n",
       "             Andorra|       tattoos|             4|\n",
       "              Angola|diy-and-crafts|             2|\n",
       "            Anguilla|diy-and-crafts|             2|\n",
       "Antarctica (the t...|       tattoos|             2|\n",
       " Antigua and Barbuda|     christmas|             5|\n",
       "           Argentina|       tattoos|             3|\n",
       "             Armenia|diy-and-crafts|             4|\n",
       "               Aruba|  mens-fashion|             5|\n",
       "           Australia|  mens-fashion|             2|\n",
       "             Austria|        travel|             2|\n",
       "          Azerbaijan|event-planning|             2|\n",
       "             Bahamas|event-planning|             1|\n",
       "             Bahrain|        travel|             1|\n",
       "          Bangladesh|     christmas|             2|\n",
       "            Barbados|     education|             2|\n",
       "             Belarus|      vehicles|             1|\n",
       "+--------------------+--------------+--------------+\n",
       "only showing top 20 rows\n",
       "\n",
       "</div>"
      ]
     },
     "metadata": {
      "application/vnd.databricks.v1+output": {
       "addedWidgets": {},
       "arguments": {},
       "data": "<div class=\"ansiout\">+--------------------+--------------+--------------+\n|             country|      category|category_count|\n+--------------------+--------------+--------------+\n|         Afghanistan|     education|             5|\n|             Albania|        beauty|             5|\n|             Algeria|        quotes|             8|\n|      American Samoa|       tattoos|             3|\n|             Andorra|       tattoos|             4|\n|              Angola|diy-and-crafts|             2|\n|            Anguilla|diy-and-crafts|             2|\n|Antarctica (the t...|       tattoos|             2|\n| Antigua and Barbuda|     christmas|             5|\n|           Argentina|       tattoos|             3|\n|             Armenia|diy-and-crafts|             4|\n|               Aruba|  mens-fashion|             5|\n|           Australia|  mens-fashion|             2|\n|             Austria|        travel|             2|\n|          Azerbaijan|event-planning|             2|\n|             Bahamas|event-planning|             1|\n|             Bahrain|        travel|             1|\n|          Bangladesh|     christmas|             2|\n|            Barbados|     education|             2|\n|             Belarus|      vehicles|             1|\n+--------------------+--------------+--------------+\nonly showing top 20 rows\n\n</div>",
       "datasetInfos": [],
       "metadata": {},
       "removedWidgets": [],
       "type": "html"
      }
     },
     "output_type": "display_data"
    }
   ],
   "source": [
    "# create partition by country and order by category_count descending\n",
    "windowCountryByCatCount = Window.partitionBy(\"country\").orderBy(col(\"category_count\").desc())\n",
    "# find the most popular category in each country\n",
    "pin_geo.groupBy(\"country\", \"category\") \\\n",
    ".agg(count(\"category\") \\\n",
    ".alias(\"category_count\")) \\\n",
    ".withColumn(\"rank\", row_number().over(windowCountryByCatCount)) \\\n",
    ".filter(col(\"rank\") == 1) \\\n",
    ".drop(\"rank\") \\\n",
    ".show()\n",
    "\n"
   ]
  },
  {
   "cell_type": "code",
   "execution_count": 0,
   "metadata": {
    "application/vnd.databricks.v1+cell": {
     "cellMetadata": {
      "byteLimit": 2048000,
      "rowLimit": 10000
     },
     "inputWidgets": {},
     "nuid": "58455856-fa7c-4799-ad3e-d4542461ef6d",
     "showTitle": true,
     "title": "Most Popular Category by year"
    }
   },
   "outputs": [
    {
     "output_type": "display_data",
     "data": {
      "text/html": [
       "<style scoped>\n",
       "  .ansiout {\n",
       "    display: block;\n",
       "    unicode-bidi: embed;\n",
       "    white-space: pre-wrap;\n",
       "    word-wrap: break-word;\n",
       "    word-break: break-all;\n",
       "    font-family: \"Source Code Pro\", \"Menlo\", monospace;;\n",
       "    font-size: 13px;\n",
       "    color: #555;\n",
       "    margin-left: 4px;\n",
       "    line-height: 19px;\n",
       "  }\n",
       "</style>\n",
       "<div class=\"ansiout\">+---------+--------------+--------------+\n",
       "post_year|      category|category_count|\n",
       "+---------+--------------+--------------+\n",
       "     2018|           art|            11|\n",
       "     2019|diy-and-crafts|            11|\n",
       "     2020|       finance|            10|\n",
       "     2021|        quotes|             9|\n",
       "     2022|        beauty|            12|\n",
       "+---------+--------------+--------------+\n",
       "\n",
       "</div>"
      ]
     },
     "metadata": {
      "application/vnd.databricks.v1+output": {
       "addedWidgets": {},
       "arguments": {},
       "data": "<div class=\"ansiout\">+---------+--------------+--------------+\n|post_year|      category|category_count|\n+---------+--------------+--------------+\n|     2018|           art|            11|\n|     2019|diy-and-crafts|            11|\n|     2020|       finance|            10|\n|     2021|        quotes|             9|\n|     2022|        beauty|            12|\n+---------+--------------+--------------+\n\n</div>",
       "datasetInfos": [],
       "metadata": {},
       "removedWidgets": [],
       "type": "html"
      }
     },
     "output_type": "display_data"
    }
   ],
   "source": [
    "\n",
    "\n",
    "# create partition by year and order by category_count descending\n",
    "windowYearByCatCount = Window.partitionBy(\"post_year\").orderBy(col(\"category_count\").desc())\n",
    "# find which was the most popular category each year between 2018 and 2022\n",
    "pin_geo.withColumn(\"post_year\", year(\"timestamp\")) \\\n",
    ".filter(col(\"post_year\") >= 2018) \\\n",
    ".filter(col(\"post_year\") <= 2022) \\\n",
    ".groupBy(\"post_year\", \"category\") \\\n",
    ".agg(count(\"category\").alias(\"category_count\")) \\\n",
    ".withColumn(\"rank\", row_number().over(windowYearByCatCount)) \\\n",
    ".filter(col(\"rank\") == 1) \\\n",
    ".drop(\"rank\") \\\n",
    ".show()\n",
    "\n"
   ]
  },
  {
   "cell_type": "code",
   "execution_count": 0,
   "metadata": {
    "application/vnd.databricks.v1+cell": {
     "cellMetadata": {
      "byteLimit": 2048000,
      "rowLimit": 10000
     },
     "inputWidgets": {},
     "nuid": "9371478e-0d51-48c2-8b79-a2aeebdb06fc",
     "showTitle": true,
     "title": "Find the user with the most followers in each country"
    }
   },
   "outputs": [
    {
     "output_type": "display_data",
     "data": {
      "text/html": [
       "<style scoped>\n",
       "  .ansiout {\n",
       "    display: block;\n",
       "    unicode-bidi: embed;\n",
       "    white-space: pre-wrap;\n",
       "    word-wrap: break-word;\n",
       "    word-break: break-all;\n",
       "    font-family: \"Source Code Pro\", \"Menlo\", monospace;;\n",
       "    font-size: 13px;\n",
       "    color: #555;\n",
       "    margin-left: 4px;\n",
       "    line-height: 19px;\n",
       "  }\n",
       "</style>\n",
       "<div class=\"ansiout\">+--------------------+--------------------+--------------+\n",
       "             country|         poster_name|follower_count|\n",
       "+--------------------+--------------------+--------------+\n",
       "         Afghanistan|                9GAG|       3000000|\n",
       "             Albania|   The Minds Journal|       5000000|\n",
       "             Algeria|           YourTango|        942000|\n",
       "      American Samoa|         Mamas Uncut|       8000000|\n",
       "             Andorra|Teachers Pay Teac...|       1000000|\n",
       "              Angola|           Tastemade|       8000000|\n",
       "            Anguilla|Kristen | Lifesty...|         92000|\n",
       "Antarctica (the t...|          Refinery29|       1000000|\n",
       " Antigua and Barbuda|Country Living Ma...|       1000000|\n",
       "           Argentina|         Next Luxury|        800000|\n",
       "             Armenia|Michelle {CraftyM...|        892000|\n",
       "               Aruba|         GQ Magazine|        874000|\n",
       "           Australia|   Cultura Colectiva|       1000000|\n",
       "             Austria|Totschooling | To...|        161000|\n",
       "          Azerbaijan|     Style Me Pretty|       6000000|\n",
       "             Bahamas|The Kitchen Table...|        221000|\n",
       "             Bahrain|R.J. Weiss at The...|         46000|\n",
       "          Bangladesh|Better Homes and ...|       4000000|\n",
       "            Barbados|The Creativity Ex...|        410000|\n",
       "             Belarus|           Ricky Lee|           709|\n",
       "+--------------------+--------------------+--------------+\n",
       "only showing top 20 rows\n",
       "\n",
       "+--------------+-----------+--------------+\n",
       "       country|poster_name|follower_count|\n",
       "+--------------+-----------+--------------+\n",
       "American Samoa|Mamas Uncut|       8000000|\n",
       "        Angola|  Tastemade|       8000000|\n",
       "+--------------+-----------+--------------+\n",
       "\n",
       "</div>"
      ]
     },
     "metadata": {
      "application/vnd.databricks.v1+output": {
       "addedWidgets": {},
       "arguments": {},
       "data": "<div class=\"ansiout\">+--------------------+--------------------+--------------+\n|             country|         poster_name|follower_count|\n+--------------------+--------------------+--------------+\n|         Afghanistan|                9GAG|       3000000|\n|             Albania|   The Minds Journal|       5000000|\n|             Algeria|           YourTango|        942000|\n|      American Samoa|         Mamas Uncut|       8000000|\n|             Andorra|Teachers Pay Teac...|       1000000|\n|              Angola|           Tastemade|       8000000|\n|            Anguilla|Kristen | Lifesty...|         92000|\n|Antarctica (the t...|          Refinery29|       1000000|\n| Antigua and Barbuda|Country Living Ma...|       1000000|\n|           Argentina|         Next Luxury|        800000|\n|             Armenia|Michelle {CraftyM...|        892000|\n|               Aruba|         GQ Magazine|        874000|\n|           Australia|   Cultura Colectiva|       1000000|\n|             Austria|Totschooling | To...|        161000|\n|          Azerbaijan|     Style Me Pretty|       6000000|\n|             Bahamas|The Kitchen Table...|        221000|\n|             Bahrain|R.J. Weiss at The...|         46000|\n|          Bangladesh|Better Homes and ...|       4000000|\n|            Barbados|The Creativity Ex...|        410000|\n|             Belarus|           Ricky Lee|           709|\n+--------------------+--------------------+--------------+\nonly showing top 20 rows\n\n+--------------+-----------+--------------+\n|       country|poster_name|follower_count|\n+--------------+-----------+--------------+\n|American Samoa|Mamas Uncut|       8000000|\n|        Angola|  Tastemade|       8000000|\n+--------------+-----------+--------------+\n\n</div>",
       "datasetInfos": [],
       "metadata": {},
       "removedWidgets": [],
       "type": "html"
      }
     },
     "output_type": "display_data"
    }
   ],
   "source": [
    "\n",
    "\n",
    "# create partition by country and order by follower_count descending\n",
    "windowCountryByFollowers = Window.partitionBy(\"country\").orderBy(col(\"follower_count\").desc())\n",
    "\n",
    "# find the user with the most followers in each country\n",
    "max_followers_by_country = \\\n",
    "    df_pin.join(df_geo, df_pin.ind == df_geo.ind) \\\n",
    "    .withColumn(\"rank\", row_number().over(windowCountryByFollowers)) \\\n",
    "    .filter(col(\"rank\") == 1) \\\n",
    "    .select(\"country\", \"poster_name\", \"follower_count\")\n",
    "\n",
    "# get highest number of followers from all countries\n",
    "max_followers_all_countries = max_followers_by_country.select(max(\"follower_count\")).collect()[0][0]\n",
    "\n",
    "# find the country with the user with most followers\n",
    "country_with_max_followers = \\\n",
    "    max_followers_by_country \\\n",
    "    .select(\"*\") \\\n",
    "    .where(col(\"follower_count\") == max_followers_all_countries)\n",
    "\n",
    "max_followers_by_country.show()\n",
    "country_with_max_followers.show()\n",
    "\n"
   ]
  },
  {
   "cell_type": "code",
   "execution_count": 0,
   "metadata": {
    "application/vnd.databricks.v1+cell": {
     "cellMetadata": {
      "byteLimit": 2048000,
      "rowLimit": 10000
     },
     "inputWidgets": {},
     "nuid": "d283ebd0-761b-4497-9734-568f8149f00d",
     "showTitle": true,
     "title": "Most Popular Category for different age groups"
    },
    "jupyter": {
     "outputs_hidden": true
    }
   },
   "outputs": [
    {
     "output_type": "display_data",
     "data": {
      "text/html": [
       "<style scoped>\n",
       "  .ansiout {\n",
       "    display: block;\n",
       "    unicode-bidi: embed;\n",
       "    white-space: pre-wrap;\n",
       "    word-wrap: break-word;\n",
       "    word-break: break-all;\n",
       "    font-family: \"Source Code Pro\", \"Menlo\", monospace;;\n",
       "    font-size: 13px;\n",
       "    color: #555;\n",
       "    margin-left: 4px;\n",
       "    line-height: 19px;\n",
       "  }\n",
       "</style>\n",
       "<div class=\"ansiout\">+---------+--------+--------------+\n",
       "age_group|category|category_count|\n",
       "+---------+--------+--------------+\n",
       "    18-24| tattoos|            20|\n",
       "    25-35|  travel|            13|\n",
       "    36-50|  travel|            10|\n",
       "      50+|  beauty|             5|\n",
       "+---------+--------+--------------+\n",
       "\n",
       "</div>"
      ]
     },
     "metadata": {
      "application/vnd.databricks.v1+output": {
       "addedWidgets": {},
       "arguments": {},
       "data": "<div class=\"ansiout\">+---------+--------+--------------+\n|age_group|category|category_count|\n+---------+--------+--------------+\n|    18-24| tattoos|            20|\n|    25-35|  travel|            13|\n|    36-50|  travel|            10|\n|      50+|  beauty|             5|\n+---------+--------+--------------+\n\n</div>",
       "datasetInfos": [],
       "metadata": {},
       "removedWidgets": [],
       "type": "html"
      }
     },
     "output_type": "display_data"
    }
   ],
   "source": [
    "\n",
    "\n",
    "# create partition by age_group and order by category_count descending\n",
    "windowAgeGroup = Window.partitionBy(\"age_group\").orderBy(col(\"category_count\").desc())\n",
    "# find the most popular category for different age groups\n",
    "pin_user_age_group.groupBy(\"age_group\", \"category\") \\\n",
    ".agg(count(\"category\").alias(\"category_count\")) \\\n",
    ".withColumn(\"rank\", row_number().over(windowAgeGroup)) \\\n",
    ".filter(col(\"rank\") == 1) \\\n",
    ".drop(\"rank\") \\\n",
    ".show()\n",
    "\n"
   ]
  },
  {
   "cell_type": "code",
   "execution_count": 0,
   "metadata": {
    "application/vnd.databricks.v1+cell": {
     "cellMetadata": {
      "byteLimit": 2048000,
      "rowLimit": 10000
     },
     "inputWidgets": {},
     "nuid": "a8293682-741d-49f7-8a82-b8df87d52cb7",
     "showTitle": true,
     "title": "Median Follower count by different age groups"
    }
   },
   "outputs": [
    {
     "output_type": "display_data",
     "data": {
      "text/html": [
       "<style scoped>\n",
       "  .ansiout {\n",
       "    display: block;\n",
       "    unicode-bidi: embed;\n",
       "    white-space: pre-wrap;\n",
       "    word-wrap: break-word;\n",
       "    word-break: break-all;\n",
       "    font-family: \"Source Code Pro\", \"Menlo\", monospace;;\n",
       "    font-size: 13px;\n",
       "    color: #555;\n",
       "    margin-left: 4px;\n",
       "    line-height: 19px;\n",
       "  }\n",
       "</style>\n",
       "<div class=\"ansiout\">+---------+---------------------+\n",
       "age_group|median_follower_count|\n",
       "+---------+---------------------+\n",
       "    18-24|                60000|\n",
       "    25-35|                27000|\n",
       "    36-50|                 6000|\n",
       "      50+|                 1000|\n",
       "+---------+---------------------+\n",
       "\n",
       "</div>"
      ]
     },
     "metadata": {
      "application/vnd.databricks.v1+output": {
       "addedWidgets": {},
       "arguments": {},
       "data": "<div class=\"ansiout\">+---------+---------------------+\n|age_group|median_follower_count|\n+---------+---------------------+\n|    18-24|                60000|\n|    25-35|                27000|\n|    36-50|                 6000|\n|      50+|                 1000|\n+---------+---------------------+\n\n</div>",
       "datasetInfos": [],
       "metadata": {},
       "removedWidgets": [],
       "type": "html"
      }
     },
     "output_type": "display_data"
    }
   ],
   "source": [
    "\n",
    "\n",
    "# find the median follower count for different age groups\n",
    "pin_user_age_group \\\n",
    ".select(\"user_name\", \"date_joined\", \"age_group\", \"follower_count\") \\\n",
    ".distinct() \\\n",
    ".groupBy(\"age_group\") \\\n",
    ".agg(percentile_approx(\"follower_count\", 0.5).alias(\"median_follower_count\")) \\\n",
    ".orderBy(\"age_group\") \\\n",
    ".show()\n",
    "\n"
   ]
  },
  {
   "cell_type": "code",
   "execution_count": 0,
   "metadata": {
    "application/vnd.databricks.v1+cell": {
     "cellMetadata": {
      "byteLimit": 2048000,
      "rowLimit": 10000
     },
     "inputWidgets": {},
     "nuid": "49589cf1-fb17-4a17-bb27-46440d84ef33",
     "showTitle": true,
     "title": "Number of users joinning each year"
    }
   },
   "outputs": [
    {
     "output_type": "display_data",
     "data": {
      "text/html": [
       "<style scoped>\n",
       "  .ansiout {\n",
       "    display: block;\n",
       "    unicode-bidi: embed;\n",
       "    white-space: pre-wrap;\n",
       "    word-wrap: break-word;\n",
       "    word-break: break-all;\n",
       "    font-family: \"Source Code Pro\", \"Menlo\", monospace;;\n",
       "    font-size: 13px;\n",
       "    color: #555;\n",
       "    margin-left: 4px;\n",
       "    line-height: 19px;\n",
       "  }\n",
       "</style>\n",
       "<div class=\"ansiout\">+---------+-------------------+\n",
       "post_year|number_users_joined|\n",
       "+---------+-------------------+\n",
       "     2015|                107|\n",
       "     2016|                183|\n",
       "     2017|                 64|\n",
       "+---------+-------------------+\n",
       "\n",
       "</div>"
      ]
     },
     "metadata": {
      "application/vnd.databricks.v1+output": {
       "addedWidgets": {},
       "arguments": {},
       "data": "<div class=\"ansiout\">+---------+-------------------+\n|post_year|number_users_joined|\n+---------+-------------------+\n|     2015|                107|\n|     2016|                183|\n|     2017|                 64|\n+---------+-------------------+\n\n</div>",
       "datasetInfos": [],
       "metadata": {},
       "removedWidgets": [],
       "type": "html"
      }
     },
     "output_type": "display_data"
    }
   ],
   "source": [
    "\n",
    "\n",
    "# find out how many users joined each year\n",
    "df_user.withColumn(\"post_year\", year(\"date_joined\")) \\\n",
    ".drop(\"ind\") \\\n",
    ".distinct() \\\n",
    ".groupBy(\"post_year\") \\\n",
    ".agg(count(\"user_name\").alias(\"number_users_joined\")) \\\n",
    ".orderBy(\"post_year\") \\\n",
    ".show()\n",
    "\n"
   ]
  },
  {
   "cell_type": "code",
   "execution_count": 0,
   "metadata": {
    "application/vnd.databricks.v1+cell": {
     "cellMetadata": {
      "byteLimit": 2048000,
      "rowLimit": 10000
     },
     "inputWidgets": {},
     "nuid": "12bafa4a-ecfb-4ce5-bfc0-b5f8ab4426eb",
     "showTitle": true,
     "title": "Median follower count of users based on their joining year"
    }
   },
   "outputs": [
    {
     "output_type": "display_data",
     "data": {
      "text/html": [
       "<style scoped>\n",
       "  .ansiout {\n",
       "    display: block;\n",
       "    unicode-bidi: embed;\n",
       "    white-space: pre-wrap;\n",
       "    word-wrap: break-word;\n",
       "    word-break: break-all;\n",
       "    font-family: \"Source Code Pro\", \"Menlo\", monospace;;\n",
       "    font-size: 13px;\n",
       "    color: #555;\n",
       "    margin-left: 4px;\n",
       "    line-height: 19px;\n",
       "  }\n",
       "</style>\n",
       "<div class=\"ansiout\">+---------+---------------------+\n",
       "post_year|median_follower_count|\n",
       "+---------+---------------------+\n",
       "     2015|                59000|\n",
       "     2016|                19000|\n",
       "     2017|                 4000|\n",
       "+---------+---------------------+\n",
       "\n",
       "</div>"
      ]
     },
     "metadata": {
      "application/vnd.databricks.v1+output": {
       "addedWidgets": {},
       "arguments": {},
       "data": "<div class=\"ansiout\">+---------+---------------------+\n|post_year|median_follower_count|\n+---------+---------------------+\n|     2015|                59000|\n|     2016|                19000|\n|     2017|                 4000|\n+---------+---------------------+\n\n</div>",
       "datasetInfos": [],
       "metadata": {},
       "removedWidgets": [],
       "type": "html"
      }
     },
     "output_type": "display_data"
    }
   ],
   "source": [
    "\n",
    "\n",
    "# find the median follower count of users based on their joining year\n",
    "pin_user_age_group \\\n",
    ".select(\"user_name\", \"date_joined\", \"follower_count\") \\\n",
    ".distinct() \\\n",
    ".withColumn(\"post_year\", year(\"date_joined\")) \\\n",
    ".groupBy(\"post_year\") \\\n",
    ".agg(percentile_approx(\"follower_count\", 0.5).alias(\"median_follower_count\")) \\\n",
    ".orderBy(\"post_year\") \\\n",
    ".show()\n",
    "\n"
   ]
  },
  {
   "cell_type": "code",
   "execution_count": 0,
   "metadata": {
    "application/vnd.databricks.v1+cell": {
     "cellMetadata": {
      "byteLimit": 2048000,
      "rowLimit": 10000
     },
     "inputWidgets": {},
     "nuid": "f5d6680d-a3aa-4ea8-a4d7-869fe097de92",
     "showTitle": true,
     "title": "Median follower count of users that have joined between 2015 and 2020, based on which age group they are part of"
    }
   },
   "outputs": [
    {
     "output_type": "display_data",
     "data": {
      "text/html": [
       "<style scoped>\n",
       "  .ansiout {\n",
       "    display: block;\n",
       "    unicode-bidi: embed;\n",
       "    white-space: pre-wrap;\n",
       "    word-wrap: break-word;\n",
       "    word-break: break-all;\n",
       "    font-family: \"Source Code Pro\", \"Menlo\", monospace;;\n",
       "    font-size: 13px;\n",
       "    color: #555;\n",
       "    margin-left: 4px;\n",
       "    line-height: 19px;\n",
       "  }\n",
       "</style>\n",
       "<div class=\"ansiout\">+---------+---------+---------------------+\n",
       "post_year|age_group|median_follower_count|\n",
       "+---------+---------+---------------------+\n",
       "     2015|    18-24|               211000|\n",
       "     2015|    25-35|                42000|\n",
       "     2015|    36-50|                13000|\n",
       "     2015|      50+|                14000|\n",
       "     2016|    18-24|                46000|\n",
       "     2016|    25-35|                23000|\n",
       "     2016|    36-50|                 9000|\n",
       "     2016|      50+|                 1000|\n",
       "     2017|    18-24|                16000|\n",
       "     2017|    25-35|                 6000|\n",
       "     2017|    36-50|                 3000|\n",
       "     2017|      50+|                 1000|\n",
       "+---------+---------+---------------------+\n",
       "\n",
       "</div>"
      ]
     },
     "metadata": {
      "application/vnd.databricks.v1+output": {
       "addedWidgets": {},
       "arguments": {},
       "data": "<div class=\"ansiout\">+---------+---------+---------------------+\n|post_year|age_group|median_follower_count|\n+---------+---------+---------------------+\n|     2015|    18-24|               211000|\n|     2015|    25-35|                42000|\n|     2015|    36-50|                13000|\n|     2015|      50+|                14000|\n|     2016|    18-24|                46000|\n|     2016|    25-35|                23000|\n|     2016|    36-50|                 9000|\n|     2016|      50+|                 1000|\n|     2017|    18-24|                16000|\n|     2017|    25-35|                 6000|\n|     2017|    36-50|                 3000|\n|     2017|      50+|                 1000|\n+---------+---------+---------------------+\n\n</div>",
       "datasetInfos": [],
       "metadata": {},
       "removedWidgets": [],
       "type": "html"
      }
     },
     "output_type": "display_data"
    }
   ],
   "source": [
    "\n",
    "\n",
    "# find the median follower count of users that have joined between 2015 and 2020, based on which age group they are part of\n",
    "pin_user_age_group \\\n",
    ".select(\"user_name\", \"age_group\", \"date_joined\", \"follower_count\") \\\n",
    ".distinct() \\\n",
    ".withColumn(\"post_year\", year(\"date_joined\")) \\\n",
    ".groupBy(\"post_year\", \"age_group\") \\\n",
    ".agg(percentile_approx(\"follower_count\", 0.5).alias(\"median_follower_count\")) \\\n",
    ".orderBy(\"post_year\", \"age_group\") \\\n",
    ".show()\n",
    "\n"
   ]
  },
  {
   "cell_type": "code",
   "execution_count": 0,
   "metadata": {
    "application/vnd.databricks.v1+cell": {
     "cellMetadata": {},
     "inputWidgets": {},
     "nuid": "00fb4714-2706-4901-9664-59009701f76b",
     "showTitle": false,
     "title": ""
    }
   },
   "outputs": [],
   "source": [
    "dbutils.fs.unmount(\"/mnt/aws_data\")"
   ]
  }
 ],
 "metadata": {
  "application/vnd.databricks.v1+notebook": {
   "dashboards": [],
   "language": "python",
   "notebookMetadata": {
    "pythonIndentUnit": 4
   },
   "notebookName": "Batch_Processing_Pinterest",
   "widgets": {}
  }
 },
 "nbformat": 4,
 "nbformat_minor": 0
}
